{
 "cells": [
  {
   "cell_type": "markdown",
   "metadata": {},
   "source": [
    "# VacationPy\n",
    "----"
   ]
  },
  {
   "cell_type": "code",
   "execution_count": 1,
   "metadata": {},
   "outputs": [],
   "source": [
    "# Dependencies and Setup\n",
    "import matplotlib.pyplot as plt\n",
    "import pandas as pd\n",
    "import numpy as np\n",
    "import requests\n",
    "import gmaps\n",
    "import os\n",
    "import json\n",
    "import requests\n",
    "\n",
    "# Import API key\n",
    "from api_keys import g_key\n",
    "from api_keys import weather_api_key"
   ]
  },
  {
   "cell_type": "markdown",
   "metadata": {},
   "source": [
    "### Store Part I results into DataFrame\n",
    "* Load the csv exported in Part I to a DataFrame"
   ]
  },
  {
   "cell_type": "code",
   "execution_count": 2,
   "metadata": {},
   "outputs": [
    {
     "data": {
      "text/html": [
       "<div>\n",
       "<style scoped>\n",
       "    .dataframe tbody tr th:only-of-type {\n",
       "        vertical-align: middle;\n",
       "    }\n",
       "\n",
       "    .dataframe tbody tr th {\n",
       "        vertical-align: top;\n",
       "    }\n",
       "\n",
       "    .dataframe thead th {\n",
       "        text-align: right;\n",
       "    }\n",
       "</style>\n",
       "<table border=\"1\" class=\"dataframe\">\n",
       "  <thead>\n",
       "    <tr style=\"text-align: right;\">\n",
       "      <th></th>\n",
       "      <th>City</th>\n",
       "      <th>Cloudiness</th>\n",
       "      <th>Country</th>\n",
       "      <th>Date</th>\n",
       "      <th>Humidity</th>\n",
       "      <th>Lat</th>\n",
       "      <th>Lng</th>\n",
       "      <th>Max Temp</th>\n",
       "      <th>Wind Speed</th>\n",
       "      <th>Analysis Date</th>\n",
       "    </tr>\n",
       "  </thead>\n",
       "  <tbody>\n",
       "    <tr>\n",
       "      <th>0</th>\n",
       "      <td>Orán</td>\n",
       "      <td>90</td>\n",
       "      <td>AR</td>\n",
       "      <td>2020-03-15 18:32:03</td>\n",
       "      <td>81</td>\n",
       "      <td>-23.13</td>\n",
       "      <td>-64.33</td>\n",
       "      <td>81.0</td>\n",
       "      <td>1.99</td>\n",
       "      <td>2020-03-15</td>\n",
       "    </tr>\n",
       "    <tr>\n",
       "      <th>1</th>\n",
       "      <td>Albany</td>\n",
       "      <td>1</td>\n",
       "      <td>US</td>\n",
       "      <td>2020-03-15 18:29:18</td>\n",
       "      <td>24</td>\n",
       "      <td>42.60</td>\n",
       "      <td>-73.97</td>\n",
       "      <td>46.0</td>\n",
       "      <td>6.82</td>\n",
       "      <td>2020-03-15</td>\n",
       "    </tr>\n",
       "    <tr>\n",
       "      <th>2</th>\n",
       "      <td>Flin Flon</td>\n",
       "      <td>75</td>\n",
       "      <td>CA</td>\n",
       "      <td>2020-03-15 18:32:03</td>\n",
       "      <td>61</td>\n",
       "      <td>54.77</td>\n",
       "      <td>-101.86</td>\n",
       "      <td>14.0</td>\n",
       "      <td>9.17</td>\n",
       "      <td>2020-03-15</td>\n",
       "    </tr>\n",
       "    <tr>\n",
       "      <th>3</th>\n",
       "      <td>Marovoay</td>\n",
       "      <td>40</td>\n",
       "      <td>MG</td>\n",
       "      <td>2020-03-15 18:32:04</td>\n",
       "      <td>74</td>\n",
       "      <td>-16.10</td>\n",
       "      <td>46.63</td>\n",
       "      <td>82.4</td>\n",
       "      <td>9.17</td>\n",
       "      <td>2020-03-15</td>\n",
       "    </tr>\n",
       "    <tr>\n",
       "      <th>4</th>\n",
       "      <td>Havelock</td>\n",
       "      <td>90</td>\n",
       "      <td>US</td>\n",
       "      <td>2020-03-15 18:32:04</td>\n",
       "      <td>87</td>\n",
       "      <td>34.88</td>\n",
       "      <td>-76.90</td>\n",
       "      <td>52.0</td>\n",
       "      <td>13.87</td>\n",
       "      <td>2020-03-15</td>\n",
       "    </tr>\n",
       "  </tbody>\n",
       "</table>\n",
       "</div>"
      ],
      "text/plain": [
       "        City  Cloudiness Country                 Date  Humidity    Lat  \\\n",
       "0       Orán          90      AR  2020-03-15 18:32:03        81 -23.13   \n",
       "1     Albany           1      US  2020-03-15 18:29:18        24  42.60   \n",
       "2  Flin Flon          75      CA  2020-03-15 18:32:03        61  54.77   \n",
       "3   Marovoay          40      MG  2020-03-15 18:32:04        74 -16.10   \n",
       "4   Havelock          90      US  2020-03-15 18:32:04        87  34.88   \n",
       "\n",
       "      Lng  Max Temp  Wind Speed Analysis Date  \n",
       "0  -64.33      81.0        1.99    2020-03-15  \n",
       "1  -73.97      46.0        6.82    2020-03-15  \n",
       "2 -101.86      14.0        9.17    2020-03-15  \n",
       "3   46.63      82.4        9.17    2020-03-15  \n",
       "4  -76.90      52.0       13.87    2020-03-15  "
      ]
     },
     "execution_count": 2,
     "metadata": {},
     "output_type": "execute_result"
    }
   ],
   "source": [
    "# read the csv into a dataframe\n",
    "cities_df = pd.read_csv('../output_data/cities.csv', encoding=\"utf-8\")\n",
    "# drop any na rows\n",
    "cities_df.dropna()\n",
    "# Check the dataframe by examining just the head\n",
    "cities_df.head()"
   ]
  },
  {
   "cell_type": "markdown",
   "metadata": {},
   "source": [
    "### Humidity Heatmap\n",
    "* Configure gmaps.\n",
    "* Use the Lat and Lng as locations and Humidity as the weight.\n",
    "* Add Heatmap layer to map."
   ]
  },
  {
   "cell_type": "code",
   "execution_count": 3,
   "metadata": {},
   "outputs": [],
   "source": [
    "# Configure gmaps\n",
    "gmaps.configure(api_key=g_key)\n",
    "# Store latitude and longitude in locations\n",
    "locations = cities_df[[\"Lat\", \"Lng\"]]\n",
    "# Store humidity information in humidity\n",
    "humidity = cities_df[\"Humidity\"].astype(float)"
   ]
  },
  {
   "cell_type": "code",
   "execution_count": 4,
   "metadata": {},
   "outputs": [],
   "source": [
    "# Customize the size of the figure\n",
    "figure_layout = {\n",
    "    'width': '900px',\n",
    "    'height': '900px',\n",
    "    'border': '1px solid black',\n",
    "    'padding': '1px',\n",
    "    'margin': '0 auto 0 auto'\n",
    "}\n",
    "fig = gmaps.figure(layout=figure_layout)\n",
    "coordinates = cities_df[[\"Lat\", \"Lng\"]]"
   ]
  },
  {
   "cell_type": "code",
   "execution_count": 5,
   "metadata": {
    "scrolled": false
   },
   "outputs": [
    {
     "data": {
      "application/vnd.jupyter.widget-view+json": {
       "model_id": "f381d2f596db40aea567b03e7a48d8c3",
       "version_major": 2,
       "version_minor": 0
      },
      "text/plain": [
       "Figure(layout=FigureLayout(border='1px solid black', height='900px', margin='0 auto 0 auto', padding='1px', wi…"
      ]
     },
     "metadata": {},
     "output_type": "display_data"
    }
   ],
   "source": [
    "# Plot Heatmap\n",
    "fig = gmaps.figure(layout=figure_layout,center=(0.0, 0.0), zoom_level=1.8)\n",
    "\n",
    "# Create heatmap layer\n",
    "heat_layer = gmaps.heatmap_layer(coordinates, weights=humidity, \n",
    "                                 dissipating=False, max_intensity=max(humidity),\n",
    "                                 point_radius=1)\n",
    "\n",
    "# Add heatmap layer\n",
    "fig.add_layer(gmaps.heatmap_layer(coordinates, weights=humidity))\n",
    "\n",
    "# Display figure\n",
    "fig"
   ]
  },
  {
   "cell_type": "markdown",
   "metadata": {},
   "source": [
    "![]('map3.png')"
   ]
  },
  {
   "cell_type": "markdown",
   "metadata": {},
   "source": [
    "##### Example Output Map\n",
    "![](./images/heatmap.png)"
   ]
  },
  {
   "cell_type": "markdown",
   "metadata": {},
   "source": [
    "### Create new DataFrame fitting weather criteria\n",
    "* Narrow down the cities to fit weather conditions.\n",
    "* Drop any rows will null values."
   ]
  },
  {
   "cell_type": "code",
   "execution_count": 6,
   "metadata": {},
   "outputs": [],
   "source": [
    "# A max temperature lower than 80 degrees but higher than 65.\n",
    "# Wind speed less than 10 mph.\n",
    "# Zero cloudiness.\n",
    "# Drop any rows that don't contain all three conditions. You want to be sure the weather is ideal.\n",
    "hotel_df =   cities_df[(cities_df['Max Temp'] >= 70) \n",
    "          & (cities_df['Max Temp'] < 80) \n",
    "          & (cities_df['Wind Speed'] < 10)\n",
    "          & (cities_df['Cloudiness'] == 0)].reset_index()\n",
    "# set all the values to '' for hotel name\n",
    "hotel_df.insert(loc=1, column='Hotel Name', value=['' for i in range(hotel_df.shape[0])])\n",
    "#hotel_df"
   ]
  },
  {
   "cell_type": "markdown",
   "metadata": {},
   "source": [
    "### Hotel Map\n",
    "* Store into variable named `hotel_df`.\n",
    "* Add a \"Hotel Name\" column to the DataFrame.\n",
    "* Set parameters to search for hotels with 5000 meters.\n",
    "* Hit the Google Places API for each city's coordinates.\n",
    "* Store the first Hotel result into the DataFrame.\n",
    "* Plot markers on top of the heatmap."
   ]
  },
  {
   "cell_type": "code",
   "execution_count": 7,
   "metadata": {},
   "outputs": [
    {
     "name": "stdout",
     "output_type": "stream",
     "text": [
      "The closest hotel to the city of Manjacaze is the Hotel Gani.\n",
      "------------------------------------------------------------\n",
      "The closest hotel to the city of Aswān is the Sakn Aswan.\n",
      "------------------------------------------------------------\n",
      "The closest hotel to the city of Xalapa is the Papás de Roberto.\n",
      "------------------------------------------------------------\n",
      "The closest hotel to the city of Yulara is the Ayers Rock Campground.\n",
      "------------------------------------------------------------\n",
      "The closest hotel to the city of Umluj is the Moon light Furnished Units.\n",
      "------------------------------------------------------------\n",
      "*** Missing field/result... skipping entry. *** \n",
      "------------------------------------------------------------\n",
      "The closest hotel to the city of Marsh Harbour is the Ambassador Inn.\n",
      "------------------------------------------------------------\n",
      "The closest hotel to the city of Katherine is the Katherine Motel.\n",
      "------------------------------------------------------------\n",
      "*** Missing field/result... skipping entry. *** \n",
      "------------------------------------------------------------\n",
      "The closest hotel to the city of Kununurra is the Ivanhoe Village Caravan Resort.\n",
      "------------------------------------------------------------\n"
     ]
    }
   ],
   "source": [
    "base_url = \"https://maps.googleapis.com/maps/api/place/nearbysearch/json\"\n",
    "\n",
    "# Loop through each row finding the nearest hotel by lat,lng coordinates\n",
    "# and populate the 'Hotel Name' column with the closest hotel name\n",
    "# The hotel names are also printed to the screen\n",
    "\n",
    "for index, row in hotel_df.iterrows():\n",
    "    # put the lat,lng values into string location\n",
    "    # so it can help build the query\n",
    "    location = f\"{row['Lat']}, {row['Lng']}\"\n",
    "    # set up parameters\n",
    "    params = {\n",
    "        \"location\": location,  # city coords,\n",
    "        \"rankby\": \"distance\",\n",
    "        \"type\": \"lodging\",\n",
    "        \"key\": g_key,\n",
    "    }\n",
    "    \n",
    "    # print(params)   # for debugging    \n",
    "    # make the request\n",
    "    response = requests.get(base_url, params=params).json()\n",
    "   \n",
    "    # extract results\n",
    "    results = response['results']\n",
    "       \n",
    "    try:\n",
    "        print(f\"The closest hotel to the city of {row['City']} is the {results[0]['name']}.\")\n",
    "        hotel_df.loc[index, 'Hotel Name'] = {results[0]['name']}      \n",
    "    except (KeyError, IndexError):\n",
    "        print(\"*** Missing field/result... skipping entry. *** \")\n",
    "        \n",
    "    print(\"------------------------------------------------------------\")\n",
    "    \n",
    "#hotel_df['Hotel Name']\n",
    "#hotel_df"
   ]
  },
  {
   "cell_type": "code",
   "execution_count": 8,
   "metadata": {},
   "outputs": [],
   "source": [
    "hotel_df['Hotel Name'].replace('', np.nan,  inplace = True)\n",
    "hotel_df = hotel_df.dropna( ).reset_index()\n",
    "# hotel_df"
   ]
  },
  {
   "cell_type": "code",
   "execution_count": 9,
   "metadata": {},
   "outputs": [],
   "source": [
    "# NOTE: Do not change any of the code in this cell\n",
    "\n",
    "# Using the template add the hotel marks to the heatmap\n",
    "info_box_template = \"\"\"\n",
    "<dl>\n",
    "<dt>Name</dt><dd>{Hotel Name}</dd>\n",
    "<dt>City</dt><dd>{City}</dd>\n",
    "<dt>Country</dt><dd>{Country}</dd>\n",
    "</dl>\n",
    "\"\"\"\n",
    "# Store the DataFrame Row\n",
    "# NOTE: be sure to update with your DataFrame name\n",
    "hotel_info = [info_box_template.format(**row) for index, row in hotel_df.iterrows()]\n",
    "locations = hotel_df[[\"Lat\", \"Lng\"]]\n",
    "#locations  # for debugging\n",
    "    "
   ]
  },
  {
   "cell_type": "code",
   "execution_count": 10,
   "metadata": {},
   "outputs": [
    {
     "name": "stdout",
     "output_type": "stream",
     "text": [
      "8 hotels were located that match the ideal conditions provided\n"
     ]
    }
   ],
   "source": [
    "hotels_found = len(hotel_df['Hotel Name'])\n",
    "print(f\"{hotels_found} hotels were located that match the ideal conditions provided\")"
   ]
  },
  {
   "cell_type": "code",
   "execution_count": 11,
   "metadata": {},
   "outputs": [
    {
     "data": {
      "application/vnd.jupyter.widget-view+json": {
       "model_id": "f381d2f596db40aea567b03e7a48d8c3",
       "version_major": 2,
       "version_minor": 0
      },
      "text/plain": [
       "Figure(layout=FigureLayout(border='1px solid black', height='900px', margin='0 auto 0 auto', padding='1px', wi…"
      ]
     },
     "metadata": {},
     "output_type": "display_data"
    }
   ],
   "source": [
    "# Add marker layer ontop of heat map\n",
    "# Assign the marker layer to a variable\n",
    "markers = gmaps.marker_layer(locations, info_box_content=hotel_info, hover_text=hotel_df['Hotel Name'])\n",
    "# Add the layer to the map\n",
    "fig.add_layer(markers)\n",
    "\n",
    "# Display Map\n",
    "fig"
   ]
  },
  {
   "cell_type": "markdown",
   "metadata": {},
   "source": [
    "#### Example Output Maps\n",
    "![](./images/clickmap.png)"
   ]
  },
  {
   "cell_type": "markdown",
   "metadata": {},
   "source": [
    "### End of notebook"
   ]
  }
 ],
 "metadata": {
  "kernelspec": {
   "display_name": "Python 3",
   "language": "python",
   "name": "python3"
  },
  "language_info": {
   "codemirror_mode": {
    "name": "ipython",
    "version": 3
   },
   "file_extension": ".py",
   "mimetype": "text/x-python",
   "name": "python",
   "nbconvert_exporter": "python",
   "pygments_lexer": "ipython3",
   "version": "3.7.6"
  },
  "latex_envs": {
   "LaTeX_envs_menu_present": true,
   "autoclose": false,
   "autocomplete": true,
   "bibliofile": "biblio.bib",
   "cite_by": "apalike",
   "current_citInitial": 1,
   "eqLabelWithNumbers": true,
   "eqNumInitial": 1,
   "hotkeys": {
    "equation": "Ctrl-E",
    "itemize": "Ctrl-I"
   },
   "labels_anchors": false,
   "latex_user_defs": false,
   "report_style_numbering": false,
   "user_envs_cfg": false
  }
 },
 "nbformat": 4,
 "nbformat_minor": 2
}
