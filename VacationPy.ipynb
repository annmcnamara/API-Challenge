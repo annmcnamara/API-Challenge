{
 "cells": [
  {
   "cell_type": "markdown",
   "metadata": {},
   "source": [
    "# VacationPy\n",
    "----"
   ]
  },
  {
   "cell_type": "code",
   "execution_count": 1,
   "metadata": {},
   "outputs": [],
   "source": [
    "# Dependencies and Setup\n",
    "import matplotlib.pyplot as plt\n",
    "import pandas as pd\n",
    "import numpy as np\n",
    "import requests\n",
    "import gmaps\n",
    "import os\n",
    "import json\n",
    "import requests\n",
    "\n",
    "# Import API key\n",
    "from api_keys import g_key\n",
    "from api_keys import weather_api_key\n"
   ]
  },
  {
   "cell_type": "markdown",
   "metadata": {},
   "source": [
    "### Store Part I results into DataFrame\n",
    "* Load the csv exported in Part I to a DataFrame"
   ]
  },
  {
   "cell_type": "code",
   "execution_count": 2,
   "metadata": {},
   "outputs": [
    {
     "data": {
      "text/html": [
       "<div>\n",
       "<style scoped>\n",
       "    .dataframe tbody tr th:only-of-type {\n",
       "        vertical-align: middle;\n",
       "    }\n",
       "\n",
       "    .dataframe tbody tr th {\n",
       "        vertical-align: top;\n",
       "    }\n",
       "\n",
       "    .dataframe thead th {\n",
       "        text-align: right;\n",
       "    }\n",
       "</style>\n",
       "<table border=\"1\" class=\"dataframe\">\n",
       "  <thead>\n",
       "    <tr style=\"text-align: right;\">\n",
       "      <th></th>\n",
       "      <th>City</th>\n",
       "      <th>Cloudiness</th>\n",
       "      <th>Country</th>\n",
       "      <th>Date</th>\n",
       "      <th>Humidity</th>\n",
       "      <th>Lat</th>\n",
       "      <th>Lng</th>\n",
       "      <th>Max Temp</th>\n",
       "      <th>Wind Speed</th>\n",
       "    </tr>\n",
       "  </thead>\n",
       "  <tbody>\n",
       "    <tr>\n",
       "      <th>0</th>\n",
       "      <td>Mahébourg</td>\n",
       "      <td>40</td>\n",
       "      <td>MU</td>\n",
       "      <td>1584135073</td>\n",
       "      <td>94</td>\n",
       "      <td>-20.41</td>\n",
       "      <td>57.70</td>\n",
       "      <td>75.00</td>\n",
       "      <td>3.36</td>\n",
       "    </tr>\n",
       "    <tr>\n",
       "      <th>1</th>\n",
       "      <td>Tuktoyaktuk</td>\n",
       "      <td>75</td>\n",
       "      <td>CA</td>\n",
       "      <td>1584135073</td>\n",
       "      <td>85</td>\n",
       "      <td>69.45</td>\n",
       "      <td>-133.04</td>\n",
       "      <td>17.60</td>\n",
       "      <td>25.28</td>\n",
       "    </tr>\n",
       "    <tr>\n",
       "      <th>2</th>\n",
       "      <td>Manta</td>\n",
       "      <td>20</td>\n",
       "      <td>EC</td>\n",
       "      <td>1584135073</td>\n",
       "      <td>66</td>\n",
       "      <td>-0.95</td>\n",
       "      <td>-80.73</td>\n",
       "      <td>84.20</td>\n",
       "      <td>11.41</td>\n",
       "    </tr>\n",
       "    <tr>\n",
       "      <th>3</th>\n",
       "      <td>Kwang Binh</td>\n",
       "      <td>90</td>\n",
       "      <td>VN</td>\n",
       "      <td>1584135073</td>\n",
       "      <td>96</td>\n",
       "      <td>17.48</td>\n",
       "      <td>106.60</td>\n",
       "      <td>73.49</td>\n",
       "      <td>4.56</td>\n",
       "    </tr>\n",
       "    <tr>\n",
       "      <th>4</th>\n",
       "      <td>Jamestown</td>\n",
       "      <td>1</td>\n",
       "      <td>US</td>\n",
       "      <td>1584135073</td>\n",
       "      <td>48</td>\n",
       "      <td>42.10</td>\n",
       "      <td>-79.24</td>\n",
       "      <td>46.40</td>\n",
       "      <td>27.51</td>\n",
       "    </tr>\n",
       "  </tbody>\n",
       "</table>\n",
       "</div>"
      ],
      "text/plain": [
       "          City  Cloudiness Country        Date  Humidity    Lat     Lng  \\\n",
       "0    Mahébourg          40      MU  1584135073        94 -20.41   57.70   \n",
       "1  Tuktoyaktuk          75      CA  1584135073        85  69.45 -133.04   \n",
       "2        Manta          20      EC  1584135073        66  -0.95  -80.73   \n",
       "3   Kwang Binh          90      VN  1584135073        96  17.48  106.60   \n",
       "4    Jamestown           1      US  1584135073        48  42.10  -79.24   \n",
       "\n",
       "   Max Temp  Wind Speed  \n",
       "0     75.00        3.36  \n",
       "1     17.60       25.28  \n",
       "2     84.20       11.41  \n",
       "3     73.49        4.56  \n",
       "4     46.40       27.51  "
      ]
     },
     "execution_count": 2,
     "metadata": {},
     "output_type": "execute_result"
    }
   ],
   "source": [
    "# read the csv into a dataframe\n",
    "cities_df = pd.read_csv('./output_data/cities.csv', encoding=\"utf-8\")\n",
    "# drop any na rows\n",
    "cities_df.dropna()\n",
    "# Check the dataframe by examining just the head\n",
    "cities_df.head()"
   ]
  },
  {
   "cell_type": "markdown",
   "metadata": {},
   "source": [
    "### Humidity Heatmap\n",
    "* Configure gmaps.\n",
    "* Use the Lat and Lng as locations and Humidity as the weight.\n",
    "* Add Heatmap layer to map."
   ]
  },
  {
   "cell_type": "code",
   "execution_count": 3,
   "metadata": {},
   "outputs": [],
   "source": [
    "# Configure gmaps\n",
    "gmaps.configure(api_key=g_key)\n",
    "# Store latitude and longitude in locations\n",
    "locations = cities_df[[\"Lat\", \"Lng\"]]\n",
    "# Store humidity information in humidity\n",
    "humidity = cities_df[\"Humidity\"].astype(float)"
   ]
  },
  {
   "cell_type": "code",
   "execution_count": 4,
   "metadata": {},
   "outputs": [],
   "source": [
    "# Customize the size of the figure\n",
    "figure_layout = {\n",
    "    'width': '900px',\n",
    "    'height': '900px',\n",
    "    'border': '1px solid black',\n",
    "    'padding': '1px',\n",
    "    'margin': '0 auto 0 auto'\n",
    "}\n",
    "fig = gmaps.figure(layout=figure_layout)\n",
    "coordinates = cities_df[[\"Lat\", \"Lng\"]]"
   ]
  },
  {
   "cell_type": "code",
   "execution_count": 5,
   "metadata": {},
   "outputs": [
    {
     "data": {
      "application/vnd.jupyter.widget-view+json": {
       "model_id": "1f6032730c2349e4ad644eb186244ff6",
       "version_major": 2,
       "version_minor": 0
      },
      "text/plain": [
       "Figure(layout=FigureLayout(border='1px solid black', height='900px', margin='0 auto 0 auto', padding='1px', wi…"
      ]
     },
     "metadata": {},
     "output_type": "display_data"
    }
   ],
   "source": [
    "# Plot Heatmap\n",
    "fig = gmaps.figure(layout=figure_layout,center=(0.0, 0.0), zoom_level=1.8)\n",
    "\n",
    "# Create heatmap layer\n",
    "heat_layer = gmaps.heatmap_layer(coordinates, weights=humidity, \n",
    "                                 dissipating=False, max_intensity=max(humidity),\n",
    "                                 point_radius=1)\n",
    "\n",
    "# Add heatmap layer\n",
    "fig.add_layer(gmaps.heatmap_layer(coordinates, weights=humidity))\n",
    "\n",
    "# Display figure\n",
    "fig"
   ]
  },
  {
   "cell_type": "markdown",
   "metadata": {},
   "source": [
    "### Create new DataFrame fitting weather criteria\n",
    "* Narrow down the cities to fit weather conditions.\n",
    "* Drop any rows will null values."
   ]
  },
  {
   "cell_type": "code",
   "execution_count": 6,
   "metadata": {},
   "outputs": [],
   "source": [
    "# A max temperature lower than 80 degrees but higher than 65.\n",
    "# Wind speed less than 10 mph.\n",
    "# Zero cloudiness.\n",
    "# Drop any rows that don't contain all three conditions. You want to be sure the weather is ideal.\n",
    "hotel_df =   cities_df[(cities_df['Max Temp'] >= 76) \n",
    "          & (cities_df['Max Temp'] < 80) \n",
    "          & (cities_df['Wind Speed'] < 10)\n",
    "          & (cities_df['Cloudiness'] == 0)].reset_index()\n",
    "\n",
    "# set all the values to '' for hotel name\n",
    "hotel_df.insert(loc=1, column='Hotel Name', value=['' for i in range(hotel_df.shape[0])])\n",
    "#hotel_df"
   ]
  },
  {
   "cell_type": "markdown",
   "metadata": {},
   "source": [
    "### Hotel Map\n",
    "* Store into variable named `hotel_df`.\n",
    "* Add a \"Hotel Name\" column to the DataFrame.\n",
    "* Set parameters to search for hotels with 5000 meters.\n",
    "* Hit the Google Places API for each city's coordinates.\n",
    "* Store the first Hotel result into the DataFrame.\n",
    "* Plot markers on top of the heatmap."
   ]
  },
  {
   "cell_type": "code",
   "execution_count": 7,
   "metadata": {},
   "outputs": [
    {
     "name": "stdout",
     "output_type": "stream",
     "text": [
      "*** Missing field/result... skipping entry. *** \n",
      "------------------------------------------------------------\n",
      "The closest hotel to the city of Beira is the SCI Response Hub Office.\n",
      "------------------------------------------------------------\n",
      "The closest hotel to the city of Cidreira is the Pousada 591.\n",
      "------------------------------------------------------------\n",
      "The closest hotel to the city of Pandan is the Bonifacio Lodge.\n",
      "------------------------------------------------------------\n",
      "The closest hotel to the city of Moa is the Renta en Divisa.\n",
      "------------------------------------------------------------\n",
      "*** Missing field/result... skipping entry. *** \n",
      "------------------------------------------------------------\n",
      "The closest hotel to the city of Pompéia is the Isabel Sgorlon Mascarin.\n",
      "------------------------------------------------------------\n",
      "The closest hotel to the city of Guiglo is the Mission Internationale La Grande Moisson Guiglo.\n",
      "------------------------------------------------------------\n",
      "The closest hotel to the city of Rio Branco do Sul is the Di Rausis Hotel.\n",
      "------------------------------------------------------------\n",
      "The closest hotel to the city of Yulara is the Ayers Rock Campground.\n",
      "------------------------------------------------------------\n",
      "The closest hotel to the city of Port Hedland is the 1904 at The Esplanade Hotel.\n",
      "------------------------------------------------------------\n"
     ]
    }
   ],
   "source": [
    "base_url = \"https://maps.googleapis.com/maps/api/place/nearbysearch/json\"\n",
    "\n",
    "# Loop through each row finding the nearest hotel by lat,lng coordinates\n",
    "# and populate the 'Hotel Name' column with the closest hotel name\n",
    "# The hotel names are also printed to the screen\n",
    "\n",
    "for index, row in hotel_df.iterrows():\n",
    "    # put the lat,lng values into string location\n",
    "    # so it can help build the query\n",
    "    location = f\"{row['Lat']}, {row['Lng']}\"\n",
    "    # set up parameters\n",
    "    params = {\n",
    "        \"location\": location,  # city coords,\n",
    "        \"rankby\": \"distance\",\n",
    "        \"type\": \"lodging\",\n",
    "        \"key\": g_key,\n",
    "    }\n",
    "    \n",
    "    # print(params)   # for debugging    \n",
    "    # make the request\n",
    "    response = requests.get(base_url, params=params).json()\n",
    "   \n",
    "    # extract results\n",
    "    results = response['results']\n",
    "       \n",
    "    try:\n",
    "        print(f\"The closest hotel to the city of {row['City']} is the {results[0]['name']}.\")\n",
    "        hotel_df.loc[index, 'Hotel Name'] = {results[0]['name']}      \n",
    "    except (KeyError, IndexError):\n",
    "        print(\"*** Missing field/result... skipping entry. *** \")\n",
    "        \n",
    "    print(\"------------------------------------------------------------\")\n",
    "    \n",
    "#hotel_df['Hotel Name']\n",
    "#hotel_df"
   ]
  },
  {
   "cell_type": "code",
   "execution_count": 8,
   "metadata": {},
   "outputs": [],
   "source": [
    "hotel_df['Hotel Name'].replace('', np.nan,  inplace = True)\n",
    "hotel_df = hotel_df.dropna( ).reset_index()\n",
    "# hotel_df"
   ]
  },
  {
   "cell_type": "code",
   "execution_count": 9,
   "metadata": {},
   "outputs": [],
   "source": [
    "# NOTE: Do not change any of the code in this cell\n",
    "\n",
    "# Using the template add the hotel marks to the heatmap\n",
    "info_box_template = \"\"\"\n",
    "<dl>\n",
    "<dt>Name</dt><dd>{Hotel Name}</dd>\n",
    "<dt>City</dt><dd>{City}</dd>\n",
    "<dt>Country</dt><dd>{Country}</dd>\n",
    "</dl>\n",
    "\"\"\"\n",
    "# Store the DataFrame Row\n",
    "# NOTE: be sure to update with your DataFrame name\n",
    "hotel_info = [info_box_template.format(**row) for index, row in hotel_df.iterrows()]\n",
    "locations = hotel_df[[\"Lat\", \"Lng\"]]\n",
    "#locations  # for debugging\n",
    "    "
   ]
  },
  {
   "cell_type": "code",
   "execution_count": 10,
   "metadata": {},
   "outputs": [
    {
     "data": {
      "text/plain": [
       "9"
      ]
     },
     "execution_count": 10,
     "metadata": {},
     "output_type": "execute_result"
    }
   ],
   "source": [
    "len(hotel_df['Hotel Name'])"
   ]
  },
  {
   "cell_type": "code",
   "execution_count": 11,
   "metadata": {},
   "outputs": [
    {
     "data": {
      "application/vnd.jupyter.widget-view+json": {
       "model_id": "1f6032730c2349e4ad644eb186244ff6",
       "version_major": 2,
       "version_minor": 0
      },
      "text/plain": [
       "Figure(layout=FigureLayout(border='1px solid black', height='900px', margin='0 auto 0 auto', padding='1px', wi…"
      ]
     },
     "metadata": {},
     "output_type": "display_data"
    }
   ],
   "source": [
    "# Add marker layer ontop of heat map\n",
    "# Assign the marker layer to a variable\n",
    "markers = gmaps.marker_layer(locations, info_box_content=hotel_info, hover_text=hotel_df['Hotel Name'])\n",
    "# Add the layer to the map\n",
    "fig.add_layer(markers)\n",
    "\n",
    "# Display Map\n",
    "fig"
   ]
  },
  {
   "cell_type": "markdown",
   "metadata": {},
   "source": [
    "### End of notebook"
   ]
  }
 ],
 "metadata": {
  "kernelspec": {
   "display_name": "Python 3",
   "language": "python",
   "name": "python3"
  },
  "language_info": {
   "codemirror_mode": {
    "name": "ipython",
    "version": 3
   },
   "file_extension": ".py",
   "mimetype": "text/x-python",
   "name": "python",
   "nbconvert_exporter": "python",
   "pygments_lexer": "ipython3",
   "version": "3.7.6"
  },
  "latex_envs": {
   "LaTeX_envs_menu_present": true,
   "autoclose": false,
   "autocomplete": true,
   "bibliofile": "biblio.bib",
   "cite_by": "apalike",
   "current_citInitial": 1,
   "eqLabelWithNumbers": true,
   "eqNumInitial": 1,
   "hotkeys": {
    "equation": "Ctrl-E",
    "itemize": "Ctrl-I"
   },
   "labels_anchors": false,
   "latex_user_defs": false,
   "report_style_numbering": false,
   "user_envs_cfg": false
  }
 },
 "nbformat": 4,
 "nbformat_minor": 2
}
