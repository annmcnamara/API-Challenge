{
 "cells": [
  {
   "cell_type": "markdown",
   "metadata": {},
   "source": [
    "# VacationPy\n",
    "----"
   ]
  },
  {
   "cell_type": "code",
   "execution_count": 2,
   "metadata": {},
   "outputs": [],
   "source": [
    "# Dependencies and Setup\n",
    "import matplotlib.pyplot as plt\n",
    "import pandas as pd\n",
    "import numpy as np\n",
    "import requests\n",
    "import gmaps\n",
    "import os\n",
    "\n",
    "import json\n",
    "import requests\n",
    "\n",
    "# Import API key\n",
    "from api_keys import g_key\n",
    "from api_keys import weather_api_key\n"
   ]
  },
  {
   "cell_type": "markdown",
   "metadata": {},
   "source": [
    "### Store Part I results into DataFrame\n",
    "* Load the csv exported in Part I to a DataFrame"
   ]
  },
  {
   "cell_type": "code",
   "execution_count": 4,
   "metadata": {},
   "outputs": [
    {
     "data": {
      "text/html": [
       "<div>\n",
       "<style scoped>\n",
       "    .dataframe tbody tr th:only-of-type {\n",
       "        vertical-align: middle;\n",
       "    }\n",
       "\n",
       "    .dataframe tbody tr th {\n",
       "        vertical-align: top;\n",
       "    }\n",
       "\n",
       "    .dataframe thead th {\n",
       "        text-align: right;\n",
       "    }\n",
       "</style>\n",
       "<table border=\"1\" class=\"dataframe\">\n",
       "  <thead>\n",
       "    <tr style=\"text-align: right;\">\n",
       "      <th></th>\n",
       "      <th>Unnamed: 0</th>\n",
       "      <th>City</th>\n",
       "      <th>Cloudiness</th>\n",
       "      <th>Country</th>\n",
       "      <th>Date</th>\n",
       "      <th>Humidity</th>\n",
       "      <th>Lat</th>\n",
       "      <th>Lng</th>\n",
       "      <th>Max Temp</th>\n",
       "      <th>Wind Speed</th>\n",
       "    </tr>\n",
       "  </thead>\n",
       "  <tbody>\n",
       "    <tr>\n",
       "      <th>0</th>\n",
       "      <td>0</td>\n",
       "      <td>Tuktoyaktuk</td>\n",
       "      <td>90</td>\n",
       "      <td>CA</td>\n",
       "      <td>1584112497</td>\n",
       "      <td>77</td>\n",
       "      <td>69.45</td>\n",
       "      <td>-133.04</td>\n",
       "      <td>3.20</td>\n",
       "      <td>19.46</td>\n",
       "    </tr>\n",
       "    <tr>\n",
       "      <th>1</th>\n",
       "      <td>1</td>\n",
       "      <td>Tazmalt</td>\n",
       "      <td>100</td>\n",
       "      <td>DZ</td>\n",
       "      <td>1584112439</td>\n",
       "      <td>68</td>\n",
       "      <td>36.39</td>\n",
       "      <td>4.40</td>\n",
       "      <td>68.00</td>\n",
       "      <td>10.29</td>\n",
       "    </tr>\n",
       "    <tr>\n",
       "      <th>2</th>\n",
       "      <td>2</td>\n",
       "      <td>Naze</td>\n",
       "      <td>90</td>\n",
       "      <td>JP</td>\n",
       "      <td>1584112675</td>\n",
       "      <td>100</td>\n",
       "      <td>28.37</td>\n",
       "      <td>129.48</td>\n",
       "      <td>62.60</td>\n",
       "      <td>1.12</td>\n",
       "    </tr>\n",
       "    <tr>\n",
       "      <th>3</th>\n",
       "      <td>3</td>\n",
       "      <td>Burgeo</td>\n",
       "      <td>31</td>\n",
       "      <td>CA</td>\n",
       "      <td>1584112910</td>\n",
       "      <td>66</td>\n",
       "      <td>47.62</td>\n",
       "      <td>-57.62</td>\n",
       "      <td>23.63</td>\n",
       "      <td>7.65</td>\n",
       "    </tr>\n",
       "    <tr>\n",
       "      <th>4</th>\n",
       "      <td>4</td>\n",
       "      <td>Dunedin</td>\n",
       "      <td>30</td>\n",
       "      <td>NZ</td>\n",
       "      <td>1584112688</td>\n",
       "      <td>86</td>\n",
       "      <td>-45.87</td>\n",
       "      <td>170.50</td>\n",
       "      <td>52.00</td>\n",
       "      <td>4.88</td>\n",
       "    </tr>\n",
       "  </tbody>\n",
       "</table>\n",
       "</div>"
      ],
      "text/plain": [
       "   Unnamed: 0         City  Cloudiness Country        Date  Humidity    Lat  \\\n",
       "0           0  Tuktoyaktuk          90      CA  1584112497        77  69.45   \n",
       "1           1      Tazmalt         100      DZ  1584112439        68  36.39   \n",
       "2           2         Naze          90      JP  1584112675       100  28.37   \n",
       "3           3       Burgeo          31      CA  1584112910        66  47.62   \n",
       "4           4      Dunedin          30      NZ  1584112688        86 -45.87   \n",
       "\n",
       "      Lng  Max Temp  Wind Speed  \n",
       "0 -133.04      3.20       19.46  \n",
       "1    4.40     68.00       10.29  \n",
       "2  129.48     62.60        1.12  \n",
       "3  -57.62     23.63        7.65  \n",
       "4  170.50     52.00        4.88  "
      ]
     },
     "execution_count": 4,
     "metadata": {},
     "output_type": "execute_result"
    }
   ],
   "source": [
    "# read the csv into a dataframe\n",
    "cities_df = pd.read_csv('./citiesA.csv')\n",
    "# drop any na rows\n",
    "cities_df.dropna()\n",
    "# Check the dataframe by examining just the head\n",
    "cities_df.head()"
   ]
  },
  {
   "cell_type": "markdown",
   "metadata": {},
   "source": [
    "### Humidity Heatmap\n",
    "* Configure gmaps.\n",
    "* Use the Lat and Lng as locations and Humidity as the weight.\n",
    "* Add Heatmap layer to map."
   ]
  },
  {
   "cell_type": "code",
   "execution_count": 5,
   "metadata": {},
   "outputs": [],
   "source": [
    "# Configure gmaps\n",
    "gmaps.configure(api_key=g_key)\n",
    "# Store latitude and longitude in locations\n",
    "locations = cities_df[[\"Lat\", \"Lng\"]]\n",
    "# Store humidity information in humidity\n",
    "humidity = cities_df[\"Humidity\"].astype(float)"
   ]
  },
  {
   "cell_type": "code",
   "execution_count": 6,
   "metadata": {},
   "outputs": [],
   "source": [
    "# Customize the size of the figure\n",
    "figure_layout = {\n",
    "    'width': '900px',\n",
    "    'height': '900px',\n",
    "    'border': '1px solid black',\n",
    "    'padding': '1px',\n",
    "    'margin': '0 auto 0 auto'\n",
    "}\n",
    "fig = gmaps.figure(layout=figure_layout)\n",
    "coordinates = cities_df[[\"Lat\", \"Lng\"]]"
   ]
  },
  {
   "cell_type": "code",
   "execution_count": 7,
   "metadata": {},
   "outputs": [
    {
     "data": {
      "application/vnd.jupyter.widget-view+json": {
       "model_id": "d47e48a9b0d041d7a8893730d5442d3e",
       "version_major": 2,
       "version_minor": 0
      },
      "text/plain": [
       "Figure(layout=FigureLayout(border='1px solid black', height='900px', margin='0 auto 0 auto', padding='1px', wi…"
      ]
     },
     "metadata": {},
     "output_type": "display_data"
    }
   ],
   "source": [
    "# Plot Heatmap\n",
    "fig = gmaps.figure(layout=figure_layout,center=(0.0, 0.0), zoom_level=1.8)\n",
    "\n",
    "# Create heatmap layer\n",
    "heat_layer = gmaps.heatmap_layer(coordinates, weights=humidity, \n",
    "                                 dissipating=False, max_intensity=max(humidity),\n",
    "                                 point_radius=1)\n",
    "\n",
    "# Add heatmap layer\n",
    "fig.add_layer(gmaps.heatmap_layer(coordinates, weights=humidity))\n",
    "\n",
    "# Display figure\n",
    "fig\n"
   ]
  },
  {
   "cell_type": "markdown",
   "metadata": {},
   "source": [
    "### Create new DataFrame fitting weather criteria\n",
    "* Narrow down the cities to fit weather conditions.\n",
    "* Drop any rows will null values."
   ]
  },
  {
   "cell_type": "code",
   "execution_count": 8,
   "metadata": {},
   "outputs": [],
   "source": [
    "# A max temperature lower than 80 degrees but higher than 60.\n",
    "# Wind speed less than 10 mph.\n",
    "# Zero cloudiness.\n",
    "# Drop any rows that don't contain all three conditions. You want to be sure the weather is ideal.\n",
    "hotel_df =   cities_df[(cities_df['Max Temp'] >= 60) \n",
    "          & (cities_df['Max Temp'] < 80) \n",
    "          & (cities_df['Wind Speed'] < 10)\n",
    "          & (cities_df['Cloudiness'] == 0)].reset_index()\n",
    "\n",
    "# set all the values to '' for hotel name\n",
    "hotel_df.insert(loc=1, column='Hotel Name', value=['' for i in range(hotel_df.shape[0])])\n",
    "#hotel_df"
   ]
  },
  {
   "cell_type": "markdown",
   "metadata": {},
   "source": [
    "### Hotel Map\n",
    "* Store into variable named `hotel_df`.\n",
    "* Add a \"Hotel Name\" column to the DataFrame.\n",
    "* Set parameters to search for hotels with 5000 meters.\n",
    "* Hit the Google Places API for each city's coordinates.\n",
    "* Store the first Hotel result into the DataFrame.\n",
    "* Plot markers on top of the heatmap."
   ]
  },
  {
   "cell_type": "code",
   "execution_count": 9,
   "metadata": {},
   "outputs": [
    {
     "name": "stdout",
     "output_type": "stream",
     "text": [
      "The closest hotel to the city of Hirara is the ゲストハウスfamilia.\n",
      "------------------------------------------------------------\n",
      "The closest hotel to the city of Henties Bay is the Eagle Accommodation.\n",
      "------------------------------------------------------------\n",
      "The closest hotel to the city of Hermanus is the Hermanus Bed and Breakfast.\n",
      "------------------------------------------------------------\n",
      "The closest hotel to the city of Mount Isa is the Aboriginal Hostels Ltd..\n",
      "------------------------------------------------------------\n",
      "The closest hotel to the city of Batticaloa is the Doctors' Official Residence.\n",
      "------------------------------------------------------------\n",
      "The closest hotel to the city of Bāndarban is the Hotel Sangu.\n",
      "------------------------------------------------------------\n",
      "The closest hotel to the city of San Ciro de Acosta is the Hotel Maria Isabel.\n",
      "------------------------------------------------------------\n",
      "The closest hotel to the city of Lázaro Cárdenas is the Hoteles Seca.\n",
      "------------------------------------------------------------\n",
      "The closest hotel to the city of Bull Savanna is the Mr Witter.\n",
      "------------------------------------------------------------\n",
      "The closest hotel to the city of Nelson Bay is the Carindale Unit 24 19.\n",
      "------------------------------------------------------------\n",
      "The closest hotel to the city of Bam is the Bam Pars Hotel.\n",
      "------------------------------------------------------------\n",
      "The closest hotel to the city of Bhainsa is the 33 केवी सब स्टेशन मन्डेरू.\n",
      "------------------------------------------------------------\n",
      "The closest hotel to the city of Ratnagiri is the Bhatye Khadi.\n",
      "------------------------------------------------------------\n",
      "The closest hotel to the city of Vīsāvadar is the Brahmanad Dham Guest House.\n",
      "------------------------------------------------------------\n",
      "The closest hotel to the city of Alice Springs is the The Diplomat Motel.\n",
      "------------------------------------------------------------\n",
      "The closest hotel to the city of Miaray is the Julia’s Place.\n",
      "------------------------------------------------------------\n"
     ]
    }
   ],
   "source": [
    "base_url = \"https://maps.googleapis.com/maps/api/place/nearbysearch/json\"\n",
    "\n",
    "# Loop through each row finding the nearest hotel by lat,lng coordinates\n",
    "# and populate the 'Hotel Name' column with the closest hotel name\n",
    "# The hotel names are also printed to the screen\n",
    "\n",
    "for index, row in hotel_df.iterrows():\n",
    "    # put the lat,lng values into string location\n",
    "    # so it can help build the query\n",
    "    location = f\"{row['Lat']}, {row['Lng']}\"\n",
    "    # set up parameters\n",
    "    params = {\n",
    "        \"location\": location,  # city coords,\n",
    "        \"rankby\": \"distance\",\n",
    "        \"type\": \"lodging\",\n",
    "        \"key\": g_key,\n",
    "    }\n",
    "    \n",
    "    # print(params)   # for debugging    \n",
    "    # make the request\n",
    "    response = requests.get(base_url, params=params).json()\n",
    "   \n",
    "    # extract results\n",
    "    results = response['results']\n",
    "       \n",
    "    try:\n",
    "        print(f\"The closest hotel to the city of {row['City']} is the {results[0]['name']}.\")\n",
    "        hotel_df.loc[index, 'Hotel Name'] = {results[0]['name']}      \n",
    "    except (KeyError, IndexError):\n",
    "        print(\"Missing field/result... skipping.\")\n",
    "        \n",
    "    print(\"------------------------------------------------------------\")\n",
    "    \n",
    "#hotel_df['Hotel Name']\n",
    "#hotel_df"
   ]
  },
  {
   "cell_type": "code",
   "execution_count": 10,
   "metadata": {},
   "outputs": [],
   "source": [
    "# NOTE: Do not change any of the code in this cell\n",
    "\n",
    "# Using the template add the hotel marks to the heatmap\n",
    "info_box_template = \"\"\"\n",
    "<dl>\n",
    "<dt>Name</dt><dd>{Hotel Name}</dd>\n",
    "<dt>City</dt><dd>{City}</dd>\n",
    "<dt>Country</dt><dd>{Country}</dd>\n",
    "</dl>\n",
    "\"\"\"\n",
    "# Store the DataFrame Row\n",
    "# NOTE: be sure to update with your DataFrame name\n",
    "hotel_info = [info_box_template.format(**row) for index, row in hotel_df.iterrows()]\n",
    "locations = hotel_df[[\"Lat\", \"Lng\"]]\n",
    "#locations  # for debugging\n",
    "    "
   ]
  },
  {
   "cell_type": "code",
   "execution_count": 13,
   "metadata": {},
   "outputs": [
    {
     "data": {
      "application/vnd.jupyter.widget-view+json": {
       "model_id": "d47e48a9b0d041d7a8893730d5442d3e",
       "version_major": 2,
       "version_minor": 0
      },
      "text/plain": [
       "Figure(layout=FigureLayout(border='1px solid black', height='900px', margin='0 auto 0 auto', padding='1px', wi…"
      ]
     },
     "metadata": {},
     "output_type": "display_data"
    }
   ],
   "source": [
    "# Add marker layer ontop of heat map\n",
    "# Assign the marker layer to a variable\n",
    "markers = gmaps.marker_layer(locations, info_box_content=hotel_info, hover_text=hotel_df['Hotel Name'])\n",
    "\n",
    "# Add the layer to the map\n",
    "fig.add_layer(markers)\n",
    "\n",
    "# Display Map\n",
    "fig"
   ]
  },
  {
   "cell_type": "markdown",
   "metadata": {},
   "source": [
    "### End of notebook"
   ]
  },
  {
   "cell_type": "code",
   "execution_count": null,
   "metadata": {},
   "outputs": [],
   "source": []
  }
 ],
 "metadata": {
  "kernelspec": {
   "display_name": "Python 3",
   "language": "python",
   "name": "python3"
  },
  "language_info": {
   "codemirror_mode": {
    "name": "ipython",
    "version": 3
   },
   "file_extension": ".py",
   "mimetype": "text/x-python",
   "name": "python",
   "nbconvert_exporter": "python",
   "pygments_lexer": "ipython3",
   "version": "3.7.6"
  },
  "latex_envs": {
   "LaTeX_envs_menu_present": true,
   "autoclose": false,
   "autocomplete": true,
   "bibliofile": "biblio.bib",
   "cite_by": "apalike",
   "current_citInitial": 1,
   "eqLabelWithNumbers": true,
   "eqNumInitial": 1,
   "hotkeys": {
    "equation": "Ctrl-E",
    "itemize": "Ctrl-I"
   },
   "labels_anchors": false,
   "latex_user_defs": false,
   "report_style_numbering": false,
   "user_envs_cfg": false
  }
 },
 "nbformat": 4,
 "nbformat_minor": 2
}
