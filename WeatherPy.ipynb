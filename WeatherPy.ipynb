{
 "cells": [
  {
   "cell_type": "markdown",
   "metadata": {},
   "source": [
    "# WeatherPy\n",
    "----"
   ]
  },
  {
   "cell_type": "code",
   "execution_count": 1,
   "metadata": {
    "scrolled": true
   },
   "outputs": [],
   "source": [
    "# Dependencies and Setup\n",
    "import matplotlib.pyplot as plt\n",
    "import pandas as pd\n",
    "import numpy as np\n",
    "import requests\n",
    "import time\n",
    "from scipy.stats import linregress\n",
    "\n",
    "import requests\n",
    "import json\n",
    "import os\n",
    "\n",
    "# Import API key\n",
    "from api_keys import weather_api_key\n",
    "\n",
    "# Incorporated citipy to determine city based on latitude and longitude\n",
    "from citipy import citipy\n",
    "\n",
    "# Output File (CSV)\n",
    "#output_data_file = \"./output_data/cities.csv\"\n",
    "output_data_file = \"citiesA.csv\"\n",
    "\n",
    "# Range of latitudes and longitudes\n",
    "lat_range = (-90, 90)\n",
    "lng_range = (-180, 180)"
   ]
  },
  {
   "cell_type": "markdown",
   "metadata": {},
   "source": [
    "## Generate Cities List\n",
    "This is achieved using citipy to find the name of the nearest city based on latitude and longitude.  First a set of randm latitude and longitude values are generated.  Looping through those values identifies the nearest city using citipy and if the city is not already in the list of cities it is added. The result is a list of random city names. "
   ]
  },
  {
   "cell_type": "code",
   "execution_count": 2,
   "metadata": {},
   "outputs": [
    {
     "data": {
      "text/plain": [
       "614"
      ]
     },
     "execution_count": 2,
     "metadata": {},
     "output_type": "execute_result"
    }
   ],
   "source": [
    "# List for holding lat_lngs and cities\n",
    "lat_lngs = []\n",
    "cities = []\n",
    "\n",
    "# Create a set of random lat and lng combinations\n",
    "lats = np.random.uniform(low=-90.000, high=90.000, size=1500)\n",
    "lngs = np.random.uniform(low=-180.000, high=180.000, size=1500)\n",
    "lat_lngs = zip(lats, lngs)\n",
    "\n",
    "# Identify nearest city for each lat, lng combination\n",
    "for lat_lng in lat_lngs:\n",
    "    city = citipy.nearest_city(lat_lng[0], lat_lng[1]).city_name\n",
    "    \n",
    "    # If the city is unique, then add it to a our cities list\n",
    "    if city not in cities:\n",
    "        cities.append(city)  #cities is a list of city names\n",
    "\n",
    "# Print the city count to confirm sufficient count\n",
    "len(cities)\n"
   ]
  },
  {
   "cell_type": "markdown",
   "metadata": {},
   "source": [
    "### Perform API Calls\n",
    "* Perform a weather check on each city using a series of successive API calls.\n",
    "* Include a print log of each city as it's being processed (with the city number and city name).\n"
   ]
  },
  {
   "cell_type": "code",
   "execution_count": 3,
   "metadata": {},
   "outputs": [
    {
     "name": "stdout",
     "output_type": "stream",
     "text": [
      "Beginning Data Retrieval\n",
      "------------------------------\n",
      "Processing Record \u001b[36m 0\u001b[0m of Set \u001b[36m 0 \u001b[0m | mys shmidta\n",
      "City \u001b[1m not \u001b[0m found. Skipping...\n",
      "Processing Record \u001b[36m 1\u001b[0m of Set \u001b[36m 1 \u001b[0m | nizhneyansk\n",
      "City \u001b[1m not \u001b[0m found. Skipping...\n",
      "Processing Record \u001b[36m 2\u001b[0m of Set \u001b[36m 2 \u001b[0m | rio grande\n",
      "Processing Record \u001b[36m 3\u001b[0m of Set \u001b[36m 3 \u001b[0m | ler\n",
      "Processing Record \u001b[36m 4\u001b[0m of Set \u001b[36m 4 \u001b[0m | taolanaro\n",
      "City \u001b[1m not \u001b[0m found. Skipping...\n",
      "Processing Record \u001b[36m 5\u001b[0m of Set \u001b[36m 5 \u001b[0m | hobart\n",
      "Processing Record \u001b[36m 6\u001b[0m of Set \u001b[36m 6 \u001b[0m | aksarka\n",
      "Processing Record \u001b[36m 7\u001b[0m of Set \u001b[36m 7 \u001b[0m | atuona\n",
      "Processing Record \u001b[36m 8\u001b[0m of Set \u001b[36m 8 \u001b[0m | port elizabeth\n",
      "Processing Record \u001b[36m 9\u001b[0m of Set \u001b[36m 9 \u001b[0m | amderma\n",
      "City \u001b[1m not \u001b[0m found. Skipping...\n",
      "Processing Record \u001b[36m 10\u001b[0m of Set \u001b[36m 10 \u001b[0m | hermanus\n",
      "Processing Record \u001b[36m 11\u001b[0m of Set \u001b[36m 11 \u001b[0m | ponta delgada\n",
      "Processing Record \u001b[36m 12\u001b[0m of Set \u001b[36m 12 \u001b[0m | mataura\n",
      "Processing Record \u001b[36m 13\u001b[0m of Set \u001b[36m 13 \u001b[0m | thompson\n",
      "Processing Record \u001b[36m 14\u001b[0m of Set \u001b[36m 14 \u001b[0m | busselton\n",
      "Processing Record \u001b[36m 15\u001b[0m of Set \u001b[36m 15 \u001b[0m | butaritari\n",
      "Processing Record \u001b[36m 16\u001b[0m of Set \u001b[36m 16 \u001b[0m | mar del plata\n",
      "Processing Record \u001b[36m 17\u001b[0m of Set \u001b[36m 17 \u001b[0m | rikitea\n",
      "Processing Record \u001b[36m 18\u001b[0m of Set \u001b[36m 18 \u001b[0m | salalah\n",
      "Processing Record \u001b[36m 19\u001b[0m of Set \u001b[36m 19 \u001b[0m | melita\n",
      "Processing Record \u001b[36m 20\u001b[0m of Set \u001b[36m 20 \u001b[0m | mutis\n",
      "Processing Record \u001b[36m 21\u001b[0m of Set \u001b[36m 21 \u001b[0m | algiers\n",
      "Processing Record \u001b[36m 22\u001b[0m of Set \u001b[36m 22 \u001b[0m | wattegama\n",
      "Processing Record \u001b[36m 23\u001b[0m of Set \u001b[36m 23 \u001b[0m | russell\n",
      "Processing Record \u001b[36m 24\u001b[0m of Set \u001b[36m 24 \u001b[0m | vaini\n",
      "Processing Record \u001b[36m 25\u001b[0m of Set \u001b[36m 25 \u001b[0m | anadyr\n",
      "Processing Record \u001b[36m 26\u001b[0m of Set \u001b[36m 26 \u001b[0m | forst\n",
      "Processing Record \u001b[36m 27\u001b[0m of Set \u001b[36m 27 \u001b[0m | kaitangata\n",
      "Processing Record \u001b[36m 28\u001b[0m of Set \u001b[36m 28 \u001b[0m | leningradskiy\n",
      "Processing Record \u001b[36m 29\u001b[0m of Set \u001b[36m 29 \u001b[0m | constitucion\n",
      "Processing Record \u001b[36m 30\u001b[0m of Set \u001b[36m 30 \u001b[0m | menongue\n",
      "Processing Record \u001b[36m 31\u001b[0m of Set \u001b[36m 31 \u001b[0m | upernavik\n",
      "Processing Record \u001b[36m 32\u001b[0m of Set \u001b[36m 32 \u001b[0m | sao joao da barra\n",
      "Processing Record \u001b[36m 33\u001b[0m of Set \u001b[36m 33 \u001b[0m | iralaya\n",
      "Processing Record \u001b[36m 34\u001b[0m of Set \u001b[36m 34 \u001b[0m | oga\n",
      "Processing Record \u001b[36m 35\u001b[0m of Set \u001b[36m 35 \u001b[0m | vao\n",
      "Processing Record \u001b[36m 36\u001b[0m of Set \u001b[36m 36 \u001b[0m | deputatskiy\n",
      "Processing Record \u001b[36m 37\u001b[0m of Set \u001b[36m 37 \u001b[0m | port alfred\n",
      "Processing Record \u001b[36m 38\u001b[0m of Set \u001b[36m 38 \u001b[0m | dingle\n",
      "Processing Record \u001b[36m 39\u001b[0m of Set \u001b[36m 39 \u001b[0m | xiongshi\n",
      "City \u001b[1m not \u001b[0m found. Skipping...\n",
      "Processing Record \u001b[36m 40\u001b[0m of Set \u001b[36m 40 \u001b[0m | albany\n",
      "Processing Record \u001b[36m 41\u001b[0m of Set \u001b[36m 41 \u001b[0m | san cristobal\n",
      "Processing Record \u001b[36m 42\u001b[0m of Set \u001b[36m 42 \u001b[0m | tasiilaq\n",
      "Processing Record \u001b[36m 43\u001b[0m of Set \u001b[36m 43 \u001b[0m | marawi\n",
      "Processing Record \u001b[36m 44\u001b[0m of Set \u001b[36m 44 \u001b[0m | cape town\n",
      "Processing Record \u001b[36m 45\u001b[0m of Set \u001b[36m 45 \u001b[0m | alofi\n",
      "Processing Record \u001b[36m 46\u001b[0m of Set \u001b[36m 46 \u001b[0m | rawson\n",
      "Processing Record \u001b[36m 47\u001b[0m of Set \u001b[36m 47 \u001b[0m | castro\n",
      "Processing Record \u001b[36m 48\u001b[0m of Set \u001b[36m 48 \u001b[0m | bandarbeyla\n",
      "Processing Record \u001b[36m 49\u001b[0m of Set \u001b[36m 49 \u001b[0m | acapulco\n",
      "Processing Record \u001b[36m 50\u001b[0m of Set \u001b[36m 50 \u001b[0m | faanui\n",
      "Processing Record \u001b[36m 51\u001b[0m of Set \u001b[36m 51 \u001b[0m | rio gallegos\n",
      "Processing Record \u001b[36m 52\u001b[0m of Set \u001b[36m 52 \u001b[0m | kharitonovo\n",
      "Processing Record \u001b[36m 53\u001b[0m of Set \u001b[36m 53 \u001b[0m | falun\n",
      "Processing Record \u001b[36m 54\u001b[0m of Set \u001b[36m 54 \u001b[0m | new norfolk\n",
      "Processing Record \u001b[36m 55\u001b[0m of Set \u001b[36m 55 \u001b[0m | narsaq\n",
      "Processing Record \u001b[36m 56\u001b[0m of Set \u001b[36m 56 \u001b[0m | tumannyy\n",
      "City \u001b[1m not \u001b[0m found. Skipping...\n",
      "Processing Record \u001b[36m 57\u001b[0m of Set \u001b[36m 57 \u001b[0m | san alberto\n",
      "Processing Record \u001b[36m 58\u001b[0m of Set \u001b[36m 58 \u001b[0m | tahe\n",
      "Processing Record \u001b[36m 59\u001b[0m of Set \u001b[36m 59 \u001b[0m | vaitupu\n",
      "City \u001b[1m not \u001b[0m found. Skipping...\n",
      "Processing Record \u001b[36m 60\u001b[0m of Set \u001b[36m 60 \u001b[0m | kyaikkami\n",
      "Processing Record \u001b[36m 61\u001b[0m of Set \u001b[36m 61 \u001b[0m | puerto ayora\n",
      "Processing Record \u001b[36m 62\u001b[0m of Set \u001b[36m 62 \u001b[0m | pangnirtung\n",
      "Processing Record \u001b[36m 63\u001b[0m of Set \u001b[36m 63 \u001b[0m | jamestown\n",
      "Processing Record \u001b[36m 64\u001b[0m of Set \u001b[36m 64 \u001b[0m | kortkeros\n",
      "Processing Record \u001b[36m 65\u001b[0m of Set \u001b[36m 65 \u001b[0m | lakselv\n",
      "Processing Record \u001b[36m 66\u001b[0m of Set \u001b[36m 66 \u001b[0m | yellowknife\n",
      "Processing Record \u001b[36m 67\u001b[0m of Set \u001b[36m 67 \u001b[0m | venice\n",
      "Processing Record \u001b[36m 68\u001b[0m of Set \u001b[36m 68 \u001b[0m | illoqqortoormiut\n",
      "City \u001b[1m not \u001b[0m found. Skipping...\n",
      "Processing Record \u001b[36m 69\u001b[0m of Set \u001b[36m 69 \u001b[0m | sao filipe\n",
      "Processing Record \u001b[36m 70\u001b[0m of Set \u001b[36m 70 \u001b[0m | ponta do sol\n",
      "Processing Record \u001b[36m 71\u001b[0m of Set \u001b[36m 71 \u001b[0m | goryachegorsk\n",
      "Processing Record \u001b[36m 72\u001b[0m of Set \u001b[36m 72 \u001b[0m | bredasdorp\n",
      "Processing Record \u001b[36m 73\u001b[0m of Set \u001b[36m 73 \u001b[0m | kudat\n",
      "Processing Record \u001b[36m 74\u001b[0m of Set \u001b[36m 74 \u001b[0m | roma\n",
      "Processing Record \u001b[36m 75\u001b[0m of Set \u001b[36m 75 \u001b[0m | victoria\n",
      "Processing Record \u001b[36m 76\u001b[0m of Set \u001b[36m 76 \u001b[0m | clyde river\n",
      "Processing Record \u001b[36m 77\u001b[0m of Set \u001b[36m 77 \u001b[0m | kot putli\n",
      "City \u001b[1m not \u001b[0m found. Skipping...\n",
      "Processing Record \u001b[36m 78\u001b[0m of Set \u001b[36m 78 \u001b[0m | taltal\n",
      "Processing Record \u001b[36m 79\u001b[0m of Set \u001b[36m 79 \u001b[0m | abu samrah\n",
      "Processing Record \u001b[36m 80\u001b[0m of Set \u001b[36m 80 \u001b[0m | kapaa\n",
      "Processing Record \u001b[36m 81\u001b[0m of Set \u001b[36m 81 \u001b[0m | qaanaaq\n",
      "Processing Record \u001b[36m 82\u001b[0m of Set \u001b[36m 82 \u001b[0m | palabuhanratu\n",
      "City \u001b[1m not \u001b[0m found. Skipping...\n",
      "Processing Record \u001b[36m 83\u001b[0m of Set \u001b[36m 83 \u001b[0m | kodiak\n",
      "Processing Record \u001b[36m 84\u001b[0m of Set \u001b[36m 84 \u001b[0m | la ronge\n",
      "Processing Record \u001b[36m 85\u001b[0m of Set \u001b[36m 85 \u001b[0m | nikolskoye\n",
      "Processing Record \u001b[36m 86\u001b[0m of Set \u001b[36m 86 \u001b[0m | dzhusaly\n",
      "City \u001b[1m not \u001b[0m found. Skipping...\n",
      "Processing Record \u001b[36m 87\u001b[0m of Set \u001b[36m 87 \u001b[0m | carutapera\n",
      "Processing Record \u001b[36m 88\u001b[0m of Set \u001b[36m 88 \u001b[0m | chokurdakh\n",
      "Processing Record \u001b[36m 89\u001b[0m of Set \u001b[36m 89 \u001b[0m | bluff\n",
      "Processing Record \u001b[36m 90\u001b[0m of Set \u001b[36m 90 \u001b[0m | ayios kirikos\n",
      "City \u001b[1m not \u001b[0m found. Skipping...\n",
      "Processing Record \u001b[36m 91\u001b[0m of Set \u001b[36m 91 \u001b[0m | attawapiskat\n",
      "City \u001b[1m not \u001b[0m found. Skipping...\n",
      "Processing Record \u001b[36m 92\u001b[0m of Set \u001b[36m 92 \u001b[0m | goroka\n",
      "Processing Record \u001b[36m 93\u001b[0m of Set \u001b[36m 93 \u001b[0m | bintulu\n",
      "Processing Record \u001b[36m 94\u001b[0m of Set \u001b[36m 94 \u001b[0m | ondorhaan\n",
      "City \u001b[1m not \u001b[0m found. Skipping...\n",
      "Processing Record \u001b[36m 95\u001b[0m of Set \u001b[36m 95 \u001b[0m | avarua\n",
      "Processing Record \u001b[36m 96\u001b[0m of Set \u001b[36m 96 \u001b[0m | georgetown\n",
      "Processing Record \u001b[36m 97\u001b[0m of Set \u001b[36m 97 \u001b[0m | louisbourg\n",
      "City \u001b[1m not \u001b[0m found. Skipping...\n",
      "Processing Record \u001b[36m 98\u001b[0m of Set \u001b[36m 98 \u001b[0m | ushuaia\n",
      "Processing Record \u001b[36m 99\u001b[0m of Set \u001b[36m 99 \u001b[0m | punta arenas\n",
      "Processing Record \u001b[36m 100\u001b[0m of Set \u001b[36m 100 \u001b[0m | kavaratti\n",
      "Processing Record \u001b[36m 101\u001b[0m of Set \u001b[36m 101 \u001b[0m | silifke\n",
      "Processing Record \u001b[36m 102\u001b[0m of Set \u001b[36m 102 \u001b[0m | dikson\n",
      "Processing Record \u001b[36m 103\u001b[0m of Set \u001b[36m 103 \u001b[0m | ilulissat\n",
      "Processing Record \u001b[36m 104\u001b[0m of Set \u001b[36m 104 \u001b[0m | longyearbyen\n",
      "Processing Record \u001b[36m 105\u001b[0m of Set \u001b[36m 105 \u001b[0m | fortuna\n",
      "Processing Record \u001b[36m 106\u001b[0m of Set \u001b[36m 106 \u001b[0m | inuvik\n",
      "Processing Record \u001b[36m 107\u001b[0m of Set \u001b[36m 107 \u001b[0m | lolua\n",
      "City \u001b[1m not \u001b[0m found. Skipping...\n",
      "Processing Record \u001b[36m 108\u001b[0m of Set \u001b[36m 108 \u001b[0m | poya\n",
      "Processing Record \u001b[36m 109\u001b[0m of Set \u001b[36m 109 \u001b[0m | riyadh\n",
      "Processing Record \u001b[36m 110\u001b[0m of Set \u001b[36m 110 \u001b[0m | muisne\n",
      "Processing Record \u001b[36m 111\u001b[0m of Set \u001b[36m 111 \u001b[0m | bethel\n",
      "Processing Record \u001b[36m 112\u001b[0m of Set \u001b[36m 112 \u001b[0m | champerico\n",
      "Processing Record \u001b[36m 113\u001b[0m of Set \u001b[36m 113 \u001b[0m | hasaki\n",
      "Processing Record \u001b[36m 114\u001b[0m of Set \u001b[36m 114 \u001b[0m | mareeba\n",
      "Processing Record \u001b[36m 115\u001b[0m of Set \u001b[36m 115 \u001b[0m | airai\n",
      "Processing Record \u001b[36m 116\u001b[0m of Set \u001b[36m 116 \u001b[0m | yaan\n",
      "Processing Record \u001b[36m 117\u001b[0m of Set \u001b[36m 117 \u001b[0m | palmer\n",
      "Processing Record \u001b[36m 118\u001b[0m of Set \u001b[36m 118 \u001b[0m | todos santos\n",
      "Processing Record \u001b[36m 119\u001b[0m of Set \u001b[36m 119 \u001b[0m | ust-kuyga\n"
     ]
    },
    {
     "name": "stdout",
     "output_type": "stream",
     "text": [
      "Processing Record \u001b[36m 120\u001b[0m of Set \u001b[36m 120 \u001b[0m | chuy\n",
      "Processing Record \u001b[36m 121\u001b[0m of Set \u001b[36m 121 \u001b[0m | yelizovo\n",
      "Processing Record \u001b[36m 122\u001b[0m of Set \u001b[36m 122 \u001b[0m | vaxjo\n",
      "Processing Record \u001b[36m 123\u001b[0m of Set \u001b[36m 123 \u001b[0m | viby\n",
      "Processing Record \u001b[36m 124\u001b[0m of Set \u001b[36m 124 \u001b[0m | kazalinsk\n",
      "City \u001b[1m not \u001b[0m found. Skipping...\n",
      "Processing Record \u001b[36m 125\u001b[0m of Set \u001b[36m 125 \u001b[0m | mehamn\n",
      "Processing Record \u001b[36m 126\u001b[0m of Set \u001b[36m 126 \u001b[0m | yasnyy\n",
      "Processing Record \u001b[36m 127\u001b[0m of Set \u001b[36m 127 \u001b[0m | saskylakh\n",
      "Processing Record \u001b[36m 128\u001b[0m of Set \u001b[36m 128 \u001b[0m | hofn\n",
      "Processing Record \u001b[36m 129\u001b[0m of Set \u001b[36m 129 \u001b[0m | raudeberg\n",
      "Processing Record \u001b[36m 130\u001b[0m of Set \u001b[36m 130 \u001b[0m | khatanga\n",
      "Processing Record \u001b[36m 131\u001b[0m of Set \u001b[36m 131 \u001b[0m | mahebourg\n",
      "Processing Record \u001b[36m 132\u001b[0m of Set \u001b[36m 132 \u001b[0m | larap\n",
      "Processing Record \u001b[36m 133\u001b[0m of Set \u001b[36m 133 \u001b[0m | husavik\n",
      "Processing Record \u001b[36m 134\u001b[0m of Set \u001b[36m 134 \u001b[0m | lompoc\n",
      "Processing Record \u001b[36m 135\u001b[0m of Set \u001b[36m 135 \u001b[0m | lebu\n",
      "Processing Record \u001b[36m 136\u001b[0m of Set \u001b[36m 136 \u001b[0m | bundaberg\n",
      "Processing Record \u001b[36m 137\u001b[0m of Set \u001b[36m 137 \u001b[0m | camacha\n",
      "Processing Record \u001b[36m 138\u001b[0m of Set \u001b[36m 138 \u001b[0m | grand-lahou\n",
      "Processing Record \u001b[36m 139\u001b[0m of Set \u001b[36m 139 \u001b[0m | souillac\n",
      "Processing Record \u001b[36m 140\u001b[0m of Set \u001b[36m 140 \u001b[0m | oranjemund\n",
      "Processing Record \u001b[36m 141\u001b[0m of Set \u001b[36m 141 \u001b[0m | barcelos\n",
      "Processing Record \u001b[36m 142\u001b[0m of Set \u001b[36m 142 \u001b[0m | nerchinskiy zavod\n",
      "Processing Record \u001b[36m 143\u001b[0m of Set \u001b[36m 143 \u001b[0m | korla\n",
      "Processing Record \u001b[36m 144\u001b[0m of Set \u001b[36m 144 \u001b[0m | kitimat\n",
      "Processing Record \u001b[36m 145\u001b[0m of Set \u001b[36m 145 \u001b[0m | port lincoln\n",
      "Processing Record \u001b[36m 146\u001b[0m of Set \u001b[36m 146 \u001b[0m | saint-philippe\n",
      "Processing Record \u001b[36m 147\u001b[0m of Set \u001b[36m 147 \u001b[0m | tuktoyaktuk\n",
      "Processing Record \u001b[36m 148\u001b[0m of Set \u001b[36m 148 \u001b[0m | arraial do cabo\n",
      "Processing Record \u001b[36m 149\u001b[0m of Set \u001b[36m 149 \u001b[0m | charters towers\n",
      "Processing Record \u001b[36m 150\u001b[0m of Set \u001b[36m 150 \u001b[0m | maswa\n",
      "Processing Record \u001b[36m 151\u001b[0m of Set \u001b[36m 151 \u001b[0m | romanovka\n",
      "Processing Record \u001b[36m 152\u001b[0m of Set \u001b[36m 152 \u001b[0m | boulder city\n",
      "Processing Record \u001b[36m 153\u001b[0m of Set \u001b[36m 153 \u001b[0m | pisco\n",
      "Processing Record \u001b[36m 154\u001b[0m of Set \u001b[36m 154 \u001b[0m | mahibadhoo\n",
      "Processing Record \u001b[36m 155\u001b[0m of Set \u001b[36m 155 \u001b[0m | barentsburg\n",
      "City \u001b[1m not \u001b[0m found. Skipping...\n",
      "Processing Record \u001b[36m 156\u001b[0m of Set \u001b[36m 156 \u001b[0m | muswellbrook\n",
      "Processing Record \u001b[36m 157\u001b[0m of Set \u001b[36m 157 \u001b[0m | illapel\n",
      "Processing Record \u001b[36m 158\u001b[0m of Set \u001b[36m 158 \u001b[0m | san francisco\n",
      "Processing Record \u001b[36m 159\u001b[0m of Set \u001b[36m 159 \u001b[0m | maghama\n",
      "City \u001b[1m not \u001b[0m found. Skipping...\n",
      "Processing Record \u001b[36m 160\u001b[0m of Set \u001b[36m 160 \u001b[0m | fairbanks\n",
      "Processing Record \u001b[36m 161\u001b[0m of Set \u001b[36m 161 \u001b[0m | sentyabrskiy\n",
      "City \u001b[1m not \u001b[0m found. Skipping...\n",
      "Processing Record \u001b[36m 162\u001b[0m of Set \u001b[36m 162 \u001b[0m | marystown\n",
      "Processing Record \u001b[36m 163\u001b[0m of Set \u001b[36m 163 \u001b[0m | lorengau\n",
      "Processing Record \u001b[36m 164\u001b[0m of Set \u001b[36m 164 \u001b[0m | tsiroanomandidy\n",
      "Processing Record \u001b[36m 165\u001b[0m of Set \u001b[36m 165 \u001b[0m | grindavik\n",
      "Processing Record \u001b[36m 166\u001b[0m of Set \u001b[36m 166 \u001b[0m | talnakh\n",
      "Processing Record \u001b[36m 167\u001b[0m of Set \u001b[36m 167 \u001b[0m | north bend\n",
      "Processing Record \u001b[36m 168\u001b[0m of Set \u001b[36m 168 \u001b[0m | kenai\n",
      "Processing Record \u001b[36m 169\u001b[0m of Set \u001b[36m 169 \u001b[0m | shimoda\n",
      "Processing Record \u001b[36m 170\u001b[0m of Set \u001b[36m 170 \u001b[0m | ruatoria\n",
      "City \u001b[1m not \u001b[0m found. Skipping...\n",
      "Processing Record \u001b[36m 171\u001b[0m of Set \u001b[36m 171 \u001b[0m | bartica\n",
      "Processing Record \u001b[36m 172\u001b[0m of Set \u001b[36m 172 \u001b[0m | port blair\n",
      "Processing Record \u001b[36m 173\u001b[0m of Set \u001b[36m 173 \u001b[0m | angoche\n",
      "Processing Record \u001b[36m 174\u001b[0m of Set \u001b[36m 174 \u001b[0m | burriana\n",
      "Processing Record \u001b[36m 175\u001b[0m of Set \u001b[36m 175 \u001b[0m | geraldton\n",
      "Processing Record \u001b[36m 176\u001b[0m of Set \u001b[36m 176 \u001b[0m | tura\n",
      "Processing Record \u001b[36m 177\u001b[0m of Set \u001b[36m 177 \u001b[0m | beloha\n",
      "Processing Record \u001b[36m 178\u001b[0m of Set \u001b[36m 178 \u001b[0m | muros\n",
      "Processing Record \u001b[36m 179\u001b[0m of Set \u001b[36m 179 \u001b[0m | faaborg\n",
      "Processing Record \u001b[36m 180\u001b[0m of Set \u001b[36m 180 \u001b[0m | natal\n",
      "Processing Record \u001b[36m 181\u001b[0m of Set \u001b[36m 181 \u001b[0m | takoradi\n",
      "Processing Record \u001b[36m 182\u001b[0m of Set \u001b[36m 182 \u001b[0m | tismana\n",
      "Processing Record \u001b[36m 183\u001b[0m of Set \u001b[36m 183 \u001b[0m | skagastrond\n",
      "City \u001b[1m not \u001b[0m found. Skipping...\n",
      "Processing Record \u001b[36m 184\u001b[0m of Set \u001b[36m 184 \u001b[0m | beringovskiy\n",
      "Processing Record \u001b[36m 185\u001b[0m of Set \u001b[36m 185 \u001b[0m | melo\n",
      "Processing Record \u001b[36m 186\u001b[0m of Set \u001b[36m 186 \u001b[0m | monmouth\n",
      "Processing Record \u001b[36m 187\u001b[0m of Set \u001b[36m 187 \u001b[0m | luderitz\n",
      "Processing Record \u001b[36m 188\u001b[0m of Set \u001b[36m 188 \u001b[0m | yulara\n",
      "Processing Record \u001b[36m 189\u001b[0m of Set \u001b[36m 189 \u001b[0m | mahanje\n",
      "Processing Record \u001b[36m 190\u001b[0m of Set \u001b[36m 190 \u001b[0m | sitka\n",
      "Processing Record \u001b[36m 191\u001b[0m of Set \u001b[36m 191 \u001b[0m | mackenzie\n",
      "Processing Record \u001b[36m 192\u001b[0m of Set \u001b[36m 192 \u001b[0m | hilo\n",
      "Processing Record \u001b[36m 193\u001b[0m of Set \u001b[36m 193 \u001b[0m | esperance\n",
      "Processing Record \u001b[36m 194\u001b[0m of Set \u001b[36m 194 \u001b[0m | the valley\n",
      "Processing Record \u001b[36m 195\u001b[0m of Set \u001b[36m 195 \u001b[0m | phek\n",
      "Processing Record \u001b[36m 196\u001b[0m of Set \u001b[36m 196 \u001b[0m | tilichiki\n",
      "Processing Record \u001b[36m 197\u001b[0m of Set \u001b[36m 197 \u001b[0m | himatnagar\n",
      "Processing Record \u001b[36m 198\u001b[0m of Set \u001b[36m 198 \u001b[0m | barrow\n",
      "Processing Record \u001b[36m 199\u001b[0m of Set \u001b[36m 199 \u001b[0m | la paz centro\n",
      "Processing Record \u001b[36m 200\u001b[0m of Set \u001b[36m 200 \u001b[0m | el faiyum\n",
      "City \u001b[1m not \u001b[0m found. Skipping...\n",
      "Processing Record \u001b[36m 201\u001b[0m of Set \u001b[36m 201 \u001b[0m | kruisfontein\n",
      "Processing Record \u001b[36m 202\u001b[0m of Set \u001b[36m 202 \u001b[0m | gorno-chuyskiy\n",
      "City \u001b[1m not \u001b[0m found. Skipping...\n",
      "Processing Record \u001b[36m 203\u001b[0m of Set \u001b[36m 203 \u001b[0m | dunedin\n",
      "Processing Record \u001b[36m 204\u001b[0m of Set \u001b[36m 204 \u001b[0m | carnarvon\n",
      "Processing Record \u001b[36m 205\u001b[0m of Set \u001b[36m 205 \u001b[0m | ulaanbaatar\n",
      "Processing Record \u001b[36m 206\u001b[0m of Set \u001b[36m 206 \u001b[0m | dovolnoye\n",
      "Processing Record \u001b[36m 207\u001b[0m of Set \u001b[36m 207 \u001b[0m | cabatuan\n",
      "Processing Record \u001b[36m 208\u001b[0m of Set \u001b[36m 208 \u001b[0m | bambous virieux\n",
      "Processing Record \u001b[36m 209\u001b[0m of Set \u001b[36m 209 \u001b[0m | puerto carreno\n",
      "Processing Record \u001b[36m 210\u001b[0m of Set \u001b[36m 210 \u001b[0m | omboue\n",
      "Processing Record \u001b[36m 211\u001b[0m of Set \u001b[36m 211 \u001b[0m | tiksi\n",
      "Processing Record \u001b[36m 212\u001b[0m of Set \u001b[36m 212 \u001b[0m | hit\n",
      "Processing Record \u001b[36m 213\u001b[0m of Set \u001b[36m 213 \u001b[0m | pemangkat\n",
      "Processing Record \u001b[36m 214\u001b[0m of Set \u001b[36m 214 \u001b[0m | dzerzhinsk\n",
      "Processing Record \u001b[36m 215\u001b[0m of Set \u001b[36m 215 \u001b[0m | ayagoz\n",
      "Processing Record \u001b[36m 216\u001b[0m of Set \u001b[36m 216 \u001b[0m | norman wells\n",
      "Processing Record \u001b[36m 217\u001b[0m of Set \u001b[36m 217 \u001b[0m | kavieng\n",
      "Processing Record \u001b[36m 218\u001b[0m of Set \u001b[36m 218 \u001b[0m | sahrak\n",
      "City \u001b[1m not \u001b[0m found. Skipping...\n",
      "Processing Record \u001b[36m 219\u001b[0m of Set \u001b[36m 219 \u001b[0m | maningrida\n",
      "Processing Record \u001b[36m 220\u001b[0m of Set \u001b[36m 220 \u001b[0m | birjand\n",
      "Processing Record \u001b[36m 221\u001b[0m of Set \u001b[36m 221 \u001b[0m | araouane\n",
      "Processing Record \u001b[36m 222\u001b[0m of Set \u001b[36m 222 \u001b[0m | gurskoye\n",
      "City \u001b[1m not \u001b[0m found. Skipping...\n",
      "Processing Record \u001b[36m 223\u001b[0m of Set \u001b[36m 223 \u001b[0m | yeniseysk\n",
      "Processing Record \u001b[36m 224\u001b[0m of Set \u001b[36m 224 \u001b[0m | christchurch\n",
      "Processing Record \u001b[36m 225\u001b[0m of Set \u001b[36m 225 \u001b[0m | petropavlovsk-kamchatskiy\n",
      "Processing Record \u001b[36m 226\u001b[0m of Set \u001b[36m 226 \u001b[0m | linhares\n",
      "Processing Record \u001b[36m 227\u001b[0m of Set \u001b[36m 227 \u001b[0m | puerto madryn\n",
      "Processing Record \u001b[36m 228\u001b[0m of Set \u001b[36m 228 \u001b[0m | tsihombe\n",
      "City \u001b[1m not \u001b[0m found. Skipping...\n",
      "Processing Record \u001b[36m 229\u001b[0m of Set \u001b[36m 229 \u001b[0m | cancun\n",
      "Processing Record \u001b[36m 230\u001b[0m of Set \u001b[36m 230 \u001b[0m | saint george\n",
      "Processing Record \u001b[36m 231\u001b[0m of Set \u001b[36m 231 \u001b[0m | babati\n",
      "Processing Record \u001b[36m 232\u001b[0m of Set \u001b[36m 232 \u001b[0m | kazanskoye\n",
      "Processing Record \u001b[36m 233\u001b[0m of Set \u001b[36m 233 \u001b[0m | saint-augustin\n",
      "Processing Record \u001b[36m 234\u001b[0m of Set \u001b[36m 234 \u001b[0m | ballina\n",
      "Processing Record \u001b[36m 235\u001b[0m of Set \u001b[36m 235 \u001b[0m | desaguadero\n",
      "Processing Record \u001b[36m 236\u001b[0m of Set \u001b[36m 236 \u001b[0m | san rafael\n",
      "Processing Record \u001b[36m 237\u001b[0m of Set \u001b[36m 237 \u001b[0m | ust-tsilma\n",
      "Processing Record \u001b[36m 238\u001b[0m of Set \u001b[36m 238 \u001b[0m | ribeira grande\n",
      "Processing Record \u001b[36m 239\u001b[0m of Set \u001b[36m 239 \u001b[0m | toliary\n",
      "City \u001b[1m not \u001b[0m found. Skipping...\n"
     ]
    },
    {
     "name": "stdout",
     "output_type": "stream",
     "text": [
      "Processing Record \u001b[36m 240\u001b[0m of Set \u001b[36m 240 \u001b[0m | buariki\n",
      "City \u001b[1m not \u001b[0m found. Skipping...\n",
      "Processing Record \u001b[36m 241\u001b[0m of Set \u001b[36m 241 \u001b[0m | hawkesbury\n",
      "Processing Record \u001b[36m 242\u001b[0m of Set \u001b[36m 242 \u001b[0m | santa marta\n",
      "Processing Record \u001b[36m 243\u001b[0m of Set \u001b[36m 243 \u001b[0m | provideniya\n",
      "Processing Record \u001b[36m 244\u001b[0m of Set \u001b[36m 244 \u001b[0m | ginir\n",
      "Processing Record \u001b[36m 245\u001b[0m of Set \u001b[36m 245 \u001b[0m | oktyabrskoye\n",
      "Processing Record \u001b[36m 246\u001b[0m of Set \u001b[36m 246 \u001b[0m | buchanan\n",
      "Processing Record \u001b[36m 247\u001b[0m of Set \u001b[36m 247 \u001b[0m | severo-kurilsk\n",
      "Processing Record \u001b[36m 248\u001b[0m of Set \u001b[36m 248 \u001b[0m | ampanihy\n",
      "Processing Record \u001b[36m 249\u001b[0m of Set \u001b[36m 249 \u001b[0m | huntsville\n",
      "Processing Record \u001b[36m 250\u001b[0m of Set \u001b[36m 250 \u001b[0m | belushya guba\n",
      "City \u001b[1m not \u001b[0m found. Skipping...\n",
      "Processing Record \u001b[36m 251\u001b[0m of Set \u001b[36m 251 \u001b[0m | te anau\n",
      "Processing Record \u001b[36m 252\u001b[0m of Set \u001b[36m 252 \u001b[0m | nola\n",
      "Processing Record \u001b[36m 253\u001b[0m of Set \u001b[36m 253 \u001b[0m | nybro\n",
      "Processing Record \u001b[36m 254\u001b[0m of Set \u001b[36m 254 \u001b[0m | ust-nera\n",
      "Processing Record \u001b[36m 255\u001b[0m of Set \u001b[36m 255 \u001b[0m | cheremshanka\n",
      "Processing Record \u001b[36m 256\u001b[0m of Set \u001b[36m 256 \u001b[0m | staryy nadym\n",
      "Processing Record \u001b[36m 257\u001b[0m of Set \u001b[36m 257 \u001b[0m | angoram\n",
      "Processing Record \u001b[36m 258\u001b[0m of Set \u001b[36m 258 \u001b[0m | hithadhoo\n",
      "Processing Record \u001b[36m 259\u001b[0m of Set \u001b[36m 259 \u001b[0m | saldanha\n",
      "Processing Record \u001b[36m 260\u001b[0m of Set \u001b[36m 260 \u001b[0m | grand river south east\n",
      "City \u001b[1m not \u001b[0m found. Skipping...\n",
      "Processing Record \u001b[36m 261\u001b[0m of Set \u001b[36m 261 \u001b[0m | tautira\n",
      "Processing Record \u001b[36m 262\u001b[0m of Set \u001b[36m 262 \u001b[0m | rodrigues alves\n",
      "Processing Record \u001b[36m 263\u001b[0m of Set \u001b[36m 263 \u001b[0m | cherskiy\n",
      "Processing Record \u001b[36m 264\u001b[0m of Set \u001b[36m 264 \u001b[0m | north platte\n",
      "Processing Record \u001b[36m 265\u001b[0m of Set \u001b[36m 265 \u001b[0m | saleaula\n",
      "City \u001b[1m not \u001b[0m found. Skipping...\n",
      "Processing Record \u001b[36m 266\u001b[0m of Set \u001b[36m 266 \u001b[0m | biskamzha\n",
      "Processing Record \u001b[36m 267\u001b[0m of Set \u001b[36m 267 \u001b[0m | plouzane\n",
      "Processing Record \u001b[36m 268\u001b[0m of Set \u001b[36m 268 \u001b[0m | umzimvubu\n",
      "City \u001b[1m not \u001b[0m found. Skipping...\n",
      "Processing Record \u001b[36m 269\u001b[0m of Set \u001b[36m 269 \u001b[0m | domoni\n",
      "Processing Record \u001b[36m 270\u001b[0m of Set \u001b[36m 270 \u001b[0m | kamenskoye\n",
      "City \u001b[1m not \u001b[0m found. Skipping...\n",
      "Processing Record \u001b[36m 271\u001b[0m of Set \u001b[36m 271 \u001b[0m | tokmak\n",
      "Processing Record \u001b[36m 272\u001b[0m of Set \u001b[36m 272 \u001b[0m | tynda\n",
      "Processing Record \u001b[36m 273\u001b[0m of Set \u001b[36m 273 \u001b[0m | malakal\n",
      "Processing Record \u001b[36m 274\u001b[0m of Set \u001b[36m 274 \u001b[0m | labuhan\n",
      "Processing Record \u001b[36m 275\u001b[0m of Set \u001b[36m 275 \u001b[0m | capaci\n",
      "Processing Record \u001b[36m 276\u001b[0m of Set \u001b[36m 276 \u001b[0m | bolshaya glushitsa\n",
      "Processing Record \u001b[36m 277\u001b[0m of Set \u001b[36m 277 \u001b[0m | micomeseng\n",
      "Processing Record \u001b[36m 278\u001b[0m of Set \u001b[36m 278 \u001b[0m | nantucket\n",
      "Processing Record \u001b[36m 279\u001b[0m of Set \u001b[36m 279 \u001b[0m | ambilobe\n",
      "Processing Record \u001b[36m 280\u001b[0m of Set \u001b[36m 280 \u001b[0m | mount isa\n",
      "Processing Record \u001b[36m 281\u001b[0m of Set \u001b[36m 281 \u001b[0m | bilibino\n",
      "Processing Record \u001b[36m 282\u001b[0m of Set \u001b[36m 282 \u001b[0m | ola\n",
      "Processing Record \u001b[36m 283\u001b[0m of Set \u001b[36m 283 \u001b[0m | alta floresta\n",
      "Processing Record \u001b[36m 284\u001b[0m of Set \u001b[36m 284 \u001b[0m | bengkulu\n",
      "Processing Record \u001b[36m 285\u001b[0m of Set \u001b[36m 285 \u001b[0m | moyo\n",
      "Processing Record \u001b[36m 286\u001b[0m of Set \u001b[36m 286 \u001b[0m | rabo de peixe\n",
      "Processing Record \u001b[36m 287\u001b[0m of Set \u001b[36m 287 \u001b[0m | liverpool\n",
      "Processing Record \u001b[36m 288\u001b[0m of Set \u001b[36m 288 \u001b[0m | sobolevo\n",
      "Processing Record \u001b[36m 289\u001b[0m of Set \u001b[36m 289 \u001b[0m | athabasca\n",
      "Processing Record \u001b[36m 290\u001b[0m of Set \u001b[36m 290 \u001b[0m | santa rosa\n",
      "Processing Record \u001b[36m 291\u001b[0m of Set \u001b[36m 291 \u001b[0m | boa vista\n",
      "Processing Record \u001b[36m 292\u001b[0m of Set \u001b[36m 292 \u001b[0m | barra patuca\n",
      "Processing Record \u001b[36m 293\u001b[0m of Set \u001b[36m 293 \u001b[0m | neiafu\n",
      "Processing Record \u001b[36m 294\u001b[0m of Set \u001b[36m 294 \u001b[0m | ancud\n",
      "Processing Record \u001b[36m 295\u001b[0m of Set \u001b[36m 295 \u001b[0m | maykain\n",
      "City \u001b[1m not \u001b[0m found. Skipping...\n",
      "Processing Record \u001b[36m 296\u001b[0m of Set \u001b[36m 296 \u001b[0m | tankara\n",
      "Processing Record \u001b[36m 297\u001b[0m of Set \u001b[36m 297 \u001b[0m | gat\n",
      "Processing Record \u001b[36m 298\u001b[0m of Set \u001b[36m 298 \u001b[0m | ostrovnoy\n",
      "Processing Record \u001b[36m 299\u001b[0m of Set \u001b[36m 299 \u001b[0m | nome\n",
      "Processing Record \u001b[36m 300\u001b[0m of Set \u001b[36m 300 \u001b[0m | moose factory\n",
      "Processing Record \u001b[36m 301\u001b[0m of Set \u001b[36m 301 \u001b[0m | fort nelson\n",
      "Processing Record \u001b[36m 302\u001b[0m of Set \u001b[36m 302 \u001b[0m | slave lake\n",
      "Processing Record \u001b[36m 303\u001b[0m of Set \u001b[36m 303 \u001b[0m | mandera\n",
      "Processing Record \u001b[36m 304\u001b[0m of Set \u001b[36m 304 \u001b[0m | san patricio\n",
      "Processing Record \u001b[36m 305\u001b[0m of Set \u001b[36m 305 \u001b[0m | achisay\n",
      "City \u001b[1m not \u001b[0m found. Skipping...\n",
      "Processing Record \u001b[36m 306\u001b[0m of Set \u001b[36m 306 \u001b[0m | galeana\n",
      "Processing Record \u001b[36m 307\u001b[0m of Set \u001b[36m 307 \u001b[0m | butembo\n",
      "Processing Record \u001b[36m 308\u001b[0m of Set \u001b[36m 308 \u001b[0m | pontes e lacerda\n",
      "Processing Record \u001b[36m 309\u001b[0m of Set \u001b[36m 309 \u001b[0m | cheuskiny\n",
      "City \u001b[1m not \u001b[0m found. Skipping...\n",
      "Processing Record \u001b[36m 310\u001b[0m of Set \u001b[36m 310 \u001b[0m | yilan\n",
      "Processing Record \u001b[36m 311\u001b[0m of Set \u001b[36m 311 \u001b[0m | inyonga\n",
      "Processing Record \u001b[36m 312\u001b[0m of Set \u001b[36m 312 \u001b[0m | ramhormoz\n",
      "Processing Record \u001b[36m 313\u001b[0m of Set \u001b[36m 313 \u001b[0m | urcos\n",
      "Processing Record \u001b[36m 314\u001b[0m of Set \u001b[36m 314 \u001b[0m | radcliff\n",
      "Processing Record \u001b[36m 315\u001b[0m of Set \u001b[36m 315 \u001b[0m | port-gentil\n",
      "Processing Record \u001b[36m 316\u001b[0m of Set \u001b[36m 316 \u001b[0m | nam som\n",
      "Processing Record \u001b[36m 317\u001b[0m of Set \u001b[36m 317 \u001b[0m | olga\n",
      "Processing Record \u001b[36m 318\u001b[0m of Set \u001b[36m 318 \u001b[0m | akyab\n",
      "Processing Record \u001b[36m 319\u001b[0m of Set \u001b[36m 319 \u001b[0m | matagami\n",
      "Processing Record \u001b[36m 320\u001b[0m of Set \u001b[36m 320 \u001b[0m | moscow\n",
      "Processing Record \u001b[36m 321\u001b[0m of Set \u001b[36m 321 \u001b[0m | mankono\n",
      "Processing Record \u001b[36m 322\u001b[0m of Set \u001b[36m 322 \u001b[0m | asau\n",
      "Processing Record \u001b[36m 323\u001b[0m of Set \u001b[36m 323 \u001b[0m | vila\n",
      "Processing Record \u001b[36m 324\u001b[0m of Set \u001b[36m 324 \u001b[0m | yanam\n",
      "Processing Record \u001b[36m 325\u001b[0m of Set \u001b[36m 325 \u001b[0m | iqaluit\n",
      "Processing Record \u001b[36m 326\u001b[0m of Set \u001b[36m 326 \u001b[0m | guerrero negro\n",
      "Processing Record \u001b[36m 327\u001b[0m of Set \u001b[36m 327 \u001b[0m | lodja\n",
      "Processing Record \u001b[36m 328\u001b[0m of Set \u001b[36m 328 \u001b[0m | ranong\n",
      "Processing Record \u001b[36m 329\u001b[0m of Set \u001b[36m 329 \u001b[0m | penzance\n",
      "Processing Record \u001b[36m 330\u001b[0m of Set \u001b[36m 330 \u001b[0m | khorramshahr\n",
      "Processing Record \u001b[36m 331\u001b[0m of Set \u001b[36m 331 \u001b[0m | derbent\n",
      "Processing Record \u001b[36m 332\u001b[0m of Set \u001b[36m 332 \u001b[0m | samalaeulu\n",
      "City \u001b[1m not \u001b[0m found. Skipping...\n",
      "Processing Record \u001b[36m 333\u001b[0m of Set \u001b[36m 333 \u001b[0m | santa teresa\n",
      "Processing Record \u001b[36m 334\u001b[0m of Set \u001b[36m 334 \u001b[0m | kaoma\n",
      "Processing Record \u001b[36m 335\u001b[0m of Set \u001b[36m 335 \u001b[0m | heihe\n",
      "Processing Record \u001b[36m 336\u001b[0m of Set \u001b[36m 336 \u001b[0m | lithgow\n",
      "Processing Record \u001b[36m 337\u001b[0m of Set \u001b[36m 337 \u001b[0m | kytlym\n",
      "City \u001b[1m not \u001b[0m found. Skipping...\n",
      "Processing Record \u001b[36m 338\u001b[0m of Set \u001b[36m 338 \u001b[0m | buraydah\n",
      "Processing Record \u001b[36m 339\u001b[0m of Set \u001b[36m 339 \u001b[0m | pajapan\n",
      "Processing Record \u001b[36m 340\u001b[0m of Set \u001b[36m 340 \u001b[0m | la reforma\n",
      "Processing Record \u001b[36m 341\u001b[0m of Set \u001b[36m 341 \u001b[0m | puerto escondido\n",
      "Processing Record \u001b[36m 342\u001b[0m of Set \u001b[36m 342 \u001b[0m | atotonilco el alto\n",
      "Processing Record \u001b[36m 343\u001b[0m of Set \u001b[36m 343 \u001b[0m | jiwani\n",
      "Processing Record \u001b[36m 344\u001b[0m of Set \u001b[36m 344 \u001b[0m | clinton\n",
      "Processing Record \u001b[36m 345\u001b[0m of Set \u001b[36m 345 \u001b[0m | chabahar\n",
      "Processing Record \u001b[36m 346\u001b[0m of Set \u001b[36m 346 \u001b[0m | katherine\n",
      "Processing Record \u001b[36m 347\u001b[0m of Set \u001b[36m 347 \u001b[0m | moron\n",
      "Processing Record \u001b[36m 348\u001b[0m of Set \u001b[36m 348 \u001b[0m | cidreira\n",
      "Processing Record \u001b[36m 349\u001b[0m of Set \u001b[36m 349 \u001b[0m | linjiang\n",
      "Processing Record \u001b[36m 350\u001b[0m of Set \u001b[36m 350 \u001b[0m | briceni\n",
      "Processing Record \u001b[36m 351\u001b[0m of Set \u001b[36m 351 \u001b[0m | komsomolskiy\n",
      "Processing Record \u001b[36m 352\u001b[0m of Set \u001b[36m 352 \u001b[0m | ati\n",
      "Processing Record \u001b[36m 353\u001b[0m of Set \u001b[36m 353 \u001b[0m | oyama\n",
      "Processing Record \u001b[36m 354\u001b[0m of Set \u001b[36m 354 \u001b[0m | douentza\n",
      "Processing Record \u001b[36m 355\u001b[0m of Set \u001b[36m 355 \u001b[0m | itaituba\n",
      "Processing Record \u001b[36m 356\u001b[0m of Set \u001b[36m 356 \u001b[0m | bayan\n",
      "Processing Record \u001b[36m 357\u001b[0m of Set \u001b[36m 357 \u001b[0m | lewisburg\n",
      "Processing Record \u001b[36m 358\u001b[0m of Set \u001b[36m 358 \u001b[0m | avera\n"
     ]
    },
    {
     "name": "stdout",
     "output_type": "stream",
     "text": [
      "Processing Record \u001b[36m 359\u001b[0m of Set \u001b[36m 359 \u001b[0m | yala\n",
      "Processing Record \u001b[36m 360\u001b[0m of Set \u001b[36m 360 \u001b[0m | alugan\n",
      "Processing Record \u001b[36m 361\u001b[0m of Set \u001b[36m 361 \u001b[0m | laguna\n",
      "Processing Record \u001b[36m 362\u001b[0m of Set \u001b[36m 362 \u001b[0m | parral\n",
      "Processing Record \u001b[36m 363\u001b[0m of Set \u001b[36m 363 \u001b[0m | puerto colombia\n",
      "Processing Record \u001b[36m 364\u001b[0m of Set \u001b[36m 364 \u001b[0m | borovoy\n",
      "Processing Record \u001b[36m 365\u001b[0m of Set \u001b[36m 365 \u001b[0m | cockburn town\n",
      "Processing Record \u001b[36m 366\u001b[0m of Set \u001b[36m 366 \u001b[0m | severnoye\n",
      "Processing Record \u001b[36m 367\u001b[0m of Set \u001b[36m 367 \u001b[0m | portadown\n",
      "Processing Record \u001b[36m 368\u001b[0m of Set \u001b[36m 368 \u001b[0m | mashhad\n",
      "Processing Record \u001b[36m 369\u001b[0m of Set \u001b[36m 369 \u001b[0m | cururupu\n",
      "Processing Record \u001b[36m 370\u001b[0m of Set \u001b[36m 370 \u001b[0m | pevek\n",
      "Processing Record \u001b[36m 371\u001b[0m of Set \u001b[36m 371 \u001b[0m | windhoek\n",
      "Processing Record \u001b[36m 372\u001b[0m of Set \u001b[36m 372 \u001b[0m | northampton\n",
      "Processing Record \u001b[36m 373\u001b[0m of Set \u001b[36m 373 \u001b[0m | tucuman\n",
      "Processing Record \u001b[36m 374\u001b[0m of Set \u001b[36m 374 \u001b[0m | flinders\n",
      "Processing Record \u001b[36m 375\u001b[0m of Set \u001b[36m 375 \u001b[0m | hare bay\n",
      "Processing Record \u001b[36m 376\u001b[0m of Set \u001b[36m 376 \u001b[0m | baruun-urt\n",
      "Processing Record \u001b[36m 377\u001b[0m of Set \u001b[36m 377 \u001b[0m | erenhot\n",
      "Processing Record \u001b[36m 378\u001b[0m of Set \u001b[36m 378 \u001b[0m | isangel\n",
      "Processing Record \u001b[36m 379\u001b[0m of Set \u001b[36m 379 \u001b[0m | havre-saint-pierre\n",
      "Processing Record \u001b[36m 380\u001b[0m of Set \u001b[36m 380 \u001b[0m | buala\n",
      "Processing Record \u001b[36m 381\u001b[0m of Set \u001b[36m 381 \u001b[0m | gidam\n",
      "Processing Record \u001b[36m 382\u001b[0m of Set \u001b[36m 382 \u001b[0m | porto novo\n",
      "Processing Record \u001b[36m 383\u001b[0m of Set \u001b[36m 383 \u001b[0m | vardo\n",
      "Processing Record \u001b[36m 384\u001b[0m of Set \u001b[36m 384 \u001b[0m | ulladulla\n",
      "Processing Record \u001b[36m 385\u001b[0m of Set \u001b[36m 385 \u001b[0m | kieta\n",
      "Processing Record \u001b[36m 386\u001b[0m of Set \u001b[36m 386 \u001b[0m | charagua\n",
      "Processing Record \u001b[36m 387\u001b[0m of Set \u001b[36m 387 \u001b[0m | muravlenko\n",
      "Processing Record \u001b[36m 388\u001b[0m of Set \u001b[36m 388 \u001b[0m | rialma\n",
      "Processing Record \u001b[36m 389\u001b[0m of Set \u001b[36m 389 \u001b[0m | mrirt\n",
      "City \u001b[1m not \u001b[0m found. Skipping...\n",
      "Processing Record \u001b[36m 390\u001b[0m of Set \u001b[36m 390 \u001b[0m | port hardy\n",
      "Processing Record \u001b[36m 391\u001b[0m of Set \u001b[36m 391 \u001b[0m | stephenville\n",
      "Processing Record \u001b[36m 392\u001b[0m of Set \u001b[36m 392 \u001b[0m | umm lajj\n",
      "Processing Record \u001b[36m 393\u001b[0m of Set \u001b[36m 393 \u001b[0m | atar\n",
      "Processing Record \u001b[36m 394\u001b[0m of Set \u001b[36m 394 \u001b[0m | aklavik\n",
      "Processing Record \u001b[36m 395\u001b[0m of Set \u001b[36m 395 \u001b[0m | emerald\n",
      "Processing Record \u001b[36m 396\u001b[0m of Set \u001b[36m 396 \u001b[0m | college\n",
      "Processing Record \u001b[36m 397\u001b[0m of Set \u001b[36m 397 \u001b[0m | luau\n",
      "Processing Record \u001b[36m 398\u001b[0m of Set \u001b[36m 398 \u001b[0m | duku\n",
      "Processing Record \u001b[36m 399\u001b[0m of Set \u001b[36m 399 \u001b[0m | lahaina\n",
      "Processing Record \u001b[36m 400\u001b[0m of Set \u001b[36m 400 \u001b[0m | lasa\n",
      "Processing Record \u001b[36m 401\u001b[0m of Set \u001b[36m 401 \u001b[0m | mackay\n",
      "Processing Record \u001b[36m 402\u001b[0m of Set \u001b[36m 402 \u001b[0m | macaboboni\n",
      "City \u001b[1m not \u001b[0m found. Skipping...\n",
      "Processing Record \u001b[36m 403\u001b[0m of Set \u001b[36m 403 \u001b[0m | pringsewu\n",
      "Processing Record \u001b[36m 404\u001b[0m of Set \u001b[36m 404 \u001b[0m | zhigansk\n",
      "Processing Record \u001b[36m 405\u001b[0m of Set \u001b[36m 405 \u001b[0m | logansport\n",
      "Processing Record \u001b[36m 406\u001b[0m of Set \u001b[36m 406 \u001b[0m | comodoro rivadavia\n",
      "Processing Record \u001b[36m 407\u001b[0m of Set \u001b[36m 407 \u001b[0m | pedro ii\n",
      "Processing Record \u001b[36m 408\u001b[0m of Set \u001b[36m 408 \u001b[0m | balasheyka\n",
      "Processing Record \u001b[36m 409\u001b[0m of Set \u001b[36m 409 \u001b[0m | finschhafen\n",
      "Processing Record \u001b[36m 410\u001b[0m of Set \u001b[36m 410 \u001b[0m | urfa\n",
      "City \u001b[1m not \u001b[0m found. Skipping...\n",
      "Processing Record \u001b[36m 411\u001b[0m of Set \u001b[36m 411 \u001b[0m | mantua\n",
      "Processing Record \u001b[36m 412\u001b[0m of Set \u001b[36m 412 \u001b[0m | wekiva springs\n",
      "Processing Record \u001b[36m 413\u001b[0m of Set \u001b[36m 413 \u001b[0m | luanda\n",
      "Processing Record \u001b[36m 414\u001b[0m of Set \u001b[36m 414 \u001b[0m | siavonga\n",
      "Processing Record \u001b[36m 415\u001b[0m of Set \u001b[36m 415 \u001b[0m | awbari\n",
      "Processing Record \u001b[36m 416\u001b[0m of Set \u001b[36m 416 \u001b[0m | diego de almagro\n",
      "Processing Record \u001b[36m 417\u001b[0m of Set \u001b[36m 417 \u001b[0m | monchegorsk\n",
      "Processing Record \u001b[36m 418\u001b[0m of Set \u001b[36m 418 \u001b[0m | hualmay\n",
      "Processing Record \u001b[36m 419\u001b[0m of Set \u001b[36m 419 \u001b[0m | fomboni\n",
      "Processing Record \u001b[36m 420\u001b[0m of Set \u001b[36m 420 \u001b[0m | birin\n",
      "Processing Record \u001b[36m 421\u001b[0m of Set \u001b[36m 421 \u001b[0m | abha\n",
      "Processing Record \u001b[36m 422\u001b[0m of Set \u001b[36m 422 \u001b[0m | kuching\n",
      "Processing Record \u001b[36m 423\u001b[0m of Set \u001b[36m 423 \u001b[0m | barawe\n",
      "City \u001b[1m not \u001b[0m found. Skipping...\n",
      "Processing Record \u001b[36m 424\u001b[0m of Set \u001b[36m 424 \u001b[0m | tampin\n",
      "Processing Record \u001b[36m 425\u001b[0m of Set \u001b[36m 425 \u001b[0m | ningxiang\n",
      "Processing Record \u001b[36m 426\u001b[0m of Set \u001b[36m 426 \u001b[0m | palu\n",
      "Processing Record \u001b[36m 427\u001b[0m of Set \u001b[36m 427 \u001b[0m | hillsborough\n",
      "Processing Record \u001b[36m 428\u001b[0m of Set \u001b[36m 428 \u001b[0m | caravelas\n",
      "Processing Record \u001b[36m 429\u001b[0m of Set \u001b[36m 429 \u001b[0m | dulyapino\n",
      "Processing Record \u001b[36m 430\u001b[0m of Set \u001b[36m 430 \u001b[0m | cabo san lucas\n",
      "Processing Record \u001b[36m 431\u001b[0m of Set \u001b[36m 431 \u001b[0m | bibiani\n",
      "Processing Record \u001b[36m 432\u001b[0m of Set \u001b[36m 432 \u001b[0m | sao felix do xingu\n",
      "Processing Record \u001b[36m 433\u001b[0m of Set \u001b[36m 433 \u001b[0m | langsa\n",
      "Processing Record \u001b[36m 434\u001b[0m of Set \u001b[36m 434 \u001b[0m | pingliang\n",
      "Processing Record \u001b[36m 435\u001b[0m of Set \u001b[36m 435 \u001b[0m | manta\n",
      "Processing Record \u001b[36m 436\u001b[0m of Set \u001b[36m 436 \u001b[0m | tezu\n",
      "Processing Record \u001b[36m 437\u001b[0m of Set \u001b[36m 437 \u001b[0m | richards bay\n",
      "Processing Record \u001b[36m 438\u001b[0m of Set \u001b[36m 438 \u001b[0m | bengkalis\n",
      "City \u001b[1m not \u001b[0m found. Skipping...\n",
      "Processing Record \u001b[36m 439\u001b[0m of Set \u001b[36m 439 \u001b[0m | aksu\n",
      "Processing Record \u001b[36m 440\u001b[0m of Set \u001b[36m 440 \u001b[0m | ascension\n",
      "Processing Record \u001b[36m 441\u001b[0m of Set \u001b[36m 441 \u001b[0m | rocha\n",
      "Processing Record \u001b[36m 442\u001b[0m of Set \u001b[36m 442 \u001b[0m | namibe\n",
      "Processing Record \u001b[36m 443\u001b[0m of Set \u001b[36m 443 \u001b[0m | bolshaya irba\n",
      "City \u001b[1m not \u001b[0m found. Skipping...\n",
      "Processing Record \u001b[36m 444\u001b[0m of Set \u001b[36m 444 \u001b[0m | vaitape\n",
      "Processing Record \u001b[36m 445\u001b[0m of Set \u001b[36m 445 \u001b[0m | meulaboh\n",
      "Processing Record \u001b[36m 446\u001b[0m of Set \u001b[36m 446 \u001b[0m | habartov\n",
      "Processing Record \u001b[36m 447\u001b[0m of Set \u001b[36m 447 \u001b[0m | kahului\n",
      "Processing Record \u001b[36m 448\u001b[0m of Set \u001b[36m 448 \u001b[0m | matara\n",
      "Processing Record \u001b[36m 449\u001b[0m of Set \u001b[36m 449 \u001b[0m | iskateley\n",
      "Processing Record \u001b[36m 450\u001b[0m of Set \u001b[36m 450 \u001b[0m | thinadhoo\n",
      "Processing Record \u001b[36m 451\u001b[0m of Set \u001b[36m 451 \u001b[0m | escanaba\n",
      "Processing Record \u001b[36m 452\u001b[0m of Set \u001b[36m 452 \u001b[0m | bereda\n",
      "Processing Record \u001b[36m 453\u001b[0m of Set \u001b[36m 453 \u001b[0m | tefe\n",
      "Processing Record \u001b[36m 454\u001b[0m of Set \u001b[36m 454 \u001b[0m | olenegorsk\n",
      "Processing Record \u001b[36m 455\u001b[0m of Set \u001b[36m 455 \u001b[0m | gizo\n",
      "Processing Record \u001b[36m 456\u001b[0m of Set \u001b[36m 456 \u001b[0m | kloulklubed\n",
      "Processing Record \u001b[36m 457\u001b[0m of Set \u001b[36m 457 \u001b[0m | naifaru\n",
      "Processing Record \u001b[36m 458\u001b[0m of Set \u001b[36m 458 \u001b[0m | jalu\n",
      "Processing Record \u001b[36m 459\u001b[0m of Set \u001b[36m 459 \u001b[0m | bairiki\n",
      "Processing Record \u001b[36m 460\u001b[0m of Set \u001b[36m 460 \u001b[0m | campbell river\n",
      "Processing Record \u001b[36m 461\u001b[0m of Set \u001b[36m 461 \u001b[0m | almere\n",
      "Processing Record \u001b[36m 462\u001b[0m of Set \u001b[36m 462 \u001b[0m | velyka pysarivka\n",
      "Processing Record \u001b[36m 463\u001b[0m of Set \u001b[36m 463 \u001b[0m | labrea\n",
      "Processing Record \u001b[36m 464\u001b[0m of Set \u001b[36m 464 \u001b[0m | padang\n",
      "Processing Record \u001b[36m 465\u001b[0m of Set \u001b[36m 465 \u001b[0m | aguimes\n",
      "Processing Record \u001b[36m 466\u001b[0m of Set \u001b[36m 466 \u001b[0m | tecolutla\n",
      "Processing Record \u001b[36m 467\u001b[0m of Set \u001b[36m 467 \u001b[0m | ingham\n",
      "Processing Record \u001b[36m 468\u001b[0m of Set \u001b[36m 468 \u001b[0m | new cumnock\n",
      "Processing Record \u001b[36m 469\u001b[0m of Set \u001b[36m 469 \u001b[0m | ocos\n",
      "Processing Record \u001b[36m 470\u001b[0m of Set \u001b[36m 470 \u001b[0m | canaries\n",
      "Processing Record \u001b[36m 471\u001b[0m of Set \u001b[36m 471 \u001b[0m | acari\n",
      "Processing Record \u001b[36m 472\u001b[0m of Set \u001b[36m 472 \u001b[0m | iwanai\n",
      "Processing Record \u001b[36m 473\u001b[0m of Set \u001b[36m 473 \u001b[0m | cabo rojo\n",
      "Processing Record \u001b[36m 474\u001b[0m of Set \u001b[36m 474 \u001b[0m | york\n",
      "Processing Record \u001b[36m 475\u001b[0m of Set \u001b[36m 475 \u001b[0m | rundu\n",
      "Processing Record \u001b[36m 476\u001b[0m of Set \u001b[36m 476 \u001b[0m | marsa matruh\n",
      "Processing Record \u001b[36m 477\u001b[0m of Set \u001b[36m 477 \u001b[0m | lagdo\n",
      "Processing Record \u001b[36m 478\u001b[0m of Set \u001b[36m 478 \u001b[0m | beroroha\n",
      "Processing Record \u001b[36m 479\u001b[0m of Set \u001b[36m 479 \u001b[0m | bambanglipuro\n",
      "Processing Record \u001b[36m 480\u001b[0m of Set \u001b[36m 480 \u001b[0m | uwayl\n",
      "City \u001b[1m not \u001b[0m found. Skipping...\n",
      "Processing Record \u001b[36m 481\u001b[0m of Set \u001b[36m 481 \u001b[0m | mayskiy\n"
     ]
    },
    {
     "name": "stdout",
     "output_type": "stream",
     "text": [
      "Processing Record \u001b[36m 482\u001b[0m of Set \u001b[36m 482 \u001b[0m | olenino\n",
      "Processing Record \u001b[36m 483\u001b[0m of Set \u001b[36m 483 \u001b[0m | kaniama\n",
      "Processing Record \u001b[36m 484\u001b[0m of Set \u001b[36m 484 \u001b[0m | krasne\n",
      "Processing Record \u001b[36m 485\u001b[0m of Set \u001b[36m 485 \u001b[0m | touros\n",
      "Processing Record \u001b[36m 486\u001b[0m of Set \u001b[36m 486 \u001b[0m | ndago\n",
      "Processing Record \u001b[36m 487\u001b[0m of Set \u001b[36m 487 \u001b[0m | torbay\n",
      "Processing Record \u001b[36m 488\u001b[0m of Set \u001b[36m 488 \u001b[0m | east london\n",
      "Processing Record \u001b[36m 489\u001b[0m of Set \u001b[36m 489 \u001b[0m | vila velha\n",
      "Processing Record \u001b[36m 490\u001b[0m of Set \u001b[36m 490 \u001b[0m | valdez\n",
      "Processing Record \u001b[36m 491\u001b[0m of Set \u001b[36m 491 \u001b[0m | koumac\n",
      "Processing Record \u001b[36m 492\u001b[0m of Set \u001b[36m 492 \u001b[0m | spantov\n",
      "Processing Record \u001b[36m 493\u001b[0m of Set \u001b[36m 493 \u001b[0m | belomorsk\n",
      "Processing Record \u001b[36m 494\u001b[0m of Set \u001b[36m 494 \u001b[0m | bay roberts\n",
      "Processing Record \u001b[36m 495\u001b[0m of Set \u001b[36m 495 \u001b[0m | almeirim\n",
      "Processing Record \u001b[36m 496\u001b[0m of Set \u001b[36m 496 \u001b[0m | morondava\n",
      "Processing Record \u001b[36m 497\u001b[0m of Set \u001b[36m 497 \u001b[0m | kemin\n",
      "Processing Record \u001b[36m 498\u001b[0m of Set \u001b[36m 498 \u001b[0m | tuggurt\n",
      "City \u001b[1m not \u001b[0m found. Skipping...\n",
      "Processing Record \u001b[36m 499\u001b[0m of Set \u001b[36m 499 \u001b[0m | voi\n",
      "Processing Record \u001b[36m 500\u001b[0m of Set \u001b[36m 500 \u001b[0m | berja\n",
      "Processing Record \u001b[36m 501\u001b[0m of Set \u001b[36m 501 \u001b[0m | port-de-paix\n",
      "City \u001b[1m not \u001b[0m found. Skipping...\n",
      "Processing Record \u001b[36m 502\u001b[0m of Set \u001b[36m 502 \u001b[0m | portland\n",
      "Processing Record \u001b[36m 503\u001b[0m of Set \u001b[36m 503 \u001b[0m | launceston\n",
      "Processing Record \u001b[36m 504\u001b[0m of Set \u001b[36m 504 \u001b[0m | the pas\n",
      "Processing Record \u001b[36m 505\u001b[0m of Set \u001b[36m 505 \u001b[0m | jimani\n",
      "Processing Record \u001b[36m 506\u001b[0m of Set \u001b[36m 506 \u001b[0m | imeni poliny osipenko\n",
      "Processing Record \u001b[36m 507\u001b[0m of Set \u001b[36m 507 \u001b[0m | castilho\n",
      "Processing Record \u001b[36m 508\u001b[0m of Set \u001b[36m 508 \u001b[0m | eirunepe\n",
      "Processing Record \u001b[36m 509\u001b[0m of Set \u001b[36m 509 \u001b[0m | san jeronimo de tunan\n",
      "City \u001b[1m not \u001b[0m found. Skipping...\n",
      "Processing Record \u001b[36m 510\u001b[0m of Set \u001b[36m 510 \u001b[0m | mayumba\n",
      "Processing Record \u001b[36m 511\u001b[0m of Set \u001b[36m 511 \u001b[0m | salvador\n",
      "Processing Record \u001b[36m 512\u001b[0m of Set \u001b[36m 512 \u001b[0m | mersing\n",
      "Processing Record \u001b[36m 513\u001b[0m of Set \u001b[36m 513 \u001b[0m | grand gaube\n",
      "Processing Record \u001b[36m 514\u001b[0m of Set \u001b[36m 514 \u001b[0m | seoul\n",
      "Processing Record \u001b[36m 515\u001b[0m of Set \u001b[36m 515 \u001b[0m | morti\n",
      "City \u001b[1m not \u001b[0m found. Skipping...\n",
      "Processing Record \u001b[36m 516\u001b[0m of Set \u001b[36m 516 \u001b[0m | skibbereen\n",
      "Processing Record \u001b[36m 517\u001b[0m of Set \u001b[36m 517 \u001b[0m | whyalla\n",
      "Processing Record \u001b[36m 518\u001b[0m of Set \u001b[36m 518 \u001b[0m | grand centre\n",
      "City \u001b[1m not \u001b[0m found. Skipping...\n",
      "Processing Record \u001b[36m 519\u001b[0m of Set \u001b[36m 519 \u001b[0m | berlevag\n",
      "Processing Record \u001b[36m 520\u001b[0m of Set \u001b[36m 520 \u001b[0m | baykit\n",
      "Processing Record \u001b[36m 521\u001b[0m of Set \u001b[36m 521 \u001b[0m | sindor\n",
      "Processing Record \u001b[36m 522\u001b[0m of Set \u001b[36m 522 \u001b[0m | cascais\n",
      "Processing Record \u001b[36m 523\u001b[0m of Set \u001b[36m 523 \u001b[0m | jogbani\n",
      "Processing Record \u001b[36m 524\u001b[0m of Set \u001b[36m 524 \u001b[0m | sechura\n",
      "Processing Record \u001b[36m 525\u001b[0m of Set \u001b[36m 525 \u001b[0m | bulgan\n",
      "Processing Record \u001b[36m 526\u001b[0m of Set \u001b[36m 526 \u001b[0m | lagoa\n",
      "Processing Record \u001b[36m 527\u001b[0m of Set \u001b[36m 527 \u001b[0m | cerro azul\n",
      "Processing Record \u001b[36m 528\u001b[0m of Set \u001b[36m 528 \u001b[0m | seda\n",
      "Processing Record \u001b[36m 529\u001b[0m of Set \u001b[36m 529 \u001b[0m | ardmore\n",
      "Processing Record \u001b[36m 530\u001b[0m of Set \u001b[36m 530 \u001b[0m | olafsvik\n",
      "Processing Record \u001b[36m 531\u001b[0m of Set \u001b[36m 531 \u001b[0m | manado\n",
      "Processing Record \u001b[36m 532\u001b[0m of Set \u001b[36m 532 \u001b[0m | ust-ilimsk\n",
      "Processing Record \u001b[36m 533\u001b[0m of Set \u001b[36m 533 \u001b[0m | sidney\n",
      "Processing Record \u001b[36m 534\u001b[0m of Set \u001b[36m 534 \u001b[0m | sidi ali\n",
      "Processing Record \u001b[36m 535\u001b[0m of Set \u001b[36m 535 \u001b[0m | herat\n",
      "Processing Record \u001b[36m 536\u001b[0m of Set \u001b[36m 536 \u001b[0m | san carlos del zulia\n",
      "Processing Record \u001b[36m 537\u001b[0m of Set \u001b[36m 537 \u001b[0m | ahipara\n",
      "Processing Record \u001b[36m 538\u001b[0m of Set \u001b[36m 538 \u001b[0m | salym\n",
      "Processing Record \u001b[36m 539\u001b[0m of Set \u001b[36m 539 \u001b[0m | bilma\n",
      "Processing Record \u001b[36m 540\u001b[0m of Set \u001b[36m 540 \u001b[0m | camabatela\n",
      "Processing Record \u001b[36m 541\u001b[0m of Set \u001b[36m 541 \u001b[0m | waingapu\n",
      "Processing Record \u001b[36m 542\u001b[0m of Set \u001b[36m 542 \u001b[0m | hirara\n",
      "Processing Record \u001b[36m 543\u001b[0m of Set \u001b[36m 543 \u001b[0m | oia\n",
      "Processing Record \u001b[36m 544\u001b[0m of Set \u001b[36m 544 \u001b[0m | samusu\n",
      "City \u001b[1m not \u001b[0m found. Skipping...\n",
      "Processing Record \u001b[36m 545\u001b[0m of Set \u001b[36m 545 \u001b[0m | reutov\n",
      "Processing Record \u001b[36m 546\u001b[0m of Set \u001b[36m 546 \u001b[0m | proletariy\n",
      "Processing Record \u001b[36m 547\u001b[0m of Set \u001b[36m 547 \u001b[0m | kastamonu\n",
      "Processing Record \u001b[36m 548\u001b[0m of Set \u001b[36m 548 \u001b[0m | vostok\n",
      "Processing Record \u001b[36m 549\u001b[0m of Set \u001b[36m 549 \u001b[0m | najran\n",
      "Processing Record \u001b[36m 550\u001b[0m of Set \u001b[36m 550 \u001b[0m | itambe\n",
      "Processing Record \u001b[36m 551\u001b[0m of Set \u001b[36m 551 \u001b[0m | cayenne\n",
      "Processing Record \u001b[36m 552\u001b[0m of Set \u001b[36m 552 \u001b[0m | satitoa\n",
      "City \u001b[1m not \u001b[0m found. Skipping...\n",
      "Processing Record \u001b[36m 553\u001b[0m of Set \u001b[36m 553 \u001b[0m | payson\n",
      "Processing Record \u001b[36m 554\u001b[0m of Set \u001b[36m 554 \u001b[0m | san quintin\n",
      "Processing Record \u001b[36m 555\u001b[0m of Set \u001b[36m 555 \u001b[0m | hof\n",
      "Processing Record \u001b[36m 556\u001b[0m of Set \u001b[36m 556 \u001b[0m | pacifica\n",
      "Processing Record \u001b[36m 557\u001b[0m of Set \u001b[36m 557 \u001b[0m | sri aman\n",
      "Processing Record \u001b[36m 558\u001b[0m of Set \u001b[36m 558 \u001b[0m | napasar\n",
      "Processing Record \u001b[36m 559\u001b[0m of Set \u001b[36m 559 \u001b[0m | payakumbuh\n",
      "Processing Record \u001b[36m 560\u001b[0m of Set \u001b[36m 560 \u001b[0m | kolokani\n",
      "Processing Record \u001b[36m 561\u001b[0m of Set \u001b[36m 561 \u001b[0m | xuddur\n",
      "Processing Record \u001b[36m 562\u001b[0m of Set \u001b[36m 562 \u001b[0m | nanortalik\n",
      "Processing Record \u001b[36m 563\u001b[0m of Set \u001b[36m 563 \u001b[0m | manyana\n",
      "Processing Record \u001b[36m 564\u001b[0m of Set \u001b[36m 564 \u001b[0m | great falls\n",
      "Processing Record \u001b[36m 565\u001b[0m of Set \u001b[36m 565 \u001b[0m | chagda\n",
      "City \u001b[1m not \u001b[0m found. Skipping...\n",
      "Processing Record \u001b[36m 566\u001b[0m of Set \u001b[36m 566 \u001b[0m | sanandaj\n",
      "Processing Record \u001b[36m 567\u001b[0m of Set \u001b[36m 567 \u001b[0m | shizunai\n",
      "Processing Record \u001b[36m 568\u001b[0m of Set \u001b[36m 568 \u001b[0m | limbang\n",
      "Processing Record \u001b[36m 569\u001b[0m of Set \u001b[36m 569 \u001b[0m | methoni\n",
      "Processing Record \u001b[36m 570\u001b[0m of Set \u001b[36m 570 \u001b[0m | mokhsogollokh\n",
      "Processing Record \u001b[36m 571\u001b[0m of Set \u001b[36m 571 \u001b[0m | jaru\n",
      "Processing Record \u001b[36m 572\u001b[0m of Set \u001b[36m 572 \u001b[0m | nagua\n",
      "Processing Record \u001b[36m 573\u001b[0m of Set \u001b[36m 573 \u001b[0m | puerto ayacucho\n",
      "Processing Record \u001b[36m 574\u001b[0m of Set \u001b[36m 574 \u001b[0m | lerwick\n",
      "Processing Record \u001b[36m 575\u001b[0m of Set \u001b[36m 575 \u001b[0m | noumea\n",
      "Processing Record \u001b[36m 576\u001b[0m of Set \u001b[36m 576 \u001b[0m | ciras\n",
      "City \u001b[1m not \u001b[0m found. Skipping...\n",
      "Processing Record \u001b[36m 577\u001b[0m of Set \u001b[36m 577 \u001b[0m | samarai\n",
      "Processing Record \u001b[36m 578\u001b[0m of Set \u001b[36m 578 \u001b[0m | at-bashi\n",
      "Processing Record \u001b[36m 579\u001b[0m of Set \u001b[36m 579 \u001b[0m | tabiauea\n",
      "City \u001b[1m not \u001b[0m found. Skipping...\n",
      "Processing Record \u001b[36m 580\u001b[0m of Set \u001b[36m 580 \u001b[0m | villa carlos paz\n",
      "Processing Record \u001b[36m 581\u001b[0m of Set \u001b[36m 581 \u001b[0m | kikwit\n",
      "Processing Record \u001b[36m 582\u001b[0m of Set \u001b[36m 582 \u001b[0m | marzuq\n",
      "Processing Record \u001b[36m 583\u001b[0m of Set \u001b[36m 583 \u001b[0m | bonavista\n",
      "Processing Record \u001b[36m 584\u001b[0m of Set \u001b[36m 584 \u001b[0m | khovu-aksy\n",
      "Processing Record \u001b[36m 585\u001b[0m of Set \u001b[36m 585 \u001b[0m | alamosa\n",
      "Processing Record \u001b[36m 586\u001b[0m of Set \u001b[36m 586 \u001b[0m | aranos\n",
      "Processing Record \u001b[36m 587\u001b[0m of Set \u001b[36m 587 \u001b[0m | port hedland\n",
      "Processing Record \u001b[36m 588\u001b[0m of Set \u001b[36m 588 \u001b[0m | saint-pierre\n",
      "Processing Record \u001b[36m 589\u001b[0m of Set \u001b[36m 589 \u001b[0m | shakawe\n",
      "Processing Record \u001b[36m 590\u001b[0m of Set \u001b[36m 590 \u001b[0m | ossora\n",
      "Processing Record \u001b[36m 591\u001b[0m of Set \u001b[36m 591 \u001b[0m | asfi\n",
      "Processing Record \u001b[36m 592\u001b[0m of Set \u001b[36m 592 \u001b[0m | shelburne\n",
      "Processing Record \u001b[36m 593\u001b[0m of Set \u001b[36m 593 \u001b[0m | fredericksburg\n",
      "Processing Record \u001b[36m 594\u001b[0m of Set \u001b[36m 594 \u001b[0m | general roca\n",
      "Processing Record \u001b[36m 595\u001b[0m of Set \u001b[36m 595 \u001b[0m | ruteng\n",
      "Processing Record \u001b[36m 596\u001b[0m of Set \u001b[36m 596 \u001b[0m | manzhouli\n",
      "Processing Record \u001b[36m 597\u001b[0m of Set \u001b[36m 597 \u001b[0m | campo maior\n",
      "Processing Record \u001b[36m 598\u001b[0m of Set \u001b[36m 598 \u001b[0m | tessalit\n",
      "Processing Record \u001b[36m 599\u001b[0m of Set \u001b[36m 599 \u001b[0m | san javier\n",
      "Processing Record \u001b[36m 600\u001b[0m of Set \u001b[36m 600 \u001b[0m | pizarro\n",
      "Processing Record \u001b[36m 601\u001b[0m of Set \u001b[36m 601 \u001b[0m | bonthe\n",
      "Processing Record \u001b[36m 602\u001b[0m of Set \u001b[36m 602 \u001b[0m | pafos\n"
     ]
    },
    {
     "name": "stdout",
     "output_type": "stream",
     "text": [
      "Processing Record \u001b[36m 603\u001b[0m of Set \u001b[36m 603 \u001b[0m | danville\n",
      "Processing Record \u001b[36m 604\u001b[0m of Set \u001b[36m 604 \u001b[0m | alyangula\n",
      "Processing Record \u001b[36m 605\u001b[0m of Set \u001b[36m 605 \u001b[0m | nalut\n",
      "Processing Record \u001b[36m 606\u001b[0m of Set \u001b[36m 606 \u001b[0m | juneau\n",
      "Processing Record \u001b[36m 607\u001b[0m of Set \u001b[36m 607 \u001b[0m | bolungarvik\n",
      "City \u001b[1m not \u001b[0m found. Skipping...\n",
      "Processing Record \u001b[36m 608\u001b[0m of Set \u001b[36m 608 \u001b[0m | indramayu\n",
      "Processing Record \u001b[36m 609\u001b[0m of Set \u001b[36m 609 \u001b[0m | cienfuegos\n",
      "Processing Record \u001b[36m 610\u001b[0m of Set \u001b[36m 610 \u001b[0m | chinar\n",
      "Processing Record \u001b[36m 611\u001b[0m of Set \u001b[36m 611 \u001b[0m | zavyalovo\n",
      "Processing Record \u001b[36m 612\u001b[0m of Set \u001b[36m 612 \u001b[0m | tiarei\n",
      "Processing Record \u001b[36m 613\u001b[0m of Set \u001b[36m 613 \u001b[0m | lonevag\n"
     ]
    },
    {
     "data": {
      "text/html": [
       "<div>\n",
       "<style scoped>\n",
       "    .dataframe tbody tr th:only-of-type {\n",
       "        vertical-align: middle;\n",
       "    }\n",
       "\n",
       "    .dataframe tbody tr th {\n",
       "        vertical-align: top;\n",
       "    }\n",
       "\n",
       "    .dataframe thead th {\n",
       "        text-align: right;\n",
       "    }\n",
       "</style>\n",
       "<table border=\"1\" class=\"dataframe\">\n",
       "  <thead>\n",
       "    <tr style=\"text-align: right;\">\n",
       "      <th></th>\n",
       "      <th>City</th>\n",
       "      <th>Cloudiness</th>\n",
       "      <th>Country</th>\n",
       "      <th>Date</th>\n",
       "      <th>Humidity</th>\n",
       "      <th>Lat</th>\n",
       "      <th>Lng</th>\n",
       "      <th>Max Temp</th>\n",
       "      <th>Wind Speed</th>\n",
       "    </tr>\n",
       "  </thead>\n",
       "  <tbody>\n",
       "    <tr>\n",
       "      <th>0</th>\n",
       "      <td>Rio Grande</td>\n",
       "      <td>20</td>\n",
       "      <td>BR</td>\n",
       "      <td>1584114963</td>\n",
       "      <td>66</td>\n",
       "      <td>-32.03</td>\n",
       "      <td>-52.10</td>\n",
       "      <td>86.00</td>\n",
       "      <td>9.17</td>\n",
       "    </tr>\n",
       "    <tr>\n",
       "      <th>1</th>\n",
       "      <td>Leer</td>\n",
       "      <td>99</td>\n",
       "      <td>SS</td>\n",
       "      <td>1584115065</td>\n",
       "      <td>35</td>\n",
       "      <td>8.30</td>\n",
       "      <td>30.14</td>\n",
       "      <td>91.67</td>\n",
       "      <td>3.76</td>\n",
       "    </tr>\n",
       "    <tr>\n",
       "      <th>2</th>\n",
       "      <td>Hobart</td>\n",
       "      <td>9</td>\n",
       "      <td>AU</td>\n",
       "      <td>1584115023</td>\n",
       "      <td>63</td>\n",
       "      <td>-42.88</td>\n",
       "      <td>147.33</td>\n",
       "      <td>48.20</td>\n",
       "      <td>17.22</td>\n",
       "    </tr>\n",
       "    <tr>\n",
       "      <th>3</th>\n",
       "      <td>Aksarka</td>\n",
       "      <td>100</td>\n",
       "      <td>RU</td>\n",
       "      <td>1584115065</td>\n",
       "      <td>94</td>\n",
       "      <td>66.56</td>\n",
       "      <td>67.80</td>\n",
       "      <td>34.25</td>\n",
       "      <td>22.57</td>\n",
       "    </tr>\n",
       "    <tr>\n",
       "      <th>4</th>\n",
       "      <td>Atuona</td>\n",
       "      <td>95</td>\n",
       "      <td>PF</td>\n",
       "      <td>1584115029</td>\n",
       "      <td>68</td>\n",
       "      <td>-9.80</td>\n",
       "      <td>-139.03</td>\n",
       "      <td>81.77</td>\n",
       "      <td>11.50</td>\n",
       "    </tr>\n",
       "    <tr>\n",
       "      <th>...</th>\n",
       "      <td>...</td>\n",
       "      <td>...</td>\n",
       "      <td>...</td>\n",
       "      <td>...</td>\n",
       "      <td>...</td>\n",
       "      <td>...</td>\n",
       "      <td>...</td>\n",
       "      <td>...</td>\n",
       "      <td>...</td>\n",
       "    </tr>\n",
       "    <tr>\n",
       "      <th>552</th>\n",
       "      <td>Cienfuegos</td>\n",
       "      <td>40</td>\n",
       "      <td>CU</td>\n",
       "      <td>1584115171</td>\n",
       "      <td>61</td>\n",
       "      <td>22.15</td>\n",
       "      <td>-80.44</td>\n",
       "      <td>80.60</td>\n",
       "      <td>10.29</td>\n",
       "    </tr>\n",
       "    <tr>\n",
       "      <th>553</th>\n",
       "      <td>Chinar</td>\n",
       "      <td>0</td>\n",
       "      <td>RU</td>\n",
       "      <td>1584115171</td>\n",
       "      <td>70</td>\n",
       "      <td>42.11</td>\n",
       "      <td>48.14</td>\n",
       "      <td>49.91</td>\n",
       "      <td>6.13</td>\n",
       "    </tr>\n",
       "    <tr>\n",
       "      <th>554</th>\n",
       "      <td>Zavyalovo</td>\n",
       "      <td>41</td>\n",
       "      <td>RU</td>\n",
       "      <td>1584115172</td>\n",
       "      <td>62</td>\n",
       "      <td>54.51</td>\n",
       "      <td>82.45</td>\n",
       "      <td>24.80</td>\n",
       "      <td>4.47</td>\n",
       "    </tr>\n",
       "    <tr>\n",
       "      <th>555</th>\n",
       "      <td>Tiarei</td>\n",
       "      <td>25</td>\n",
       "      <td>PF</td>\n",
       "      <td>1584115086</td>\n",
       "      <td>83</td>\n",
       "      <td>-17.53</td>\n",
       "      <td>-149.33</td>\n",
       "      <td>77.00</td>\n",
       "      <td>4.70</td>\n",
       "    </tr>\n",
       "    <tr>\n",
       "      <th>556</th>\n",
       "      <td>Lonevåg</td>\n",
       "      <td>40</td>\n",
       "      <td>NO</td>\n",
       "      <td>1584115172</td>\n",
       "      <td>59</td>\n",
       "      <td>60.53</td>\n",
       "      <td>5.49</td>\n",
       "      <td>36.00</td>\n",
       "      <td>19.46</td>\n",
       "    </tr>\n",
       "  </tbody>\n",
       "</table>\n",
       "<p>557 rows × 9 columns</p>\n",
       "</div>"
      ],
      "text/plain": [
       "           City  Cloudiness Country        Date  Humidity    Lat     Lng  \\\n",
       "0    Rio Grande          20      BR  1584114963        66 -32.03  -52.10   \n",
       "1          Leer          99      SS  1584115065        35   8.30   30.14   \n",
       "2        Hobart           9      AU  1584115023        63 -42.88  147.33   \n",
       "3       Aksarka         100      RU  1584115065        94  66.56   67.80   \n",
       "4        Atuona          95      PF  1584115029        68  -9.80 -139.03   \n",
       "..          ...         ...     ...         ...       ...    ...     ...   \n",
       "552  Cienfuegos          40      CU  1584115171        61  22.15  -80.44   \n",
       "553      Chinar           0      RU  1584115171        70  42.11   48.14   \n",
       "554   Zavyalovo          41      RU  1584115172        62  54.51   82.45   \n",
       "555      Tiarei          25      PF  1584115086        83 -17.53 -149.33   \n",
       "556     Lonevåg          40      NO  1584115172        59  60.53    5.49   \n",
       "\n",
       "     Max Temp  Wind Speed  \n",
       "0       86.00        9.17  \n",
       "1       91.67        3.76  \n",
       "2       48.20       17.22  \n",
       "3       34.25       22.57  \n",
       "4       81.77       11.50  \n",
       "..        ...         ...  \n",
       "552     80.60       10.29  \n",
       "553     49.91        6.13  \n",
       "554     24.80        4.47  \n",
       "555     77.00        4.70  \n",
       "556     36.00       19.46  \n",
       "\n",
       "[557 rows x 9 columns]"
      ]
     },
     "execution_count": 3,
     "metadata": {},
     "output_type": "execute_result"
    }
   ],
   "source": [
    "# set up dataframe column names\n",
    "column_names = ['City','Cloudiness','Country',\n",
    "                'Date','Humidity','Lat','Lng',\n",
    "                'Max Temp','Wind Speed']\n",
    "\n",
    "# Create an empty list to populate with weather data\n",
    "weather = []\n",
    "\n",
    "# Print a banner\n",
    "print('Beginning Data Retrieval')\n",
    "print(\"------------------------------\")\n",
    "\n",
    "# Loop over the list of cities and request data from openweather\n",
    "for i in range(0, len(cities)):\n",
    "    # Set up the url for the city to query\n",
    "    url=\"http://api.openweathermap.org/data/2.5/weather?q=\"+cities[i]+\"&units=imperial&appid=283a9319d8bc008a581bb0b88d702293\"\n",
    "    #print(url)\n",
    "    \n",
    "    try: \n",
    "        # Make the request call and jsonify it all in one step\n",
    "        response = requests.get(url).json()\n",
    "        # Print a progress report to the screen\n",
    "        print(\"Processing Record \\033[36m {0}\\033[0m of Set \\033[36m {1} \\033[0m | {2}\".format(i, i, cities[i]))\n",
    "        # append the call data to the weather list\n",
    "        weather.append([response['name'], response['clouds']['all'], \n",
    "                    response['sys']['country'], \n",
    "                    response['dt'], response['main']['humidity'], response['coord']['lat'], \n",
    "                    response['coord']['lon'], response['main']['temp_max'], \n",
    "                    response['wind']['speed']])\n",
    "    except:\n",
    "        # If the city is not found just skip it and process the next city \n",
    "        print('City \\033[1m not \\033[0m found. Skipping...')\n",
    "\n",
    "# Create a dataframe with the weather data\n",
    "df = pd.DataFrame(weather, columns=column_names)\n",
    "df\n"
   ]
  },
  {
   "cell_type": "markdown",
   "metadata": {},
   "source": [
    "### Convert Raw Data to DataFrame\n",
    "* Export the city data into a .csv.\n",
    "* Display the DataFrame"
   ]
  },
  {
   "cell_type": "code",
   "execution_count": 4,
   "metadata": {},
   "outputs": [
    {
     "data": {
      "text/html": [
       "<div>\n",
       "<style scoped>\n",
       "    .dataframe tbody tr th:only-of-type {\n",
       "        vertical-align: middle;\n",
       "    }\n",
       "\n",
       "    .dataframe tbody tr th {\n",
       "        vertical-align: top;\n",
       "    }\n",
       "\n",
       "    .dataframe thead th {\n",
       "        text-align: right;\n",
       "    }\n",
       "</style>\n",
       "<table border=\"1\" class=\"dataframe\">\n",
       "  <thead>\n",
       "    <tr style=\"text-align: right;\">\n",
       "      <th></th>\n",
       "      <th>City</th>\n",
       "      <th>Cloudiness</th>\n",
       "      <th>Country</th>\n",
       "      <th>Date</th>\n",
       "      <th>Humidity</th>\n",
       "      <th>Lat</th>\n",
       "      <th>Lng</th>\n",
       "      <th>Max Temp</th>\n",
       "      <th>Wind Speed</th>\n",
       "    </tr>\n",
       "  </thead>\n",
       "  <tbody>\n",
       "    <tr>\n",
       "      <th>0</th>\n",
       "      <td>Rio Grande</td>\n",
       "      <td>20</td>\n",
       "      <td>BR</td>\n",
       "      <td>1584114963</td>\n",
       "      <td>66</td>\n",
       "      <td>-32.03</td>\n",
       "      <td>-52.10</td>\n",
       "      <td>86.00</td>\n",
       "      <td>9.17</td>\n",
       "    </tr>\n",
       "    <tr>\n",
       "      <th>1</th>\n",
       "      <td>Leer</td>\n",
       "      <td>99</td>\n",
       "      <td>SS</td>\n",
       "      <td>1584115065</td>\n",
       "      <td>35</td>\n",
       "      <td>8.30</td>\n",
       "      <td>30.14</td>\n",
       "      <td>91.67</td>\n",
       "      <td>3.76</td>\n",
       "    </tr>\n",
       "    <tr>\n",
       "      <th>2</th>\n",
       "      <td>Hobart</td>\n",
       "      <td>9</td>\n",
       "      <td>AU</td>\n",
       "      <td>1584115023</td>\n",
       "      <td>63</td>\n",
       "      <td>-42.88</td>\n",
       "      <td>147.33</td>\n",
       "      <td>48.20</td>\n",
       "      <td>17.22</td>\n",
       "    </tr>\n",
       "    <tr>\n",
       "      <th>3</th>\n",
       "      <td>Aksarka</td>\n",
       "      <td>100</td>\n",
       "      <td>RU</td>\n",
       "      <td>1584115065</td>\n",
       "      <td>94</td>\n",
       "      <td>66.56</td>\n",
       "      <td>67.80</td>\n",
       "      <td>34.25</td>\n",
       "      <td>22.57</td>\n",
       "    </tr>\n",
       "    <tr>\n",
       "      <th>4</th>\n",
       "      <td>Atuona</td>\n",
       "      <td>95</td>\n",
       "      <td>PF</td>\n",
       "      <td>1584115029</td>\n",
       "      <td>68</td>\n",
       "      <td>-9.80</td>\n",
       "      <td>-139.03</td>\n",
       "      <td>81.77</td>\n",
       "      <td>11.50</td>\n",
       "    </tr>\n",
       "    <tr>\n",
       "      <th>...</th>\n",
       "      <td>...</td>\n",
       "      <td>...</td>\n",
       "      <td>...</td>\n",
       "      <td>...</td>\n",
       "      <td>...</td>\n",
       "      <td>...</td>\n",
       "      <td>...</td>\n",
       "      <td>...</td>\n",
       "      <td>...</td>\n",
       "    </tr>\n",
       "    <tr>\n",
       "      <th>552</th>\n",
       "      <td>Cienfuegos</td>\n",
       "      <td>40</td>\n",
       "      <td>CU</td>\n",
       "      <td>1584115171</td>\n",
       "      <td>61</td>\n",
       "      <td>22.15</td>\n",
       "      <td>-80.44</td>\n",
       "      <td>80.60</td>\n",
       "      <td>10.29</td>\n",
       "    </tr>\n",
       "    <tr>\n",
       "      <th>553</th>\n",
       "      <td>Chinar</td>\n",
       "      <td>0</td>\n",
       "      <td>RU</td>\n",
       "      <td>1584115171</td>\n",
       "      <td>70</td>\n",
       "      <td>42.11</td>\n",
       "      <td>48.14</td>\n",
       "      <td>49.91</td>\n",
       "      <td>6.13</td>\n",
       "    </tr>\n",
       "    <tr>\n",
       "      <th>554</th>\n",
       "      <td>Zavyalovo</td>\n",
       "      <td>41</td>\n",
       "      <td>RU</td>\n",
       "      <td>1584115172</td>\n",
       "      <td>62</td>\n",
       "      <td>54.51</td>\n",
       "      <td>82.45</td>\n",
       "      <td>24.80</td>\n",
       "      <td>4.47</td>\n",
       "    </tr>\n",
       "    <tr>\n",
       "      <th>555</th>\n",
       "      <td>Tiarei</td>\n",
       "      <td>25</td>\n",
       "      <td>PF</td>\n",
       "      <td>1584115086</td>\n",
       "      <td>83</td>\n",
       "      <td>-17.53</td>\n",
       "      <td>-149.33</td>\n",
       "      <td>77.00</td>\n",
       "      <td>4.70</td>\n",
       "    </tr>\n",
       "    <tr>\n",
       "      <th>556</th>\n",
       "      <td>Lonevåg</td>\n",
       "      <td>40</td>\n",
       "      <td>NO</td>\n",
       "      <td>1584115172</td>\n",
       "      <td>59</td>\n",
       "      <td>60.53</td>\n",
       "      <td>5.49</td>\n",
       "      <td>36.00</td>\n",
       "      <td>19.46</td>\n",
       "    </tr>\n",
       "  </tbody>\n",
       "</table>\n",
       "<p>557 rows × 9 columns</p>\n",
       "</div>"
      ],
      "text/plain": [
       "           City  Cloudiness Country        Date  Humidity    Lat     Lng  \\\n",
       "0    Rio Grande          20      BR  1584114963        66 -32.03  -52.10   \n",
       "1          Leer          99      SS  1584115065        35   8.30   30.14   \n",
       "2        Hobart           9      AU  1584115023        63 -42.88  147.33   \n",
       "3       Aksarka         100      RU  1584115065        94  66.56   67.80   \n",
       "4        Atuona          95      PF  1584115029        68  -9.80 -139.03   \n",
       "..          ...         ...     ...         ...       ...    ...     ...   \n",
       "552  Cienfuegos          40      CU  1584115171        61  22.15  -80.44   \n",
       "553      Chinar           0      RU  1584115171        70  42.11   48.14   \n",
       "554   Zavyalovo          41      RU  1584115172        62  54.51   82.45   \n",
       "555      Tiarei          25      PF  1584115086        83 -17.53 -149.33   \n",
       "556     Lonevåg          40      NO  1584115172        59  60.53    5.49   \n",
       "\n",
       "     Max Temp  Wind Speed  \n",
       "0       86.00        9.17  \n",
       "1       91.67        3.76  \n",
       "2       48.20       17.22  \n",
       "3       34.25       22.57  \n",
       "4       81.77       11.50  \n",
       "..        ...         ...  \n",
       "552     80.60       10.29  \n",
       "553     49.91        6.13  \n",
       "554     24.80        4.47  \n",
       "555     77.00        4.70  \n",
       "556     36.00       19.46  \n",
       "\n",
       "[557 rows x 9 columns]"
      ]
     },
     "execution_count": 4,
     "metadata": {},
     "output_type": "execute_result"
    }
   ],
   "source": [
    "# Save the city data into a CSV file\n",
    "df.to_csv (output_data_file, header=True)\n",
    "\n",
    "# display the dataframe\n",
    "df"
   ]
  },
  {
   "cell_type": "markdown",
   "metadata": {},
   "source": [
    "### Plotting the Data\n",
    "* Use proper labeling of the plots using plot titles (including date of analysis) and axes labels.\n",
    "* Save the plotted figures as .pngs."
   ]
  },
  {
   "cell_type": "code",
   "execution_count": 5,
   "metadata": {},
   "outputs": [],
   "source": [
    "# A function to correctly label plots\n",
    "\n",
    "def label_plot(plt,plot_title, x_axis, y_axis):\n",
    "    plt.set_title(plot_title)\n",
    "    plt.set_xlabel(x_axis)\n",
    "    plt.set_ylabel(y_axis)\n",
    "    "
   ]
  },
  {
   "cell_type": "markdown",
   "metadata": {},
   "source": [
    "#### Latitude vs. Temperature Plot"
   ]
  },
  {
   "cell_type": "code",
   "execution_count": 6,
   "metadata": {},
   "outputs": [
    {
     "data": {
      "image/png": "[encoded data removed]",
      "text/plain": [
       "<Figure size 432x288 with 1 Axes>"
      ]
     },
     "metadata": {
      "needs_background": "light"
     },
     "output_type": "display_data"
    }
   ],
   "source": [
    "ax1 = df.plot.scatter(x='Lat',\n",
    "                      y='Max Temp',\n",
    "                      c='DarkBlue')\n",
    "label_plot(ax1, 'Latitude vs. Temperature', \"Latitude\", \"Maxiumum Temerpature\")\n",
    "plt.savefig('LatVTemp.png')\n",
    "plt.show()"
   ]
  },
  {
   "cell_type": "markdown",
   "metadata": {
    "scrolled": true
   },
   "source": [
    "#### Latitude vs Temperature: Observation\n",
    "Temperatures tend to increase closer to the equator (latitude 0) then fall off by distance either to the north or south. "
   ]
  },
  {
   "cell_type": "markdown",
   "metadata": {},
   "source": [
    "#### Latitude vs. Humidity Plot"
   ]
  },
  {
   "cell_type": "code",
   "execution_count": 7,
   "metadata": {},
   "outputs": [
    {
     "data": {
      "image/png": "[encoded data removed]",
      "text/plain": [
       "<Figure size 432x288 with 1 Axes>"
      ]
     },
     "metadata": {
      "needs_background": "light"
     },
     "output_type": "display_data"
    }
   ],
   "source": [
    "ax1 = df.plot.scatter(x='Lat',\n",
    "                      y='Humidity',\n",
    "                      c='DarkBlue')\n",
    "label_plot(ax1, 'Latitude vs. Humidity', \"Latitude\", \"Humidity (%)\")\n",
    "plt.savefig('LatVHumid.png')\n",
    "plt.show()"
   ]
  },
  {
   "cell_type": "markdown",
   "metadata": {},
   "source": [
    "#### Latitude vs Humidity: Observation\n"
   ]
  },
  {
   "cell_type": "markdown",
   "metadata": {},
   "source": [
    "#### Latitude vs. Cloudiness Plot"
   ]
  },
  {
   "cell_type": "code",
   "execution_count": 8,
   "metadata": {},
   "outputs": [
    {
     "data": {
      "image/png": "[encoded data removed]",
      "text/plain": [
       "<Figure size 432x288 with 1 Axes>"
      ]
     },
     "metadata": {
      "needs_background": "light"
     },
     "output_type": "display_data"
    }
   ],
   "source": [
    "ax1 = df.plot.scatter(x='Lat',\n",
    "                      y='Cloudiness',\n",
    "                      c='DarkBlue')\n",
    "label_plot(ax1, 'Latitude vs. Cloudiness', \"Latitude\", \"Cloudiness (%)\")\n",
    "plt.savefig('LatVCloud.png')\n",
    "plt.show()"
   ]
  },
  {
   "cell_type": "markdown",
   "metadata": {},
   "source": [
    "#### Latitude vs Cloudiness: Observation\n"
   ]
  },
  {
   "cell_type": "markdown",
   "metadata": {},
   "source": [
    "#### Latitude vs. Wind Speed Plot"
   ]
  },
  {
   "cell_type": "code",
   "execution_count": 9,
   "metadata": {},
   "outputs": [
    {
     "data": {
      "image/png": "[encoded data removed]",
      "text/plain": [
       "<Figure size 432x288 with 1 Axes>"
      ]
     },
     "metadata": {
      "needs_background": "light"
     },
     "output_type": "display_data"
    }
   ],
   "source": [
    "ax1 = df.plot.scatter(x='Lat',\n",
    "                      y='Wind Speed',\n",
    "                      c='DarkBlue')\n",
    "label_plot(ax1, 'Latitude vs. Wind Speed', \"Latitude\", \"Wind Speed (mph)\")\n",
    "plt.savefig('LatVWind.png')\n",
    "plt.show()"
   ]
  },
  {
   "cell_type": "markdown",
   "metadata": {},
   "source": [
    "#### Latitude vs Windspeed: Observation\n"
   ]
  },
  {
   "cell_type": "markdown",
   "metadata": {},
   "source": [
    "## Linear Regression"
   ]
  },
  {
   "cell_type": "code",
   "execution_count": 10,
   "metadata": {},
   "outputs": [],
   "source": [
    "# OPTIONAL: Create a function to create Linear Regression plots\n",
    "\n",
    "# Calculate the correlation coefficient and linear regression \n",
    "# model for mouse weight and average tumor volume for the Capomulin regimenn\n",
    "# Use sci pi to the the pearson r measure of correlation (r value)\n",
    "\n",
    "def plot_linear_regression(x_values, y_values, x_label, y_label):    \n",
    "    # Do a line regression on x and y values to calculate values for the line\n",
    "    (slope, intercept, rvalue, pvalue, stderr) = linregress(x_values, y_values)\n",
    "    regress_values = x_values * slope + intercept\n",
    "    \n",
    "    # Longer print message - can uncomment if would prefer longer message\n",
    "#     print('The correlation between ' + x_label + \n",
    "#       '\\033[1m and \\033[0m' +\n",
    "#       'the ' + y_label +\n",
    "#       '\\033[1m is \\033[0m' + \n",
    "#        f'\\033[36m {rvalue:2.2f} \\033[0m')\n",
    "    \n",
    "    print('The r-squared' + '\\033[1m is \\033[0m' + f'\\033[36m {rvalue:2.6f} \\033[0m')\n",
    "\n",
    "    # Create a scatter plot of weight versus average tumor volume\n",
    "    plt.scatter(x_values,y_values)\n",
    "    \n",
    "    # Add a red line to indicate the correlation\n",
    "    plt.plot(x_values,regress_values,\"r-\")\n",
    "    \n",
    "    # Create labels for the axes\n",
    "    plt.xlabel(x_label)\n",
    "    plt.ylabel(y_label)\n",
    "    plt.title(x_label+\" Versus \"+ y_label)\n",
    "\n",
    "    # Show the plot\n",
    "    plt.show()"
   ]
  },
  {
   "cell_type": "code",
   "execution_count": 20,
   "metadata": {},
   "outputs": [
    {
     "data": {
      "text/html": [
       "<div>\n",
       "<style scoped>\n",
       "    .dataframe tbody tr th:only-of-type {\n",
       "        vertical-align: middle;\n",
       "    }\n",
       "\n",
       "    .dataframe tbody tr th {\n",
       "        vertical-align: top;\n",
       "    }\n",
       "\n",
       "    .dataframe thead th {\n",
       "        text-align: right;\n",
       "    }\n",
       "</style>\n",
       "<table border=\"1\" class=\"dataframe\">\n",
       "  <thead>\n",
       "    <tr style=\"text-align: right;\">\n",
       "      <th></th>\n",
       "      <th>City</th>\n",
       "      <th>Cloudiness</th>\n",
       "      <th>Country</th>\n",
       "      <th>Date</th>\n",
       "      <th>Humidity</th>\n",
       "      <th>Lat</th>\n",
       "      <th>Lng</th>\n",
       "      <th>Max Temp</th>\n",
       "      <th>Wind Speed</th>\n",
       "    </tr>\n",
       "  </thead>\n",
       "  <tbody>\n",
       "    <tr>\n",
       "      <th>0</th>\n",
       "      <td>Rio Grande</td>\n",
       "      <td>20</td>\n",
       "      <td>BR</td>\n",
       "      <td>1584114963</td>\n",
       "      <td>66</td>\n",
       "      <td>-32.03</td>\n",
       "      <td>-52.10</td>\n",
       "      <td>86.00</td>\n",
       "      <td>9.17</td>\n",
       "    </tr>\n",
       "    <tr>\n",
       "      <th>2</th>\n",
       "      <td>Hobart</td>\n",
       "      <td>9</td>\n",
       "      <td>AU</td>\n",
       "      <td>1584115023</td>\n",
       "      <td>63</td>\n",
       "      <td>-42.88</td>\n",
       "      <td>147.33</td>\n",
       "      <td>48.20</td>\n",
       "      <td>17.22</td>\n",
       "    </tr>\n",
       "    <tr>\n",
       "      <th>4</th>\n",
       "      <td>Atuona</td>\n",
       "      <td>95</td>\n",
       "      <td>PF</td>\n",
       "      <td>1584115029</td>\n",
       "      <td>68</td>\n",
       "      <td>-9.80</td>\n",
       "      <td>-139.03</td>\n",
       "      <td>81.77</td>\n",
       "      <td>11.50</td>\n",
       "    </tr>\n",
       "    <tr>\n",
       "      <th>5</th>\n",
       "      <td>Port Elizabeth</td>\n",
       "      <td>43</td>\n",
       "      <td>ZA</td>\n",
       "      <td>1584115066</td>\n",
       "      <td>76</td>\n",
       "      <td>-33.92</td>\n",
       "      <td>25.57</td>\n",
       "      <td>73.31</td>\n",
       "      <td>8.21</td>\n",
       "    </tr>\n",
       "    <tr>\n",
       "      <th>6</th>\n",
       "      <td>Hermanus</td>\n",
       "      <td>0</td>\n",
       "      <td>ZA</td>\n",
       "      <td>1584115066</td>\n",
       "      <td>74</td>\n",
       "      <td>-34.42</td>\n",
       "      <td>19.23</td>\n",
       "      <td>73.99</td>\n",
       "      <td>3.00</td>\n",
       "    </tr>\n",
       "    <tr>\n",
       "      <th>...</th>\n",
       "      <td>...</td>\n",
       "      <td>...</td>\n",
       "      <td>...</td>\n",
       "      <td>...</td>\n",
       "      <td>...</td>\n",
       "      <td>...</td>\n",
       "      <td>...</td>\n",
       "      <td>...</td>\n",
       "      <td>...</td>\n",
       "    </tr>\n",
       "    <tr>\n",
       "      <th>539</th>\n",
       "      <td>Ruteng</td>\n",
       "      <td>100</td>\n",
       "      <td>ID</td>\n",
       "      <td>1584115169</td>\n",
       "      <td>93</td>\n",
       "      <td>-8.61</td>\n",
       "      <td>120.47</td>\n",
       "      <td>69.53</td>\n",
       "      <td>4.43</td>\n",
       "    </tr>\n",
       "    <tr>\n",
       "      <th>541</th>\n",
       "      <td>Campo Maior</td>\n",
       "      <td>41</td>\n",
       "      <td>BR</td>\n",
       "      <td>1584115169</td>\n",
       "      <td>64</td>\n",
       "      <td>-4.83</td>\n",
       "      <td>-42.17</td>\n",
       "      <td>90.77</td>\n",
       "      <td>1.66</td>\n",
       "    </tr>\n",
       "    <tr>\n",
       "      <th>548</th>\n",
       "      <td>Alyangula</td>\n",
       "      <td>99</td>\n",
       "      <td>AU</td>\n",
       "      <td>1584115170</td>\n",
       "      <td>94</td>\n",
       "      <td>-13.85</td>\n",
       "      <td>136.42</td>\n",
       "      <td>77.00</td>\n",
       "      <td>4.43</td>\n",
       "    </tr>\n",
       "    <tr>\n",
       "      <th>551</th>\n",
       "      <td>Indramayu</td>\n",
       "      <td>100</td>\n",
       "      <td>ID</td>\n",
       "      <td>1584114977</td>\n",
       "      <td>77</td>\n",
       "      <td>-6.33</td>\n",
       "      <td>108.32</td>\n",
       "      <td>81.23</td>\n",
       "      <td>1.77</td>\n",
       "    </tr>\n",
       "    <tr>\n",
       "      <th>555</th>\n",
       "      <td>Tiarei</td>\n",
       "      <td>25</td>\n",
       "      <td>PF</td>\n",
       "      <td>1584115086</td>\n",
       "      <td>83</td>\n",
       "      <td>-17.53</td>\n",
       "      <td>-149.33</td>\n",
       "      <td>77.00</td>\n",
       "      <td>4.70</td>\n",
       "    </tr>\n",
       "  </tbody>\n",
       "</table>\n",
       "<p>176 rows × 9 columns</p>\n",
       "</div>"
      ],
      "text/plain": [
       "               City  Cloudiness Country        Date  Humidity    Lat     Lng  \\\n",
       "0        Rio Grande          20      BR  1584114963        66 -32.03  -52.10   \n",
       "2            Hobart           9      AU  1584115023        63 -42.88  147.33   \n",
       "4            Atuona          95      PF  1584115029        68  -9.80 -139.03   \n",
       "5    Port Elizabeth          43      ZA  1584115066        76 -33.92   25.57   \n",
       "6          Hermanus           0      ZA  1584115066        74 -34.42   19.23   \n",
       "..              ...         ...     ...         ...       ...    ...     ...   \n",
       "539          Ruteng         100      ID  1584115169        93  -8.61  120.47   \n",
       "541     Campo Maior          41      BR  1584115169        64  -4.83  -42.17   \n",
       "548       Alyangula          99      AU  1584115170        94 -13.85  136.42   \n",
       "551       Indramayu         100      ID  1584114977        77  -6.33  108.32   \n",
       "555          Tiarei          25      PF  1584115086        83 -17.53 -149.33   \n",
       "\n",
       "     Max Temp  Wind Speed  \n",
       "0       86.00        9.17  \n",
       "2       48.20       17.22  \n",
       "4       81.77       11.50  \n",
       "5       73.31        8.21  \n",
       "6       73.99        3.00  \n",
       "..        ...         ...  \n",
       "539     69.53        4.43  \n",
       "541     90.77        1.66  \n",
       "548     77.00        4.43  \n",
       "551     81.23        1.77  \n",
       "555     77.00        4.70  \n",
       "\n",
       "[176 rows x 9 columns]"
      ]
     },
     "execution_count": 20,
     "metadata": {},
     "output_type": "execute_result"
    }
   ],
   "source": [
    "# Create Northern and Southern Hemisphere DataFrames\n",
    "northern_df = df[df['Lat'] >= 0]    #greater than or equal to 0 degrees latitude\n",
    "southern_df = df[df['Lat'] <  0]   #less than 0 degrees latitude"
   ]
  },
  {
   "cell_type": "markdown",
   "metadata": {},
   "source": [
    "####  Northern Hemisphere - Max Temp vs. Latitude Linear Regression"
   ]
  },
  {
   "cell_type": "code",
   "execution_count": 28,
   "metadata": {},
   "outputs": [
    {
     "name": "stdout",
     "output_type": "stream",
     "text": [
      "The r-squared\u001b[1m is \u001b[0m\u001b[36m -0.871691 \u001b[0m\n"
     ]
    },
    {
     "data": {
      "image/png": "[encoded data removed]",
      "text/plain": [
       "<Figure size 432x288 with 1 Axes>"
      ]
     },
     "metadata": {
      "needs_background": "light"
     },
     "output_type": "display_data"
    }
   ],
   "source": [
    "# Call the linear regression functino\n",
    "plot_linear_regression(northern_df['Lat'], northern_df['Max Temp'], \"Latitude\", \"Max Temp\")"
   ]
  },
  {
   "cell_type": "markdown",
   "metadata": {},
   "source": [
    "##### Northern Hemisphere - Max Temp vs. Latitude Linear Regression: Obervation"
   ]
  },
  {
   "cell_type": "markdown",
   "metadata": {},
   "source": [
    "####  Southern Hemisphere - Max Temp vs. Latitude Linear Regression"
   ]
  },
  {
   "cell_type": "code",
   "execution_count": 21,
   "metadata": {},
   "outputs": [
    {
     "name": "stdout",
     "output_type": "stream",
     "text": [
      "The r-squared\u001b[1m is \u001b[0m\u001b[36m 0.527330 \u001b[0m\n"
     ]
    },
    {
     "data": {
      "image/png": "[encoded data removed]",
      "text/plain": [
       "<Figure size 432x288 with 1 Axes>"
      ]
     },
     "metadata": {
      "needs_background": "light"
     },
     "output_type": "display_data"
    }
   ],
   "source": [
    "plot_linear_regression(southern_df['Lat'], southern_df['Max Temp'], \"Latitude\",  \"Max Temp\")"
   ]
  },
  {
   "cell_type": "markdown",
   "metadata": {},
   "source": [
    "##### Southern Hemisphere - Max Temp vs. Latitude Observation"
   ]
  },
  {
   "cell_type": "markdown",
   "metadata": {},
   "source": [
    "####  Northern Hemisphere - Humidity (%) vs. Latitude Linear Regression"
   ]
  },
  {
   "cell_type": "code",
   "execution_count": 22,
   "metadata": {},
   "outputs": [
    {
     "name": "stdout",
     "output_type": "stream",
     "text": [
      "The r-squared\u001b[1m is \u001b[0m\u001b[36m 0.261153 \u001b[0m\n"
     ]
    },
    {
     "data": {
      "image/png": "[encoded data removed]",
      "text/plain": [
       "<Figure size 432x288 with 1 Axes>"
      ]
     },
     "metadata": {
      "needs_background": "light"
     },
     "output_type": "display_data"
    }
   ],
   "source": [
    "plot_linear_regression(northern_df['Lat'], northern_df['Humidity'], \"Latitude\",  \"Humidity (%)\")"
   ]
  },
  {
   "cell_type": "markdown",
   "metadata": {},
   "source": [
    "#####  Northern Hemisphere - Humidity (%) vs. Latitude Observation"
   ]
  },
  {
   "cell_type": "markdown",
   "metadata": {},
   "source": [
    "####  Southern Hemisphere - Humidity (%) vs. Latitude Linear Regression"
   ]
  },
  {
   "cell_type": "code",
   "execution_count": 23,
   "metadata": {},
   "outputs": [
    {
     "name": "stdout",
     "output_type": "stream",
     "text": [
      "The r-squared\u001b[1m is \u001b[0m\u001b[36m 0.250284 \u001b[0m\n"
     ]
    },
    {
     "data": {
      "image/png": "[encoded data removed]",
      "text/plain": [
       "<Figure size 432x288 with 1 Axes>"
      ]
     },
     "metadata": {
      "needs_background": "light"
     },
     "output_type": "display_data"
    }
   ],
   "source": [
    "plot_linear_regression(southern_df['Lat'], southern_df['Humidity'], \"Latitude\", \"Humidity (%)\")"
   ]
  },
  {
   "cell_type": "markdown",
   "metadata": {},
   "source": [
    "#####  Southern Hemisphere - Humidity (%) vs. Latitude Observation"
   ]
  },
  {
   "cell_type": "markdown",
   "metadata": {},
   "source": [
    "####  Northern Hemisphere - Cloudiness (%) vs. Latitude Linear Regression"
   ]
  },
  {
   "cell_type": "code",
   "execution_count": 24,
   "metadata": {},
   "outputs": [
    {
     "name": "stdout",
     "output_type": "stream",
     "text": [
      "The r-squared\u001b[1m is \u001b[0m\u001b[36m 0.201602 \u001b[0m\n"
     ]
    },
    {
     "data": {
      "image/png": "[encoded data removed]",
      "text/plain": [
       "<Figure size 432x288 with 1 Axes>"
      ]
     },
     "metadata": {
      "needs_background": "light"
     },
     "output_type": "display_data"
    }
   ],
   "source": [
    "plot_linear_regression(northern_df['Lat'], northern_df['Cloudiness'], \"Latitude\", \"Cloudiness (%)\")"
   ]
  },
  {
   "cell_type": "markdown",
   "metadata": {},
   "source": [
    "#####  Northern Hemisphere - Cloudiness vs. Latitude Observation"
   ]
  },
  {
   "cell_type": "markdown",
   "metadata": {},
   "source": [
    "####  Southern Hemisphere - Cloudiness (%) vs. Latitude Linear Regression"
   ]
  },
  {
   "cell_type": "code",
   "execution_count": 25,
   "metadata": {},
   "outputs": [
    {
     "name": "stdout",
     "output_type": "stream",
     "text": [
      "The r-squared\u001b[1m is \u001b[0m\u001b[36m 0.258199 \u001b[0m\n"
     ]
    },
    {
     "data": {
      "image/png": "[encoded data removed]",
      "text/plain": [
       "<Figure size 432x288 with 1 Axes>"
      ]
     },
     "metadata": {
      "needs_background": "light"
     },
     "output_type": "display_data"
    }
   ],
   "source": [
    "plot_linear_regression(southern_df['Lat'], southern_df['Cloudiness'], \"Latitude\", \"Cloudiness (%) \")"
   ]
  },
  {
   "cell_type": "markdown",
   "metadata": {},
   "source": [
    "#####  Southern Hemisphere - Cloudiness vs. Latitude Observation"
   ]
  },
  {
   "cell_type": "markdown",
   "metadata": {},
   "source": [
    "####  Northern Hemisphere - Wind Speed (mph) vs. Latitude Linear Regression"
   ]
  },
  {
   "cell_type": "code",
   "execution_count": 26,
   "metadata": {},
   "outputs": [
    {
     "name": "stdout",
     "output_type": "stream",
     "text": [
      "The r-squared\u001b[1m is \u001b[0m\u001b[36m 0.256951 \u001b[0m\n"
     ]
    },
    {
     "data": {
      "image/png": "[encoded data removed]",
      "text/plain": [
       "<Figure size 432x288 with 1 Axes>"
      ]
     },
     "metadata": {
      "needs_background": "light"
     },
     "output_type": "display_data"
    }
   ],
   "source": [
    "plot_linear_regression(northern_df['Lat'], northern_df['Wind Speed'], \"Latitude\" , \"Wind Speed (mph)\")"
   ]
  },
  {
   "cell_type": "markdown",
   "metadata": {},
   "source": [
    "#####  Northern Hemisphere - Wind Speed (mph) vs. Latitude Observation"
   ]
  },
  {
   "cell_type": "markdown",
   "metadata": {},
   "source": [
    "####  Southern Hemisphere - Wind Speed (mph) vs. Latitude Linear Regression"
   ]
  },
  {
   "cell_type": "code",
   "execution_count": 27,
   "metadata": {},
   "outputs": [
    {
     "name": "stdout",
     "output_type": "stream",
     "text": [
      "The r-squared\u001b[1m is \u001b[0m\u001b[36m -0.268228 \u001b[0m\n"
     ]
    },
    {
     "data": {
      "image/png": "[encoded data removed]",
      "text/plain": [
       "<Figure size 432x288 with 1 Axes>"
      ]
     },
     "metadata": {
      "needs_background": "light"
     },
     "output_type": "display_data"
    }
   ],
   "source": [
    "plot_linear_regression( southern_df['Lat'], southern_df['Wind Speed'], \"Latitude\", \"Wind Speed (mph)\")"
   ]
  },
  {
   "cell_type": "markdown",
   "metadata": {},
   "source": [
    "#####  Southern Hemisphere - Wind Speed (mph) vs. Latitude Observation"
   ]
  },
  {
   "cell_type": "markdown",
   "metadata": {},
   "source": [
    "# End of Notebook "
   ]
  },
  {
   "cell_type": "code",
   "execution_count": null,
   "metadata": {},
   "outputs": [],
   "source": []
  }
 ],
 "metadata": {
  "anaconda-cloud": {},
  "kernel_info": {
   "name": "python3"
  },
  "kernelspec": {
   "display_name": "Python 3",
   "language": "python",
   "name": "python3"
  },
  "language_info": {
   "codemirror_mode": {
    "name": "ipython",
    "version": 3
   },
   "file_extension": ".py",
   "mimetype": "text/x-python",
   "name": "python",
   "nbconvert_exporter": "python",
   "pygments_lexer": "ipython3",
   "version": "3.7.6"
  },
  "latex_envs": {
   "LaTeX_envs_menu_present": true,
   "autoclose": false,
   "autocomplete": true,
   "bibliofile": "biblio.bib",
   "cite_by": "apalike",
   "current_citInitial": 1,
   "eqLabelWithNumbers": true,
   "eqNumInitial": 1,
   "hotkeys": {
    "equation": "Ctrl-E",
    "itemize": "Ctrl-I"
   },
   "labels_anchors": false,
   "latex_user_defs": false,
   "report_style_numbering": false,
   "user_envs_cfg": false
  },
  "nteract": {
   "version": "0.12.3"
  }
 },
 "nbformat": 4,
 "nbformat_minor": 2
}
