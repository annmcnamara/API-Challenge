{
 "cells": [
  {
   "cell_type": "markdown",
   "metadata": {},
   "source": [
    "# WeatherPy\n",
    "----"
   ]
  },
  {
   "cell_type": "code",
   "execution_count": 1,
   "metadata": {
    "scrolled": true
   },
   "outputs": [],
   "source": [
    "# Dependencies and Setup\n",
    "import matplotlib.pyplot as plt\n",
    "import pandas as pd\n",
    "import numpy as np\n",
    "import requests\n",
    "import time\n",
    "from scipy.stats import linregress\n",
    "\n",
    "import requests\n",
    "import json\n",
    "import os\n",
    "\n",
    "# Import API key\n",
    "from api_keys import weather_api_key\n",
    "\n",
    "# Incorporated citipy to determine city based on latitude and longitude\n",
    "from citipy import citipy\n",
    "\n",
    "# Output File (CSV)\n",
    "#output_data_file = \"./output_data/cities.csv\"\n",
    "output_data_file = \"citiesA.csv\"\n",
    "\n",
    "# Range of latitudes and longitudes\n",
    "lat_range = (-90, 90)\n",
    "lng_range = (-180, 180)"
   ]
  },
  {
   "cell_type": "markdown",
   "metadata": {},
   "source": [
    "## Generate Cities List\n",
    "This is achieved using citipy to find the name of the nearest city based on latitude and longitude.  First a set of randm latitude and longitude values are generated.  Looping through those values identifies the nearest city using citipy and if the city is not already in the list of cities it is added. The result is a list of random city names. "
   ]
  },
  {
   "cell_type": "code",
   "execution_count": 2,
   "metadata": {},
   "outputs": [
    {
     "data": {
      "text/plain": [
       "609"
      ]
     },
     "execution_count": 2,
     "metadata": {},
     "output_type": "execute_result"
    }
   ],
   "source": [
    "# List for holding lat_lngs and cities\n",
    "lat_lngs = []\n",
    "cities = []\n",
    "\n",
    "# Create a set of random lat and lng combinations\n",
    "lats = np.random.uniform(low=-90.000, high=90.000, size=1500)\n",
    "lngs = np.random.uniform(low=-180.000, high=180.000, size=1500)\n",
    "lat_lngs = zip(lats, lngs)\n",
    "\n",
    "# Identify nearest city for each lat, lng combination\n",
    "for lat_lng in lat_lngs:\n",
    "    city = citipy.nearest_city(lat_lng[0], lat_lng[1]).city_name\n",
    "    \n",
    "    # If the city is unique, then add it to a our cities list\n",
    "    if city not in cities:\n",
    "        cities.append(city)  #cities is a list of city names\n",
    "\n",
    "# Print the city count to confirm sufficient count\n",
    "len(cities)\n"
   ]
  },
  {
   "cell_type": "markdown",
   "metadata": {},
   "source": [
    "### Perform API Calls\n",
    "* Perform a weather check on each city using a series of successive API calls.\n",
    "* Include a print log of each city as it's being processed (with the city number and city name).\n"
   ]
  },
  {
   "cell_type": "code",
   "execution_count": 3,
   "metadata": {},
   "outputs": [
    {
     "name": "stdout",
     "output_type": "stream",
     "text": [
      "Beginning Data Retrieval\n",
      "------------------------------\n",
      "Processing Record \u001b[36m 0\u001b[0m of Set \u001b[36m 0 \u001b[0m | victoria\n",
      "Processing Record \u001b[36m 1\u001b[0m of Set \u001b[36m 1 \u001b[0m | nikolskoye\n",
      "Processing Record \u001b[36m 2\u001b[0m of Set \u001b[36m 2 \u001b[0m | zlatoustovsk\n",
      "City \u001b[1m not \u001b[0m found. Skipping...\n",
      "Processing Record \u001b[36m 3\u001b[0m of Set \u001b[36m 3 \u001b[0m | bluff\n",
      "Processing Record \u001b[36m 4\u001b[0m of Set \u001b[36m 4 \u001b[0m | payo\n",
      "Processing Record \u001b[36m 5\u001b[0m of Set \u001b[36m 5 \u001b[0m | saint-philippe\n",
      "Processing Record \u001b[36m 6\u001b[0m of Set \u001b[36m 6 \u001b[0m | lavrentiya\n",
      "Processing Record \u001b[36m 7\u001b[0m of Set \u001b[36m 7 \u001b[0m | inirida\n",
      "Processing Record \u001b[36m 8\u001b[0m of Set \u001b[36m 8 \u001b[0m | chenzhou\n",
      "Processing Record \u001b[36m 9\u001b[0m of Set \u001b[36m 9 \u001b[0m | kavieng\n",
      "Processing Record \u001b[36m 10\u001b[0m of Set \u001b[36m 10 \u001b[0m | megion\n",
      "Processing Record \u001b[36m 11\u001b[0m of Set \u001b[36m 11 \u001b[0m | lagoa\n",
      "Processing Record \u001b[36m 12\u001b[0m of Set \u001b[36m 12 \u001b[0m | nemuro\n",
      "Processing Record \u001b[36m 13\u001b[0m of Set \u001b[36m 13 \u001b[0m | dombarovskiy\n",
      "Processing Record \u001b[36m 14\u001b[0m of Set \u001b[36m 14 \u001b[0m | bandarbeyla\n",
      "Processing Record \u001b[36m 15\u001b[0m of Set \u001b[36m 15 \u001b[0m | georgetown\n",
      "Processing Record \u001b[36m 16\u001b[0m of Set \u001b[36m 16 \u001b[0m | mataura\n",
      "Processing Record \u001b[36m 17\u001b[0m of Set \u001b[36m 17 \u001b[0m | albany\n",
      "Processing Record \u001b[36m 18\u001b[0m of Set \u001b[36m 18 \u001b[0m | taolanaro\n",
      "City \u001b[1m not \u001b[0m found. Skipping...\n",
      "Processing Record \u001b[36m 19\u001b[0m of Set \u001b[36m 19 \u001b[0m | kruisfontein\n",
      "Processing Record \u001b[36m 20\u001b[0m of Set \u001b[36m 20 \u001b[0m | lompoc\n",
      "Processing Record \u001b[36m 21\u001b[0m of Set \u001b[36m 21 \u001b[0m | amapa\n",
      "Processing Record \u001b[36m 22\u001b[0m of Set \u001b[36m 22 \u001b[0m | butaritari\n",
      "Processing Record \u001b[36m 23\u001b[0m of Set \u001b[36m 23 \u001b[0m | belaya gora\n",
      "Processing Record \u001b[36m 24\u001b[0m of Set \u001b[36m 24 \u001b[0m | jamestown\n",
      "Processing Record \u001b[36m 25\u001b[0m of Set \u001b[36m 25 \u001b[0m | yellowknife\n",
      "Processing Record \u001b[36m 26\u001b[0m of Set \u001b[36m 26 \u001b[0m | fortuna\n",
      "Processing Record \u001b[36m 27\u001b[0m of Set \u001b[36m 27 \u001b[0m | namatanai\n",
      "Processing Record \u001b[36m 28\u001b[0m of Set \u001b[36m 28 \u001b[0m | wanning\n",
      "Processing Record \u001b[36m 29\u001b[0m of Set \u001b[36m 29 \u001b[0m | pacific grove\n",
      "Processing Record \u001b[36m 30\u001b[0m of Set \u001b[36m 30 \u001b[0m | mount gambier\n",
      "Processing Record \u001b[36m 31\u001b[0m of Set \u001b[36m 31 \u001b[0m | grand river south east\n",
      "City \u001b[1m not \u001b[0m found. Skipping...\n",
      "Processing Record \u001b[36m 32\u001b[0m of Set \u001b[36m 32 \u001b[0m | nizhneyansk\n",
      "City \u001b[1m not \u001b[0m found. Skipping...\n",
      "Processing Record \u001b[36m 33\u001b[0m of Set \u001b[36m 33 \u001b[0m | punta arenas\n",
      "Processing Record \u001b[36m 34\u001b[0m of Set \u001b[36m 34 \u001b[0m | maragogi\n",
      "Processing Record \u001b[36m 35\u001b[0m of Set \u001b[36m 35 \u001b[0m | qaanaaq\n",
      "Processing Record \u001b[36m 36\u001b[0m of Set \u001b[36m 36 \u001b[0m | talnakh\n",
      "Processing Record \u001b[36m 37\u001b[0m of Set \u001b[36m 37 \u001b[0m | faanui\n",
      "Processing Record \u001b[36m 38\u001b[0m of Set \u001b[36m 38 \u001b[0m | rawson\n",
      "Processing Record \u001b[36m 39\u001b[0m of Set \u001b[36m 39 \u001b[0m | cradock\n",
      "Processing Record \u001b[36m 40\u001b[0m of Set \u001b[36m 40 \u001b[0m | chokurdakh\n",
      "Processing Record \u001b[36m 41\u001b[0m of Set \u001b[36m 41 \u001b[0m | illoqqortoormiut\n",
      "City \u001b[1m not \u001b[0m found. Skipping...\n",
      "Processing Record \u001b[36m 42\u001b[0m of Set \u001b[36m 42 \u001b[0m | bredasdorp\n",
      "Processing Record \u001b[36m 43\u001b[0m of Set \u001b[36m 43 \u001b[0m | kokopo\n",
      "Processing Record \u001b[36m 44\u001b[0m of Set \u001b[36m 44 \u001b[0m | mayumba\n",
      "Processing Record \u001b[36m 45\u001b[0m of Set \u001b[36m 45 \u001b[0m | leningradskiy\n",
      "Processing Record \u001b[36m 46\u001b[0m of Set \u001b[36m 46 \u001b[0m | port augusta\n",
      "Processing Record \u001b[36m 47\u001b[0m of Set \u001b[36m 47 \u001b[0m | zigos\n",
      "Processing Record \u001b[36m 48\u001b[0m of Set \u001b[36m 48 \u001b[0m | harper\n",
      "Processing Record \u001b[36m 49\u001b[0m of Set \u001b[36m 49 \u001b[0m | atuona\n",
      "Processing Record \u001b[36m 50\u001b[0m of Set \u001b[36m 50 \u001b[0m | kapaa\n",
      "Processing Record \u001b[36m 51\u001b[0m of Set \u001b[36m 51 \u001b[0m | vostok\n",
      "Processing Record \u001b[36m 52\u001b[0m of Set \u001b[36m 52 \u001b[0m | urucara\n",
      "Processing Record \u001b[36m 53\u001b[0m of Set \u001b[36m 53 \u001b[0m | ponta do sol\n",
      "Processing Record \u001b[36m 54\u001b[0m of Set \u001b[36m 54 \u001b[0m | zyryanka\n",
      "Processing Record \u001b[36m 55\u001b[0m of Set \u001b[36m 55 \u001b[0m | rikitea\n",
      "Processing Record \u001b[36m 56\u001b[0m of Set \u001b[36m 56 \u001b[0m | souillac\n",
      "Processing Record \u001b[36m 57\u001b[0m of Set \u001b[36m 57 \u001b[0m | ilulissat\n",
      "Processing Record \u001b[36m 58\u001b[0m of Set \u001b[36m 58 \u001b[0m | nusaybin\n",
      "Processing Record \u001b[36m 59\u001b[0m of Set \u001b[36m 59 \u001b[0m | hasaki\n",
      "Processing Record \u001b[36m 60\u001b[0m of Set \u001b[36m 60 \u001b[0m | mount isa\n",
      "Processing Record \u001b[36m 61\u001b[0m of Set \u001b[36m 61 \u001b[0m | vanavara\n",
      "Processing Record \u001b[36m 62\u001b[0m of Set \u001b[36m 62 \u001b[0m | arraial do cabo\n",
      "Processing Record \u001b[36m 63\u001b[0m of Set \u001b[36m 63 \u001b[0m | chiang rai\n",
      "Processing Record \u001b[36m 64\u001b[0m of Set \u001b[36m 64 \u001b[0m | vaini\n",
      "Processing Record \u001b[36m 65\u001b[0m of Set \u001b[36m 65 \u001b[0m | saldanha\n",
      "Processing Record \u001b[36m 66\u001b[0m of Set \u001b[36m 66 \u001b[0m | kavaratti\n",
      "Processing Record \u001b[36m 67\u001b[0m of Set \u001b[36m 67 \u001b[0m | severo-kurilsk\n",
      "Processing Record \u001b[36m 68\u001b[0m of Set \u001b[36m 68 \u001b[0m | beloha\n",
      "Processing Record \u001b[36m 69\u001b[0m of Set \u001b[36m 69 \u001b[0m | yuli\n",
      "Processing Record \u001b[36m 70\u001b[0m of Set \u001b[36m 70 \u001b[0m | port alfred\n",
      "Processing Record \u001b[36m 71\u001b[0m of Set \u001b[36m 71 \u001b[0m | mujiayingzi\n",
      "Processing Record \u001b[36m 72\u001b[0m of Set \u001b[36m 72 \u001b[0m | alyangula\n",
      "Processing Record \u001b[36m 73\u001b[0m of Set \u001b[36m 73 \u001b[0m | torbay\n",
      "Processing Record \u001b[36m 74\u001b[0m of Set \u001b[36m 74 \u001b[0m | tuktoyaktuk\n",
      "Processing Record \u001b[36m 75\u001b[0m of Set \u001b[36m 75 \u001b[0m | port elizabeth\n",
      "Processing Record \u001b[36m 76\u001b[0m of Set \u001b[36m 76 \u001b[0m | east london\n",
      "Processing Record \u001b[36m 77\u001b[0m of Set \u001b[36m 77 \u001b[0m | sentyabrskiy\n",
      "City \u001b[1m not \u001b[0m found. Skipping...\n",
      "Processing Record \u001b[36m 78\u001b[0m of Set \u001b[36m 78 \u001b[0m | jumla\n",
      "Processing Record \u001b[36m 79\u001b[0m of Set \u001b[36m 79 \u001b[0m | hermanus\n",
      "Processing Record \u001b[36m 80\u001b[0m of Set \u001b[36m 80 \u001b[0m | mys shmidta\n",
      "City \u001b[1m not \u001b[0m found. Skipping...\n",
      "Processing Record \u001b[36m 81\u001b[0m of Set \u001b[36m 81 \u001b[0m | ankazoabo\n",
      "Processing Record \u001b[36m 82\u001b[0m of Set \u001b[36m 82 \u001b[0m | polunochnoye\n",
      "Processing Record \u001b[36m 83\u001b[0m of Set \u001b[36m 83 \u001b[0m | ust-kamchatsk\n",
      "City \u001b[1m not \u001b[0m found. Skipping...\n",
      "Processing Record \u001b[36m 84\u001b[0m of Set \u001b[36m 84 \u001b[0m | barrow\n",
      "Processing Record \u001b[36m 85\u001b[0m of Set \u001b[36m 85 \u001b[0m | pevek\n",
      "Processing Record \u001b[36m 86\u001b[0m of Set \u001b[36m 86 \u001b[0m | adre\n",
      "Processing Record \u001b[36m 87\u001b[0m of Set \u001b[36m 87 \u001b[0m | bhuj\n",
      "Processing Record \u001b[36m 88\u001b[0m of Set \u001b[36m 88 \u001b[0m | batemans bay\n",
      "Processing Record \u001b[36m 89\u001b[0m of Set \u001b[36m 89 \u001b[0m | mergui\n",
      "City \u001b[1m not \u001b[0m found. Skipping...\n",
      "Processing Record \u001b[36m 90\u001b[0m of Set \u001b[36m 90 \u001b[0m | avarua\n",
      "Processing Record \u001b[36m 91\u001b[0m of Set \u001b[36m 91 \u001b[0m | springbok\n",
      "Processing Record \u001b[36m 92\u001b[0m of Set \u001b[36m 92 \u001b[0m | vestmannaeyjar\n",
      "Processing Record \u001b[36m 93\u001b[0m of Set \u001b[36m 93 \u001b[0m | barra patuca\n",
      "Processing Record \u001b[36m 94\u001b[0m of Set \u001b[36m 94 \u001b[0m | chany\n",
      "Processing Record \u001b[36m 95\u001b[0m of Set \u001b[36m 95 \u001b[0m | barentsburg\n",
      "City \u001b[1m not \u001b[0m found. Skipping...\n",
      "Processing Record \u001b[36m 96\u001b[0m of Set \u001b[36m 96 \u001b[0m | hovd\n",
      "Processing Record \u001b[36m 97\u001b[0m of Set \u001b[36m 97 \u001b[0m | makokou\n",
      "Processing Record \u001b[36m 98\u001b[0m of Set \u001b[36m 98 \u001b[0m | byron bay\n",
      "Processing Record \u001b[36m 99\u001b[0m of Set \u001b[36m 99 \u001b[0m | turukhansk\n",
      "Processing Record \u001b[36m 100\u001b[0m of Set \u001b[36m 100 \u001b[0m | vila velha\n",
      "Processing Record \u001b[36m 101\u001b[0m of Set \u001b[36m 101 \u001b[0m | cape town\n",
      "Processing Record \u001b[36m 102\u001b[0m of Set \u001b[36m 102 \u001b[0m | mrirt\n",
      "City \u001b[1m not \u001b[0m found. Skipping...\n",
      "Processing Record \u001b[36m 103\u001b[0m of Set \u001b[36m 103 \u001b[0m | scarborough\n",
      "Processing Record \u001b[36m 104\u001b[0m of Set \u001b[36m 104 \u001b[0m | khatanga\n",
      "Processing Record \u001b[36m 105\u001b[0m of Set \u001b[36m 105 \u001b[0m | prince rupert\n",
      "Processing Record \u001b[36m 106\u001b[0m of Set \u001b[36m 106 \u001b[0m | tomohon\n",
      "Processing Record \u001b[36m 107\u001b[0m of Set \u001b[36m 107 \u001b[0m | carnarvon\n",
      "Processing Record \u001b[36m 108\u001b[0m of Set \u001b[36m 108 \u001b[0m | busselton\n",
      "Processing Record \u001b[36m 109\u001b[0m of Set \u001b[36m 109 \u001b[0m | vaitupu\n",
      "City \u001b[1m not \u001b[0m found. Skipping...\n",
      "Processing Record \u001b[36m 110\u001b[0m of Set \u001b[36m 110 \u001b[0m | ushuaia\n",
      "Processing Record \u001b[36m 111\u001b[0m of Set \u001b[36m 111 \u001b[0m | nisia floresta\n",
      "Processing Record \u001b[36m 112\u001b[0m of Set \u001b[36m 112 \u001b[0m | mahibadhoo\n",
      "Processing Record \u001b[36m 113\u001b[0m of Set \u001b[36m 113 \u001b[0m | jackson\n",
      "Processing Record \u001b[36m 114\u001b[0m of Set \u001b[36m 114 \u001b[0m | araguaina\n",
      "Processing Record \u001b[36m 115\u001b[0m of Set \u001b[36m 115 \u001b[0m | brae\n",
      "Processing Record \u001b[36m 116\u001b[0m of Set \u001b[36m 116 \u001b[0m | the valley\n",
      "Processing Record \u001b[36m 117\u001b[0m of Set \u001b[36m 117 \u001b[0m | tura\n",
      "Processing Record \u001b[36m 118\u001b[0m of Set \u001b[36m 118 \u001b[0m | marcona\n",
      "City \u001b[1m not \u001b[0m found. Skipping...\n",
      "Processing Record \u001b[36m 119\u001b[0m of Set \u001b[36m 119 \u001b[0m | buraydah\n"
     ]
    },
    {
     "name": "stdout",
     "output_type": "stream",
     "text": [
      "Processing Record \u001b[36m 120\u001b[0m of Set \u001b[36m 120 \u001b[0m | nanortalik\n",
      "Processing Record \u001b[36m 121\u001b[0m of Set \u001b[36m 121 \u001b[0m | nishihara\n",
      "Processing Record \u001b[36m 122\u001b[0m of Set \u001b[36m 122 \u001b[0m | aykhal\n",
      "Processing Record \u001b[36m 123\u001b[0m of Set \u001b[36m 123 \u001b[0m | aksum\n",
      "Processing Record \u001b[36m 124\u001b[0m of Set \u001b[36m 124 \u001b[0m | buala\n",
      "Processing Record \u001b[36m 125\u001b[0m of Set \u001b[36m 125 \u001b[0m | adolfo lopez mateos\n",
      "Processing Record \u001b[36m 126\u001b[0m of Set \u001b[36m 126 \u001b[0m | bundaberg\n",
      "Processing Record \u001b[36m 127\u001b[0m of Set \u001b[36m 127 \u001b[0m | lolodorf\n",
      "Processing Record \u001b[36m 128\u001b[0m of Set \u001b[36m 128 \u001b[0m | saleaula\n",
      "City \u001b[1m not \u001b[0m found. Skipping...\n",
      "Processing Record \u001b[36m 129\u001b[0m of Set \u001b[36m 129 \u001b[0m | gazanjyk\n",
      "Processing Record \u001b[36m 130\u001b[0m of Set \u001b[36m 130 \u001b[0m | thompson\n",
      "Processing Record \u001b[36m 131\u001b[0m of Set \u001b[36m 131 \u001b[0m | asau\n",
      "Processing Record \u001b[36m 132\u001b[0m of Set \u001b[36m 132 \u001b[0m | kodiak\n",
      "Processing Record \u001b[36m 133\u001b[0m of Set \u001b[36m 133 \u001b[0m | hobart\n",
      "Processing Record \u001b[36m 134\u001b[0m of Set \u001b[36m 134 \u001b[0m | lebu\n",
      "Processing Record \u001b[36m 135\u001b[0m of Set \u001b[36m 135 \u001b[0m | belushya guba\n",
      "City \u001b[1m not \u001b[0m found. Skipping...\n",
      "Processing Record \u001b[36m 136\u001b[0m of Set \u001b[36m 136 \u001b[0m | hithadhoo\n",
      "Processing Record \u001b[36m 137\u001b[0m of Set \u001b[36m 137 \u001b[0m | bridgetown\n",
      "Processing Record \u001b[36m 138\u001b[0m of Set \u001b[36m 138 \u001b[0m | hudiksvall\n",
      "Processing Record \u001b[36m 139\u001b[0m of Set \u001b[36m 139 \u001b[0m | asfi\n",
      "Processing Record \u001b[36m 140\u001b[0m of Set \u001b[36m 140 \u001b[0m | santa fe\n",
      "Processing Record \u001b[36m 141\u001b[0m of Set \u001b[36m 141 \u001b[0m | attawapiskat\n",
      "City \u001b[1m not \u001b[0m found. Skipping...\n",
      "Processing Record \u001b[36m 142\u001b[0m of Set \u001b[36m 142 \u001b[0m | bengkulu\n",
      "Processing Record \u001b[36m 143\u001b[0m of Set \u001b[36m 143 \u001b[0m | puerto ayora\n",
      "Processing Record \u001b[36m 144\u001b[0m of Set \u001b[36m 144 \u001b[0m | samusu\n",
      "City \u001b[1m not \u001b[0m found. Skipping...\n",
      "Processing Record \u001b[36m 145\u001b[0m of Set \u001b[36m 145 \u001b[0m | castro\n",
      "Processing Record \u001b[36m 146\u001b[0m of Set \u001b[36m 146 \u001b[0m | coquimbo\n",
      "Processing Record \u001b[36m 147\u001b[0m of Set \u001b[36m 147 \u001b[0m | shiraz\n",
      "Processing Record \u001b[36m 148\u001b[0m of Set \u001b[36m 148 \u001b[0m | poum\n",
      "Processing Record \u001b[36m 149\u001b[0m of Set \u001b[36m 149 \u001b[0m | maromitsa\n",
      "Processing Record \u001b[36m 150\u001b[0m of Set \u001b[36m 150 \u001b[0m | monrovia\n",
      "Processing Record \u001b[36m 151\u001b[0m of Set \u001b[36m 151 \u001b[0m | cabo san lucas\n",
      "Processing Record \u001b[36m 152\u001b[0m of Set \u001b[36m 152 \u001b[0m | burica\n",
      "City \u001b[1m not \u001b[0m found. Skipping...\n",
      "Processing Record \u001b[36m 153\u001b[0m of Set \u001b[36m 153 \u001b[0m | asosa\n",
      "Processing Record \u001b[36m 154\u001b[0m of Set \u001b[36m 154 \u001b[0m | wattegama\n",
      "Processing Record \u001b[36m 155\u001b[0m of Set \u001b[36m 155 \u001b[0m | abonnema\n",
      "Processing Record \u001b[36m 156\u001b[0m of Set \u001b[36m 156 \u001b[0m | pringsewu\n",
      "Processing Record \u001b[36m 157\u001b[0m of Set \u001b[36m 157 \u001b[0m | westpunt\n",
      "City \u001b[1m not \u001b[0m found. Skipping...\n",
      "Processing Record \u001b[36m 158\u001b[0m of Set \u001b[36m 158 \u001b[0m | sao joao da barra\n",
      "Processing Record \u001b[36m 159\u001b[0m of Set \u001b[36m 159 \u001b[0m | adrar\n",
      "Processing Record \u001b[36m 160\u001b[0m of Set \u001b[36m 160 \u001b[0m | tasiilaq\n",
      "Processing Record \u001b[36m 161\u001b[0m of Set \u001b[36m 161 \u001b[0m | roald\n",
      "Processing Record \u001b[36m 162\u001b[0m of Set \u001b[36m 162 \u001b[0m | singkang\n",
      "Processing Record \u001b[36m 163\u001b[0m of Set \u001b[36m 163 \u001b[0m | kigoma\n",
      "Processing Record \u001b[36m 164\u001b[0m of Set \u001b[36m 164 \u001b[0m | riom\n",
      "Processing Record \u001b[36m 165\u001b[0m of Set \u001b[36m 165 \u001b[0m | kupang\n",
      "Processing Record \u001b[36m 166\u001b[0m of Set \u001b[36m 166 \u001b[0m | teacapan\n",
      "Processing Record \u001b[36m 167\u001b[0m of Set \u001b[36m 167 \u001b[0m | mar del plata\n",
      "Processing Record \u001b[36m 168\u001b[0m of Set \u001b[36m 168 \u001b[0m | tevaitoa\n",
      "Processing Record \u001b[36m 169\u001b[0m of Set \u001b[36m 169 \u001b[0m | clyde river\n",
      "Processing Record \u001b[36m 170\u001b[0m of Set \u001b[36m 170 \u001b[0m | yumen\n",
      "Processing Record \u001b[36m 171\u001b[0m of Set \u001b[36m 171 \u001b[0m | new norfolk\n",
      "Processing Record \u001b[36m 172\u001b[0m of Set \u001b[36m 172 \u001b[0m | guerrero negro\n",
      "Processing Record \u001b[36m 173\u001b[0m of Set \u001b[36m 173 \u001b[0m | uberlandia\n",
      "Processing Record \u001b[36m 174\u001b[0m of Set \u001b[36m 174 \u001b[0m | constantine\n",
      "Processing Record \u001b[36m 175\u001b[0m of Set \u001b[36m 175 \u001b[0m | luderitz\n",
      "Processing Record \u001b[36m 176\u001b[0m of Set \u001b[36m 176 \u001b[0m | kangavar\n",
      "Processing Record \u001b[36m 177\u001b[0m of Set \u001b[36m 177 \u001b[0m | marshall\n",
      "Processing Record \u001b[36m 178\u001b[0m of Set \u001b[36m 178 \u001b[0m | tungor\n",
      "Processing Record \u001b[36m 179\u001b[0m of Set \u001b[36m 179 \u001b[0m | manono\n",
      "Processing Record \u001b[36m 180\u001b[0m of Set \u001b[36m 180 \u001b[0m | iqaluit\n",
      "Processing Record \u001b[36m 181\u001b[0m of Set \u001b[36m 181 \u001b[0m | longyearbyen\n",
      "Processing Record \u001b[36m 182\u001b[0m of Set \u001b[36m 182 \u001b[0m | katsuura\n",
      "Processing Record \u001b[36m 183\u001b[0m of Set \u001b[36m 183 \u001b[0m | asyut\n",
      "Processing Record \u001b[36m 184\u001b[0m of Set \u001b[36m 184 \u001b[0m | petukhovo\n",
      "Processing Record \u001b[36m 185\u001b[0m of Set \u001b[36m 185 \u001b[0m | namtsy\n",
      "Processing Record \u001b[36m 186\u001b[0m of Set \u001b[36m 186 \u001b[0m | itarema\n",
      "Processing Record \u001b[36m 187\u001b[0m of Set \u001b[36m 187 \u001b[0m | salisbury\n",
      "Processing Record \u001b[36m 188\u001b[0m of Set \u001b[36m 188 \u001b[0m | baneh\n",
      "Processing Record \u001b[36m 189\u001b[0m of Set \u001b[36m 189 \u001b[0m | finca blanco\n",
      "Processing Record \u001b[36m 190\u001b[0m of Set \u001b[36m 190 \u001b[0m | mehamn\n",
      "Processing Record \u001b[36m 191\u001b[0m of Set \u001b[36m 191 \u001b[0m | beyneu\n",
      "Processing Record \u001b[36m 192\u001b[0m of Set \u001b[36m 192 \u001b[0m | cherskiy\n",
      "Processing Record \u001b[36m 193\u001b[0m of Set \u001b[36m 193 \u001b[0m | bakchar\n",
      "Processing Record \u001b[36m 194\u001b[0m of Set \u001b[36m 194 \u001b[0m | hilo\n",
      "Processing Record \u001b[36m 195\u001b[0m of Set \u001b[36m 195 \u001b[0m | suluq\n",
      "Processing Record \u001b[36m 196\u001b[0m of Set \u001b[36m 196 \u001b[0m | avera\n",
      "Processing Record \u001b[36m 197\u001b[0m of Set \u001b[36m 197 \u001b[0m | wick\n",
      "Processing Record \u001b[36m 198\u001b[0m of Set \u001b[36m 198 \u001b[0m | san luis\n",
      "Processing Record \u001b[36m 199\u001b[0m of Set \u001b[36m 199 \u001b[0m | san pedro\n",
      "Processing Record \u001b[36m 200\u001b[0m of Set \u001b[36m 200 \u001b[0m | necochea\n",
      "Processing Record \u001b[36m 201\u001b[0m of Set \u001b[36m 201 \u001b[0m | narsaq\n",
      "Processing Record \u001b[36m 202\u001b[0m of Set \u001b[36m 202 \u001b[0m | gat\n",
      "Processing Record \u001b[36m 203\u001b[0m of Set \u001b[36m 203 \u001b[0m | coahuayana\n",
      "Processing Record \u001b[36m 204\u001b[0m of Set \u001b[36m 204 \u001b[0m | geraldton\n",
      "Processing Record \u001b[36m 205\u001b[0m of Set \u001b[36m 205 \u001b[0m | viedma\n",
      "Processing Record \u001b[36m 206\u001b[0m of Set \u001b[36m 206 \u001b[0m | sitka\n",
      "Processing Record \u001b[36m 207\u001b[0m of Set \u001b[36m 207 \u001b[0m | karratha\n",
      "Processing Record \u001b[36m 208\u001b[0m of Set \u001b[36m 208 \u001b[0m | amahai\n",
      "Processing Record \u001b[36m 209\u001b[0m of Set \u001b[36m 209 \u001b[0m | sola\n",
      "Processing Record \u001b[36m 210\u001b[0m of Set \u001b[36m 210 \u001b[0m | nouadhibou\n",
      "Processing Record \u001b[36m 211\u001b[0m of Set \u001b[36m 211 \u001b[0m | zaritap\n",
      "Processing Record \u001b[36m 212\u001b[0m of Set \u001b[36m 212 \u001b[0m | ambilobe\n",
      "Processing Record \u001b[36m 213\u001b[0m of Set \u001b[36m 213 \u001b[0m | edson\n",
      "Processing Record \u001b[36m 214\u001b[0m of Set \u001b[36m 214 \u001b[0m | koumac\n",
      "Processing Record \u001b[36m 215\u001b[0m of Set \u001b[36m 215 \u001b[0m | port lincoln\n",
      "Processing Record \u001b[36m 216\u001b[0m of Set \u001b[36m 216 \u001b[0m | san angelo\n",
      "Processing Record \u001b[36m 217\u001b[0m of Set \u001b[36m 217 \u001b[0m | kenora\n",
      "Processing Record \u001b[36m 218\u001b[0m of Set \u001b[36m 218 \u001b[0m | jimma\n",
      "Processing Record \u001b[36m 219\u001b[0m of Set \u001b[36m 219 \u001b[0m | methven\n",
      "Processing Record \u001b[36m 220\u001b[0m of Set \u001b[36m 220 \u001b[0m | brattleboro\n",
      "Processing Record \u001b[36m 221\u001b[0m of Set \u001b[36m 221 \u001b[0m | college\n",
      "Processing Record \u001b[36m 222\u001b[0m of Set \u001b[36m 222 \u001b[0m | rocha\n",
      "Processing Record \u001b[36m 223\u001b[0m of Set \u001b[36m 223 \u001b[0m | verkhoyansk\n",
      "Processing Record \u001b[36m 224\u001b[0m of Set \u001b[36m 224 \u001b[0m | doctor arroyo\n",
      "Processing Record \u001b[36m 225\u001b[0m of Set \u001b[36m 225 \u001b[0m | ayr\n",
      "Processing Record \u001b[36m 226\u001b[0m of Set \u001b[36m 226 \u001b[0m | sohag\n",
      "Processing Record \u001b[36m 227\u001b[0m of Set \u001b[36m 227 \u001b[0m | esperance\n",
      "Processing Record \u001b[36m 228\u001b[0m of Set \u001b[36m 228 \u001b[0m | kaitangata\n",
      "Processing Record \u001b[36m 229\u001b[0m of Set \u001b[36m 229 \u001b[0m | vao\n",
      "Processing Record \u001b[36m 230\u001b[0m of Set \u001b[36m 230 \u001b[0m | laguna\n",
      "Processing Record \u001b[36m 231\u001b[0m of Set \u001b[36m 231 \u001b[0m | bosaso\n",
      "Processing Record \u001b[36m 232\u001b[0m of Set \u001b[36m 232 \u001b[0m | craig\n",
      "Processing Record \u001b[36m 233\u001b[0m of Set \u001b[36m 233 \u001b[0m | pangnirtung\n",
      "Processing Record \u001b[36m 234\u001b[0m of Set \u001b[36m 234 \u001b[0m | antalaha\n",
      "Processing Record \u001b[36m 235\u001b[0m of Set \u001b[36m 235 \u001b[0m | sorland\n",
      "Processing Record \u001b[36m 236\u001b[0m of Set \u001b[36m 236 \u001b[0m | half moon bay\n",
      "Processing Record \u001b[36m 237\u001b[0m of Set \u001b[36m 237 \u001b[0m | pisco\n",
      "Processing Record \u001b[36m 238\u001b[0m of Set \u001b[36m 238 \u001b[0m | haines junction\n",
      "Processing Record \u001b[36m 239\u001b[0m of Set \u001b[36m 239 \u001b[0m | viligili\n",
      "City \u001b[1m not \u001b[0m found. Skipping...\n",
      "Processing Record \u001b[36m 240\u001b[0m of Set \u001b[36m 240 \u001b[0m | mitsamiouli\n",
      "Processing Record \u001b[36m 241\u001b[0m of Set \u001b[36m 241 \u001b[0m | immokalee\n",
      "Processing Record \u001b[36m 242\u001b[0m of Set \u001b[36m 242 \u001b[0m | petropavlovsk-kamchatskiy\n",
      "Processing Record \u001b[36m 243\u001b[0m of Set \u001b[36m 243 \u001b[0m | tuatapere\n"
     ]
    },
    {
     "name": "stdout",
     "output_type": "stream",
     "text": [
      "Processing Record \u001b[36m 244\u001b[0m of Set \u001b[36m 244 \u001b[0m | madimba\n",
      "Processing Record \u001b[36m 245\u001b[0m of Set \u001b[36m 245 \u001b[0m | bud\n",
      "Processing Record \u001b[36m 246\u001b[0m of Set \u001b[36m 246 \u001b[0m | gharghoda\n",
      "Processing Record \u001b[36m 247\u001b[0m of Set \u001b[36m 247 \u001b[0m | micco\n",
      "Processing Record \u001b[36m 248\u001b[0m of Set \u001b[36m 248 \u001b[0m | norman wells\n",
      "Processing Record \u001b[36m 249\u001b[0m of Set \u001b[36m 249 \u001b[0m | bambous virieux\n",
      "Processing Record \u001b[36m 250\u001b[0m of Set \u001b[36m 250 \u001b[0m | talakan\n",
      "Processing Record \u001b[36m 251\u001b[0m of Set \u001b[36m 251 \u001b[0m | boa vista\n",
      "Processing Record \u001b[36m 252\u001b[0m of Set \u001b[36m 252 \u001b[0m | dikson\n",
      "Processing Record \u001b[36m 253\u001b[0m of Set \u001b[36m 253 \u001b[0m | tirur\n",
      "Processing Record \u001b[36m 254\u001b[0m of Set \u001b[36m 254 \u001b[0m | saskylakh\n",
      "Processing Record \u001b[36m 255\u001b[0m of Set \u001b[36m 255 \u001b[0m | xiongyue\n",
      "Processing Record \u001b[36m 256\u001b[0m of Set \u001b[36m 256 \u001b[0m | chuy\n",
      "Processing Record \u001b[36m 257\u001b[0m of Set \u001b[36m 257 \u001b[0m | yerbogachen\n",
      "Processing Record \u001b[36m 258\u001b[0m of Set \u001b[36m 258 \u001b[0m | riyadh\n",
      "Processing Record \u001b[36m 259\u001b[0m of Set \u001b[36m 259 \u001b[0m | shubarshi\n",
      "Processing Record \u001b[36m 260\u001b[0m of Set \u001b[36m 260 \u001b[0m | beringovskiy\n",
      "Processing Record \u001b[36m 261\u001b[0m of Set \u001b[36m 261 \u001b[0m | kerikeri\n",
      "Processing Record \u001b[36m 262\u001b[0m of Set \u001b[36m 262 \u001b[0m | kirakira\n",
      "Processing Record \u001b[36m 263\u001b[0m of Set \u001b[36m 263 \u001b[0m | nalut\n",
      "Processing Record \u001b[36m 264\u001b[0m of Set \u001b[36m 264 \u001b[0m | fairbanks\n",
      "Processing Record \u001b[36m 265\u001b[0m of Set \u001b[36m 265 \u001b[0m | meulaboh\n",
      "Processing Record \u001b[36m 266\u001b[0m of Set \u001b[36m 266 \u001b[0m | lata\n",
      "Processing Record \u001b[36m 267\u001b[0m of Set \u001b[36m 267 \u001b[0m | ancud\n",
      "Processing Record \u001b[36m 268\u001b[0m of Set \u001b[36m 268 \u001b[0m | san quintin\n",
      "Processing Record \u001b[36m 269\u001b[0m of Set \u001b[36m 269 \u001b[0m | ixtapa\n",
      "Processing Record \u001b[36m 270\u001b[0m of Set \u001b[36m 270 \u001b[0m | sandwick\n",
      "Processing Record \u001b[36m 271\u001b[0m of Set \u001b[36m 271 \u001b[0m | ribeira grande\n",
      "Processing Record \u001b[36m 272\u001b[0m of Set \u001b[36m 272 \u001b[0m | anadyr\n",
      "Processing Record \u001b[36m 273\u001b[0m of Set \u001b[36m 273 \u001b[0m | dingle\n",
      "Processing Record \u001b[36m 274\u001b[0m of Set \u001b[36m 274 \u001b[0m | grand gaube\n",
      "Processing Record \u001b[36m 275\u001b[0m of Set \u001b[36m 275 \u001b[0m | salalah\n",
      "Processing Record \u001b[36m 276\u001b[0m of Set \u001b[36m 276 \u001b[0m | ginda\n",
      "Processing Record \u001b[36m 277\u001b[0m of Set \u001b[36m 277 \u001b[0m | sabha\n",
      "Processing Record \u001b[36m 278\u001b[0m of Set \u001b[36m 278 \u001b[0m | ekibastuz\n",
      "Processing Record \u001b[36m 279\u001b[0m of Set \u001b[36m 279 \u001b[0m | goderich\n",
      "Processing Record \u001b[36m 280\u001b[0m of Set \u001b[36m 280 \u001b[0m | saint george\n",
      "Processing Record \u001b[36m 281\u001b[0m of Set \u001b[36m 281 \u001b[0m | channel-port aux basques\n",
      "Processing Record \u001b[36m 282\u001b[0m of Set \u001b[36m 282 \u001b[0m | rawannawi\n",
      "City \u001b[1m not \u001b[0m found. Skipping...\n",
      "Processing Record \u001b[36m 283\u001b[0m of Set \u001b[36m 283 \u001b[0m | mount pleasant\n",
      "Processing Record \u001b[36m 284\u001b[0m of Set \u001b[36m 284 \u001b[0m | tornio\n",
      "Processing Record \u001b[36m 285\u001b[0m of Set \u001b[36m 285 \u001b[0m | brindisi\n",
      "Processing Record \u001b[36m 286\u001b[0m of Set \u001b[36m 286 \u001b[0m | remanso\n",
      "Processing Record \u001b[36m 287\u001b[0m of Set \u001b[36m 287 \u001b[0m | poronaysk\n",
      "Processing Record \u001b[36m 288\u001b[0m of Set \u001b[36m 288 \u001b[0m | asgabat\n",
      "Processing Record \u001b[36m 289\u001b[0m of Set \u001b[36m 289 \u001b[0m | atikokan\n",
      "Processing Record \u001b[36m 290\u001b[0m of Set \u001b[36m 290 \u001b[0m | lemesos\n",
      "City \u001b[1m not \u001b[0m found. Skipping...\n",
      "Processing Record \u001b[36m 291\u001b[0m of Set \u001b[36m 291 \u001b[0m | poya\n",
      "Processing Record \u001b[36m 292\u001b[0m of Set \u001b[36m 292 \u001b[0m | cidreira\n",
      "Processing Record \u001b[36m 293\u001b[0m of Set \u001b[36m 293 \u001b[0m | powell\n",
      "Processing Record \u001b[36m 294\u001b[0m of Set \u001b[36m 294 \u001b[0m | yulara\n",
      "Processing Record \u001b[36m 295\u001b[0m of Set \u001b[36m 295 \u001b[0m | haifa\n",
      "Processing Record \u001b[36m 296\u001b[0m of Set \u001b[36m 296 \u001b[0m | lakes entrance\n",
      "Processing Record \u001b[36m 297\u001b[0m of Set \u001b[36m 297 \u001b[0m | vardo\n",
      "Processing Record \u001b[36m 298\u001b[0m of Set \u001b[36m 298 \u001b[0m | amderma\n",
      "City \u001b[1m not \u001b[0m found. Skipping...\n",
      "Processing Record \u001b[36m 299\u001b[0m of Set \u001b[36m 299 \u001b[0m | ngunguru\n",
      "Processing Record \u001b[36m 300\u001b[0m of Set \u001b[36m 300 \u001b[0m | cabedelo\n",
      "Processing Record \u001b[36m 301\u001b[0m of Set \u001b[36m 301 \u001b[0m | sur\n",
      "Processing Record \u001b[36m 302\u001b[0m of Set \u001b[36m 302 \u001b[0m | broome\n",
      "Processing Record \u001b[36m 303\u001b[0m of Set \u001b[36m 303 \u001b[0m | lolua\n",
      "City \u001b[1m not \u001b[0m found. Skipping...\n",
      "Processing Record \u001b[36m 304\u001b[0m of Set \u001b[36m 304 \u001b[0m | taber\n",
      "Processing Record \u001b[36m 305\u001b[0m of Set \u001b[36m 305 \u001b[0m | borogontsy\n",
      "Processing Record \u001b[36m 306\u001b[0m of Set \u001b[36m 306 \u001b[0m | san cristobal\n",
      "Processing Record \u001b[36m 307\u001b[0m of Set \u001b[36m 307 \u001b[0m | kargat\n",
      "Processing Record \u001b[36m 308\u001b[0m of Set \u001b[36m 308 \u001b[0m | camacha\n",
      "Processing Record \u001b[36m 309\u001b[0m of Set \u001b[36m 309 \u001b[0m | bayan\n",
      "Processing Record \u001b[36m 310\u001b[0m of Set \u001b[36m 310 \u001b[0m | jha jha\n",
      "Processing Record \u001b[36m 311\u001b[0m of Set \u001b[36m 311 \u001b[0m | sao filipe\n",
      "Processing Record \u001b[36m 312\u001b[0m of Set \u001b[36m 312 \u001b[0m | bathsheba\n",
      "Processing Record \u001b[36m 313\u001b[0m of Set \u001b[36m 313 \u001b[0m | kaeo\n",
      "Processing Record \u001b[36m 314\u001b[0m of Set \u001b[36m 314 \u001b[0m | bethel\n",
      "Processing Record \u001b[36m 315\u001b[0m of Set \u001b[36m 315 \u001b[0m | arman\n",
      "Processing Record \u001b[36m 316\u001b[0m of Set \u001b[36m 316 \u001b[0m | srednekolymsk\n",
      "Processing Record \u001b[36m 317\u001b[0m of Set \u001b[36m 317 \u001b[0m | bonavista\n",
      "Processing Record \u001b[36m 318\u001b[0m of Set \u001b[36m 318 \u001b[0m | mareeba\n",
      "Processing Record \u001b[36m 319\u001b[0m of Set \u001b[36m 319 \u001b[0m | kokoda\n",
      "Processing Record \u001b[36m 320\u001b[0m of Set \u001b[36m 320 \u001b[0m | lorengau\n",
      "Processing Record \u001b[36m 321\u001b[0m of Set \u001b[36m 321 \u001b[0m | sorong\n",
      "Processing Record \u001b[36m 322\u001b[0m of Set \u001b[36m 322 \u001b[0m | luanda\n",
      "Processing Record \u001b[36m 323\u001b[0m of Set \u001b[36m 323 \u001b[0m | abu dhabi\n",
      "Processing Record \u001b[36m 324\u001b[0m of Set \u001b[36m 324 \u001b[0m | grindavik\n",
      "Processing Record \u001b[36m 325\u001b[0m of Set \u001b[36m 325 \u001b[0m | rio gallegos\n",
      "Processing Record \u001b[36m 326\u001b[0m of Set \u001b[36m 326 \u001b[0m | sint michiel\n",
      "City \u001b[1m not \u001b[0m found. Skipping...\n",
      "Processing Record \u001b[36m 327\u001b[0m of Set \u001b[36m 327 \u001b[0m | zamania\n",
      "Processing Record \u001b[36m 328\u001b[0m of Set \u001b[36m 328 \u001b[0m | kazalinsk\n",
      "City \u001b[1m not \u001b[0m found. Skipping...\n",
      "Processing Record \u001b[36m 329\u001b[0m of Set \u001b[36m 329 \u001b[0m | najran\n",
      "Processing Record \u001b[36m 330\u001b[0m of Set \u001b[36m 330 \u001b[0m | anaco\n",
      "Processing Record \u001b[36m 331\u001b[0m of Set \u001b[36m 331 \u001b[0m | walvis bay\n",
      "Processing Record \u001b[36m 332\u001b[0m of Set \u001b[36m 332 \u001b[0m | ahipara\n",
      "Processing Record \u001b[36m 333\u001b[0m of Set \u001b[36m 333 \u001b[0m | atambua\n",
      "Processing Record \u001b[36m 334\u001b[0m of Set \u001b[36m 334 \u001b[0m | oktyabrskoye\n",
      "Processing Record \u001b[36m 335\u001b[0m of Set \u001b[36m 335 \u001b[0m | kimbe\n",
      "Processing Record \u001b[36m 336\u001b[0m of Set \u001b[36m 336 \u001b[0m | mettlach\n",
      "Processing Record \u001b[36m 337\u001b[0m of Set \u001b[36m 337 \u001b[0m | mankono\n",
      "Processing Record \u001b[36m 338\u001b[0m of Set \u001b[36m 338 \u001b[0m | muli\n",
      "Processing Record \u001b[36m 339\u001b[0m of Set \u001b[36m 339 \u001b[0m | killybegs\n",
      "Processing Record \u001b[36m 340\u001b[0m of Set \u001b[36m 340 \u001b[0m | haibowan\n",
      "City \u001b[1m not \u001b[0m found. Skipping...\n",
      "Processing Record \u001b[36m 341\u001b[0m of Set \u001b[36m 341 \u001b[0m | nanakuli\n",
      "Processing Record \u001b[36m 342\u001b[0m of Set \u001b[36m 342 \u001b[0m | santa isabel do rio negro\n",
      "Processing Record \u001b[36m 343\u001b[0m of Set \u001b[36m 343 \u001b[0m | cartagena del chaira\n",
      "Processing Record \u001b[36m 344\u001b[0m of Set \u001b[36m 344 \u001b[0m | kota bahru\n",
      "Processing Record \u001b[36m 345\u001b[0m of Set \u001b[36m 345 \u001b[0m | yanji\n",
      "Processing Record \u001b[36m 346\u001b[0m of Set \u001b[36m 346 \u001b[0m | samana\n",
      "Processing Record \u001b[36m 347\u001b[0m of Set \u001b[36m 347 \u001b[0m | mehran\n",
      "Processing Record \u001b[36m 348\u001b[0m of Set \u001b[36m 348 \u001b[0m | isla mujeres\n",
      "Processing Record \u001b[36m 349\u001b[0m of Set \u001b[36m 349 \u001b[0m | los llanos de aridane\n",
      "Processing Record \u001b[36m 350\u001b[0m of Set \u001b[36m 350 \u001b[0m | kuah\n",
      "Processing Record \u001b[36m 351\u001b[0m of Set \u001b[36m 351 \u001b[0m | rio grande\n",
      "Processing Record \u001b[36m 352\u001b[0m of Set \u001b[36m 352 \u001b[0m | thurso\n",
      "Processing Record \u001b[36m 353\u001b[0m of Set \u001b[36m 353 \u001b[0m | saint anthony\n",
      "Processing Record \u001b[36m 354\u001b[0m of Set \u001b[36m 354 \u001b[0m | mahebourg\n",
      "Processing Record \u001b[36m 355\u001b[0m of Set \u001b[36m 355 \u001b[0m | boddam\n",
      "Processing Record \u001b[36m 356\u001b[0m of Set \u001b[36m 356 \u001b[0m | rungata\n",
      "City \u001b[1m not \u001b[0m found. Skipping...\n",
      "Processing Record \u001b[36m 357\u001b[0m of Set \u001b[36m 357 \u001b[0m | usinsk\n",
      "Processing Record \u001b[36m 358\u001b[0m of Set \u001b[36m 358 \u001b[0m | bakel\n",
      "Processing Record \u001b[36m 359\u001b[0m of Set \u001b[36m 359 \u001b[0m | black river\n",
      "Processing Record \u001b[36m 360\u001b[0m of Set \u001b[36m 360 \u001b[0m | ugoofaaru\n",
      "Processing Record \u001b[36m 361\u001b[0m of Set \u001b[36m 361 \u001b[0m | alamogordo\n",
      "Processing Record \u001b[36m 362\u001b[0m of Set \u001b[36m 362 \u001b[0m | dolbeau\n",
      "City \u001b[1m not \u001b[0m found. Skipping...\n",
      "Processing Record \u001b[36m 363\u001b[0m of Set \u001b[36m 363 \u001b[0m | glenwood springs\n",
      "Processing Record \u001b[36m 364\u001b[0m of Set \u001b[36m 364 \u001b[0m | magadan\n",
      "Processing Record \u001b[36m 365\u001b[0m of Set \u001b[36m 365 \u001b[0m | umm ruwabah\n",
      "City \u001b[1m not \u001b[0m found. Skipping...\n"
     ]
    },
    {
     "name": "stdout",
     "output_type": "stream",
     "text": [
      "Processing Record \u001b[36m 366\u001b[0m of Set \u001b[36m 366 \u001b[0m | casino\n",
      "Processing Record \u001b[36m 367\u001b[0m of Set \u001b[36m 367 \u001b[0m | korhogo\n",
      "Processing Record \u001b[36m 368\u001b[0m of Set \u001b[36m 368 \u001b[0m | lasa\n",
      "Processing Record \u001b[36m 369\u001b[0m of Set \u001b[36m 369 \u001b[0m | chitrakonda\n",
      "Processing Record \u001b[36m 370\u001b[0m of Set \u001b[36m 370 \u001b[0m | waipawa\n",
      "Processing Record \u001b[36m 371\u001b[0m of Set \u001b[36m 371 \u001b[0m | padang\n",
      "Processing Record \u001b[36m 372\u001b[0m of Set \u001b[36m 372 \u001b[0m | makakilo city\n",
      "Processing Record \u001b[36m 373\u001b[0m of Set \u001b[36m 373 \u001b[0m | naze\n",
      "Processing Record \u001b[36m 374\u001b[0m of Set \u001b[36m 374 \u001b[0m | phan thiet\n",
      "Processing Record \u001b[36m 375\u001b[0m of Set \u001b[36m 375 \u001b[0m | port macquarie\n",
      "Processing Record \u001b[36m 376\u001b[0m of Set \u001b[36m 376 \u001b[0m | karakendzha\n",
      "City \u001b[1m not \u001b[0m found. Skipping...\n",
      "Processing Record \u001b[36m 377\u001b[0m of Set \u001b[36m 377 \u001b[0m | dulag\n",
      "Processing Record \u001b[36m 378\u001b[0m of Set \u001b[36m 378 \u001b[0m | nantucket\n",
      "Processing Record \u001b[36m 379\u001b[0m of Set \u001b[36m 379 \u001b[0m | henties bay\n",
      "Processing Record \u001b[36m 380\u001b[0m of Set \u001b[36m 380 \u001b[0m | sakaiminato\n",
      "Processing Record \u001b[36m 381\u001b[0m of Set \u001b[36m 381 \u001b[0m | crab hill\n",
      "City \u001b[1m not \u001b[0m found. Skipping...\n",
      "Processing Record \u001b[36m 382\u001b[0m of Set \u001b[36m 382 \u001b[0m | kununurra\n",
      "Processing Record \u001b[36m 383\u001b[0m of Set \u001b[36m 383 \u001b[0m | dwarka\n",
      "Processing Record \u001b[36m 384\u001b[0m of Set \u001b[36m 384 \u001b[0m | gazojak\n",
      "Processing Record \u001b[36m 385\u001b[0m of Set \u001b[36m 385 \u001b[0m | clarence town\n",
      "Processing Record \u001b[36m 386\u001b[0m of Set \u001b[36m 386 \u001b[0m | karaton\n",
      "Processing Record \u001b[36m 387\u001b[0m of Set \u001b[36m 387 \u001b[0m | gravdal\n",
      "Processing Record \u001b[36m 388\u001b[0m of Set \u001b[36m 388 \u001b[0m | cozumel\n",
      "Processing Record \u001b[36m 389\u001b[0m of Set \u001b[36m 389 \u001b[0m | airai\n",
      "Processing Record \u001b[36m 390\u001b[0m of Set \u001b[36m 390 \u001b[0m | port blair\n",
      "Processing Record \u001b[36m 391\u001b[0m of Set \u001b[36m 391 \u001b[0m | fort payne\n",
      "Processing Record \u001b[36m 392\u001b[0m of Set \u001b[36m 392 \u001b[0m | sesheke\n",
      "Processing Record \u001b[36m 393\u001b[0m of Set \u001b[36m 393 \u001b[0m | sisimiut\n",
      "Processing Record \u001b[36m 394\u001b[0m of Set \u001b[36m 394 \u001b[0m | rio blanco\n",
      "Processing Record \u001b[36m 395\u001b[0m of Set \u001b[36m 395 \u001b[0m | san patricio\n",
      "Processing Record \u001b[36m 396\u001b[0m of Set \u001b[36m 396 \u001b[0m | monjas\n",
      "Processing Record \u001b[36m 397\u001b[0m of Set \u001b[36m 397 \u001b[0m | aripuana\n",
      "Processing Record \u001b[36m 398\u001b[0m of Set \u001b[36m 398 \u001b[0m | baykit\n",
      "Processing Record \u001b[36m 399\u001b[0m of Set \u001b[36m 399 \u001b[0m | xuddur\n",
      "Processing Record \u001b[36m 400\u001b[0m of Set \u001b[36m 400 \u001b[0m | khor\n",
      "Processing Record \u001b[36m 401\u001b[0m of Set \u001b[36m 401 \u001b[0m | kurumkan\n",
      "Processing Record \u001b[36m 402\u001b[0m of Set \u001b[36m 402 \u001b[0m | andijon\n",
      "Processing Record \u001b[36m 403\u001b[0m of Set \u001b[36m 403 \u001b[0m | haileybury\n",
      "Processing Record \u001b[36m 404\u001b[0m of Set \u001b[36m 404 \u001b[0m | leh\n",
      "Processing Record \u001b[36m 405\u001b[0m of Set \u001b[36m 405 \u001b[0m | tilichiki\n",
      "Processing Record \u001b[36m 406\u001b[0m of Set \u001b[36m 406 \u001b[0m | upernavik\n",
      "Processing Record \u001b[36m 407\u001b[0m of Set \u001b[36m 407 \u001b[0m | meyungs\n",
      "City \u001b[1m not \u001b[0m found. Skipping...\n",
      "Processing Record \u001b[36m 408\u001b[0m of Set \u001b[36m 408 \u001b[0m | hokitika\n",
      "Processing Record \u001b[36m 409\u001b[0m of Set \u001b[36m 409 \u001b[0m | saraland\n",
      "Processing Record \u001b[36m 410\u001b[0m of Set \u001b[36m 410 \u001b[0m | boende\n",
      "Processing Record \u001b[36m 411\u001b[0m of Set \u001b[36m 411 \u001b[0m | bodden town\n",
      "Processing Record \u001b[36m 412\u001b[0m of Set \u001b[36m 412 \u001b[0m | mileai\n",
      "City \u001b[1m not \u001b[0m found. Skipping...\n",
      "Processing Record \u001b[36m 413\u001b[0m of Set \u001b[36m 413 \u001b[0m | ulladulla\n",
      "Processing Record \u001b[36m 414\u001b[0m of Set \u001b[36m 414 \u001b[0m | gorodishche\n",
      "Processing Record \u001b[36m 415\u001b[0m of Set \u001b[36m 415 \u001b[0m | cururupu\n",
      "Processing Record \u001b[36m 416\u001b[0m of Set \u001b[36m 416 \u001b[0m | tierralta\n",
      "Processing Record \u001b[36m 417\u001b[0m of Set \u001b[36m 417 \u001b[0m | morinville\n",
      "Processing Record \u001b[36m 418\u001b[0m of Set \u001b[36m 418 \u001b[0m | isangel\n",
      "Processing Record \u001b[36m 419\u001b[0m of Set \u001b[36m 419 \u001b[0m | wilmington\n",
      "Processing Record \u001b[36m 420\u001b[0m of Set \u001b[36m 420 \u001b[0m | boca do acre\n",
      "Processing Record \u001b[36m 421\u001b[0m of Set \u001b[36m 421 \u001b[0m | selkirk\n",
      "Processing Record \u001b[36m 422\u001b[0m of Set \u001b[36m 422 \u001b[0m | sidi qasim\n",
      "City \u001b[1m not \u001b[0m found. Skipping...\n",
      "Processing Record \u001b[36m 423\u001b[0m of Set \u001b[36m 423 \u001b[0m | aklavik\n",
      "Processing Record \u001b[36m 424\u001b[0m of Set \u001b[36m 424 \u001b[0m | lancaster\n",
      "Processing Record \u001b[36m 425\u001b[0m of Set \u001b[36m 425 \u001b[0m | havelock\n",
      "Processing Record \u001b[36m 426\u001b[0m of Set \u001b[36m 426 \u001b[0m | san policarpo\n",
      "Processing Record \u001b[36m 427\u001b[0m of Set \u001b[36m 427 \u001b[0m | hamilton\n",
      "Processing Record \u001b[36m 428\u001b[0m of Set \u001b[36m 428 \u001b[0m | leghorn\n",
      "City \u001b[1m not \u001b[0m found. Skipping...\n",
      "Processing Record \u001b[36m 429\u001b[0m of Set \u001b[36m 429 \u001b[0m | namanyere\n",
      "Processing Record \u001b[36m 430\u001b[0m of Set \u001b[36m 430 \u001b[0m | lundazi\n",
      "Processing Record \u001b[36m 431\u001b[0m of Set \u001b[36m 431 \u001b[0m | whitianga\n",
      "Processing Record \u001b[36m 432\u001b[0m of Set \u001b[36m 432 \u001b[0m | ambodifototra\n",
      "City \u001b[1m not \u001b[0m found. Skipping...\n",
      "Processing Record \u001b[36m 433\u001b[0m of Set \u001b[36m 433 \u001b[0m | churapcha\n",
      "Processing Record \u001b[36m 434\u001b[0m of Set \u001b[36m 434 \u001b[0m | chernyshevskiy\n",
      "Processing Record \u001b[36m 435\u001b[0m of Set \u001b[36m 435 \u001b[0m | ningyang\n",
      "Processing Record \u001b[36m 436\u001b[0m of Set \u001b[36m 436 \u001b[0m | berlevag\n",
      "Processing Record \u001b[36m 437\u001b[0m of Set \u001b[36m 437 \u001b[0m | margate\n",
      "Processing Record \u001b[36m 438\u001b[0m of Set \u001b[36m 438 \u001b[0m | lazi\n",
      "Processing Record \u001b[36m 439\u001b[0m of Set \u001b[36m 439 \u001b[0m | sehithwa\n",
      "Processing Record \u001b[36m 440\u001b[0m of Set \u001b[36m 440 \u001b[0m | mutsamudu\n",
      "City \u001b[1m not \u001b[0m found. Skipping...\n",
      "Processing Record \u001b[36m 441\u001b[0m of Set \u001b[36m 441 \u001b[0m | filadelfia\n",
      "Processing Record \u001b[36m 442\u001b[0m of Set \u001b[36m 442 \u001b[0m | thinadhoo\n",
      "Processing Record \u001b[36m 443\u001b[0m of Set \u001b[36m 443 \u001b[0m | moose factory\n",
      "Processing Record \u001b[36m 444\u001b[0m of Set \u001b[36m 444 \u001b[0m | saint-georges\n",
      "Processing Record \u001b[36m 445\u001b[0m of Set \u001b[36m 445 \u001b[0m | bam\n",
      "Processing Record \u001b[36m 446\u001b[0m of Set \u001b[36m 446 \u001b[0m | makaha\n",
      "Processing Record \u001b[36m 447\u001b[0m of Set \u001b[36m 447 \u001b[0m | huai thalaeng\n",
      "Processing Record \u001b[36m 448\u001b[0m of Set \u001b[36m 448 \u001b[0m | port hardy\n",
      "Processing Record \u001b[36m 449\u001b[0m of Set \u001b[36m 449 \u001b[0m | arlington\n",
      "Processing Record \u001b[36m 450\u001b[0m of Set \u001b[36m 450 \u001b[0m | alice springs\n",
      "Processing Record \u001b[36m 451\u001b[0m of Set \u001b[36m 451 \u001b[0m | hualmay\n",
      "Processing Record \u001b[36m 452\u001b[0m of Set \u001b[36m 452 \u001b[0m | berdigestyakh\n",
      "Processing Record \u001b[36m 453\u001b[0m of Set \u001b[36m 453 \u001b[0m | banepa\n",
      "Processing Record \u001b[36m 454\u001b[0m of Set \u001b[36m 454 \u001b[0m | maltahohe\n",
      "Processing Record \u001b[36m 455\u001b[0m of Set \u001b[36m 455 \u001b[0m | srivardhan\n",
      "Processing Record \u001b[36m 456\u001b[0m of Set \u001b[36m 456 \u001b[0m | grants\n",
      "Processing Record \u001b[36m 457\u001b[0m of Set \u001b[36m 457 \u001b[0m | nichinan\n",
      "Processing Record \u001b[36m 458\u001b[0m of Set \u001b[36m 458 \u001b[0m | yueyang\n",
      "Processing Record \u001b[36m 459\u001b[0m of Set \u001b[36m 459 \u001b[0m | chino valley\n",
      "Processing Record \u001b[36m 460\u001b[0m of Set \u001b[36m 460 \u001b[0m | fomboni\n",
      "Processing Record \u001b[36m 461\u001b[0m of Set \u001b[36m 461 \u001b[0m | borba\n",
      "Processing Record \u001b[36m 462\u001b[0m of Set \u001b[36m 462 \u001b[0m | alofi\n",
      "Processing Record \u001b[36m 463\u001b[0m of Set \u001b[36m 463 \u001b[0m | zaysan\n",
      "Processing Record \u001b[36m 464\u001b[0m of Set \u001b[36m 464 \u001b[0m | oda\n",
      "Processing Record \u001b[36m 465\u001b[0m of Set \u001b[36m 465 \u001b[0m | cabras\n",
      "Processing Record \u001b[36m 466\u001b[0m of Set \u001b[36m 466 \u001b[0m | plettenberg bay\n",
      "Processing Record \u001b[36m 467\u001b[0m of Set \u001b[36m 467 \u001b[0m | gamba\n",
      "Processing Record \u001b[36m 468\u001b[0m of Set \u001b[36m 468 \u001b[0m | tarudant\n",
      "City \u001b[1m not \u001b[0m found. Skipping...\n",
      "Processing Record \u001b[36m 469\u001b[0m of Set \u001b[36m 469 \u001b[0m | labutta\n",
      "City \u001b[1m not \u001b[0m found. Skipping...\n",
      "Processing Record \u001b[36m 470\u001b[0m of Set \u001b[36m 470 \u001b[0m | zverinogolovskoye\n",
      "Processing Record \u001b[36m 471\u001b[0m of Set \u001b[36m 471 \u001b[0m | ust-charyshskaya pristan\n",
      "Processing Record \u001b[36m 472\u001b[0m of Set \u001b[36m 472 \u001b[0m | shingu\n",
      "Processing Record \u001b[36m 473\u001b[0m of Set \u001b[36m 473 \u001b[0m | uray\n",
      "Processing Record \u001b[36m 474\u001b[0m of Set \u001b[36m 474 \u001b[0m | nordhausen\n",
      "Processing Record \u001b[36m 475\u001b[0m of Set \u001b[36m 475 \u001b[0m | menongue\n",
      "Processing Record \u001b[36m 476\u001b[0m of Set \u001b[36m 476 \u001b[0m | shu\n",
      "Processing Record \u001b[36m 477\u001b[0m of Set \u001b[36m 477 \u001b[0m | arawa\n",
      "Processing Record \u001b[36m 478\u001b[0m of Set \u001b[36m 478 \u001b[0m | payakumbuh\n",
      "Processing Record \u001b[36m 479\u001b[0m of Set \u001b[36m 479 \u001b[0m | snasa\n",
      "Processing Record \u001b[36m 480\u001b[0m of Set \u001b[36m 480 \u001b[0m | touros\n",
      "Processing Record \u001b[36m 481\u001b[0m of Set \u001b[36m 481 \u001b[0m | douglas\n",
      "Processing Record \u001b[36m 482\u001b[0m of Set \u001b[36m 482 \u001b[0m | xining\n",
      "Processing Record \u001b[36m 483\u001b[0m of Set \u001b[36m 483 \u001b[0m | solnechnyy\n",
      "Processing Record \u001b[36m 484\u001b[0m of Set \u001b[36m 484 \u001b[0m | karaul\n",
      "City \u001b[1m not \u001b[0m found. Skipping...\n"
     ]
    },
    {
     "name": "stdout",
     "output_type": "stream",
     "text": [
      "Processing Record \u001b[36m 485\u001b[0m of Set \u001b[36m 485 \u001b[0m | uvinza\n",
      "Processing Record \u001b[36m 486\u001b[0m of Set \u001b[36m 486 \u001b[0m | quepos\n",
      "Processing Record \u001b[36m 487\u001b[0m of Set \u001b[36m 487 \u001b[0m | jalu\n",
      "Processing Record \u001b[36m 488\u001b[0m of Set \u001b[36m 488 \u001b[0m | pasighat\n",
      "Processing Record \u001b[36m 489\u001b[0m of Set \u001b[36m 489 \u001b[0m | vilyuysk\n",
      "Processing Record \u001b[36m 490\u001b[0m of Set \u001b[36m 490 \u001b[0m | cap malheureux\n",
      "Processing Record \u001b[36m 491\u001b[0m of Set \u001b[36m 491 \u001b[0m | poplar bluff\n",
      "Processing Record \u001b[36m 492\u001b[0m of Set \u001b[36m 492 \u001b[0m | svetlogorsk\n",
      "Processing Record \u001b[36m 493\u001b[0m of Set \u001b[36m 493 \u001b[0m | hobyo\n",
      "Processing Record \u001b[36m 494\u001b[0m of Set \u001b[36m 494 \u001b[0m | les cayes\n",
      "Processing Record \u001b[36m 495\u001b[0m of Set \u001b[36m 495 \u001b[0m | laiyang\n",
      "Processing Record \u001b[36m 496\u001b[0m of Set \u001b[36m 496 \u001b[0m | nuuk\n",
      "Processing Record \u001b[36m 497\u001b[0m of Set \u001b[36m 497 \u001b[0m | shimoda\n",
      "Processing Record \u001b[36m 498\u001b[0m of Set \u001b[36m 498 \u001b[0m | skjervoy\n",
      "Processing Record \u001b[36m 499\u001b[0m of Set \u001b[36m 499 \u001b[0m | warmbad\n",
      "Processing Record \u001b[36m 500\u001b[0m of Set \u001b[36m 500 \u001b[0m | kanganpur\n",
      "Processing Record \u001b[36m 501\u001b[0m of Set \u001b[36m 501 \u001b[0m | antofagasta\n",
      "Processing Record \u001b[36m 502\u001b[0m of Set \u001b[36m 502 \u001b[0m | nienburg\n",
      "Processing Record \u001b[36m 503\u001b[0m of Set \u001b[36m 503 \u001b[0m | nome\n",
      "Processing Record \u001b[36m 504\u001b[0m of Set \u001b[36m 504 \u001b[0m | azuaga\n",
      "Processing Record \u001b[36m 505\u001b[0m of Set \u001b[36m 505 \u001b[0m | namibe\n",
      "Processing Record \u001b[36m 506\u001b[0m of Set \u001b[36m 506 \u001b[0m | seydisehir\n",
      "Processing Record \u001b[36m 507\u001b[0m of Set \u001b[36m 507 \u001b[0m | liverpool\n",
      "Processing Record \u001b[36m 508\u001b[0m of Set \u001b[36m 508 \u001b[0m | colesberg\n",
      "Processing Record \u001b[36m 509\u001b[0m of Set \u001b[36m 509 \u001b[0m | russell\n",
      "Processing Record \u001b[36m 510\u001b[0m of Set \u001b[36m 510 \u001b[0m | kasongo-lunda\n",
      "Processing Record \u001b[36m 511\u001b[0m of Set \u001b[36m 511 \u001b[0m | sedalia\n",
      "Processing Record \u001b[36m 512\u001b[0m of Set \u001b[36m 512 \u001b[0m | villa de cura\n",
      "Processing Record \u001b[36m 513\u001b[0m of Set \u001b[36m 513 \u001b[0m | lapua\n",
      "Processing Record \u001b[36m 514\u001b[0m of Set \u001b[36m 514 \u001b[0m | constitucion\n",
      "Processing Record \u001b[36m 515\u001b[0m of Set \u001b[36m 515 \u001b[0m | xian\n",
      "Processing Record \u001b[36m 516\u001b[0m of Set \u001b[36m 516 \u001b[0m | meadow lake\n",
      "Processing Record \u001b[36m 517\u001b[0m of Set \u001b[36m 517 \u001b[0m | zaragoza\n",
      "Processing Record \u001b[36m 518\u001b[0m of Set \u001b[36m 518 \u001b[0m | seymchan\n",
      "Processing Record \u001b[36m 519\u001b[0m of Set \u001b[36m 519 \u001b[0m | puerto colombia\n",
      "Processing Record \u001b[36m 520\u001b[0m of Set \u001b[36m 520 \u001b[0m | saint-joseph\n",
      "Processing Record \u001b[36m 521\u001b[0m of Set \u001b[36m 521 \u001b[0m | jiwani\n",
      "Processing Record \u001b[36m 522\u001b[0m of Set \u001b[36m 522 \u001b[0m | roebourne\n",
      "Processing Record \u001b[36m 523\u001b[0m of Set \u001b[36m 523 \u001b[0m | muroto\n",
      "Processing Record \u001b[36m 524\u001b[0m of Set \u001b[36m 524 \u001b[0m | malchin\n",
      "Processing Record \u001b[36m 525\u001b[0m of Set \u001b[36m 525 \u001b[0m | vestmanna\n",
      "Processing Record \u001b[36m 526\u001b[0m of Set \u001b[36m 526 \u001b[0m | kawalu\n",
      "Processing Record \u001b[36m 527\u001b[0m of Set \u001b[36m 527 \u001b[0m | luau\n",
      "Processing Record \u001b[36m 528\u001b[0m of Set \u001b[36m 528 \u001b[0m | burnie\n",
      "Processing Record \u001b[36m 529\u001b[0m of Set \u001b[36m 529 \u001b[0m | tsihombe\n",
      "City \u001b[1m not \u001b[0m found. Skipping...\n",
      "Processing Record \u001b[36m 530\u001b[0m of Set \u001b[36m 530 \u001b[0m | kamina\n",
      "Processing Record \u001b[36m 531\u001b[0m of Set \u001b[36m 531 \u001b[0m | shache\n",
      "Processing Record \u001b[36m 532\u001b[0m of Set \u001b[36m 532 \u001b[0m | sayyan\n",
      "Processing Record \u001b[36m 533\u001b[0m of Set \u001b[36m 533 \u001b[0m | oyama\n",
      "Processing Record \u001b[36m 534\u001b[0m of Set \u001b[36m 534 \u001b[0m | lahad datu\n",
      "Processing Record \u001b[36m 535\u001b[0m of Set \u001b[36m 535 \u001b[0m | acarau\n",
      "Processing Record \u001b[36m 536\u001b[0m of Set \u001b[36m 536 \u001b[0m | dakar\n",
      "Processing Record \u001b[36m 537\u001b[0m of Set \u001b[36m 537 \u001b[0m | malakal\n",
      "Processing Record \u001b[36m 538\u001b[0m of Set \u001b[36m 538 \u001b[0m | kahului\n",
      "Processing Record \u001b[36m 539\u001b[0m of Set \u001b[36m 539 \u001b[0m | nara\n",
      "Processing Record \u001b[36m 540\u001b[0m of Set \u001b[36m 540 \u001b[0m | sechura\n",
      "Processing Record \u001b[36m 541\u001b[0m of Set \u001b[36m 541 \u001b[0m | la gaulette\n",
      "City \u001b[1m not \u001b[0m found. Skipping...\n",
      "Processing Record \u001b[36m 542\u001b[0m of Set \u001b[36m 542 \u001b[0m | truro\n",
      "Processing Record \u001b[36m 543\u001b[0m of Set \u001b[36m 543 \u001b[0m | parana\n",
      "Processing Record \u001b[36m 544\u001b[0m of Set \u001b[36m 544 \u001b[0m | yar-sale\n",
      "Processing Record \u001b[36m 545\u001b[0m of Set \u001b[36m 545 \u001b[0m | el sauce\n",
      "Processing Record \u001b[36m 546\u001b[0m of Set \u001b[36m 546 \u001b[0m | tezu\n",
      "Processing Record \u001b[36m 547\u001b[0m of Set \u001b[36m 547 \u001b[0m | provideniya\n",
      "Processing Record \u001b[36m 548\u001b[0m of Set \u001b[36m 548 \u001b[0m | pokrovsk\n",
      "Processing Record \u001b[36m 549\u001b[0m of Set \u001b[36m 549 \u001b[0m | nabire\n",
      "Processing Record \u001b[36m 550\u001b[0m of Set \u001b[36m 550 \u001b[0m | bama\n",
      "Processing Record \u001b[36m 551\u001b[0m of Set \u001b[36m 551 \u001b[0m | santa lucia\n",
      "Processing Record \u001b[36m 552\u001b[0m of Set \u001b[36m 552 \u001b[0m | moerai\n",
      "Processing Record \u001b[36m 553\u001b[0m of Set \u001b[36m 553 \u001b[0m | elizabeth city\n",
      "Processing Record \u001b[36m 554\u001b[0m of Set \u001b[36m 554 \u001b[0m | jiddah\n",
      "City \u001b[1m not \u001b[0m found. Skipping...\n",
      "Processing Record \u001b[36m 555\u001b[0m of Set \u001b[36m 555 \u001b[0m | awbari\n",
      "Processing Record \u001b[36m 556\u001b[0m of Set \u001b[36m 556 \u001b[0m | umm kaddadah\n",
      "Processing Record \u001b[36m 557\u001b[0m of Set \u001b[36m 557 \u001b[0m | andarab\n",
      "City \u001b[1m not \u001b[0m found. Skipping...\n",
      "Processing Record \u001b[36m 558\u001b[0m of Set \u001b[36m 558 \u001b[0m | benha\n",
      "City \u001b[1m not \u001b[0m found. Skipping...\n",
      "Processing Record \u001b[36m 559\u001b[0m of Set \u001b[36m 559 \u001b[0m | datong\n",
      "Processing Record \u001b[36m 560\u001b[0m of Set \u001b[36m 560 \u001b[0m | natitingou\n",
      "Processing Record \u001b[36m 561\u001b[0m of Set \u001b[36m 561 \u001b[0m | rolim de moura\n",
      "City \u001b[1m not \u001b[0m found. Skipping...\n",
      "Processing Record \u001b[36m 562\u001b[0m of Set \u001b[36m 562 \u001b[0m | karaj\n",
      "Processing Record \u001b[36m 563\u001b[0m of Set \u001b[36m 563 \u001b[0m | qasigiannguit\n",
      "Processing Record \u001b[36m 564\u001b[0m of Set \u001b[36m 564 \u001b[0m | axim\n",
      "Processing Record \u001b[36m 565\u001b[0m of Set \u001b[36m 565 \u001b[0m | murray bridge\n",
      "Processing Record \u001b[36m 566\u001b[0m of Set \u001b[36m 566 \u001b[0m | herat\n",
      "Processing Record \u001b[36m 567\u001b[0m of Set \u001b[36m 567 \u001b[0m | dohar\n",
      "Processing Record \u001b[36m 568\u001b[0m of Set \u001b[36m 568 \u001b[0m | palmer\n",
      "Processing Record \u001b[36m 569\u001b[0m of Set \u001b[36m 569 \u001b[0m | biak\n",
      "Processing Record \u001b[36m 570\u001b[0m of Set \u001b[36m 570 \u001b[0m | kautokeino\n",
      "Processing Record \u001b[36m 571\u001b[0m of Set \u001b[36m 571 \u001b[0m | tiksi\n",
      "Processing Record \u001b[36m 572\u001b[0m of Set \u001b[36m 572 \u001b[0m | teya\n",
      "Processing Record \u001b[36m 573\u001b[0m of Set \u001b[36m 573 \u001b[0m | yarada\n",
      "Processing Record \u001b[36m 574\u001b[0m of Set \u001b[36m 574 \u001b[0m | portugalete\n",
      "Processing Record \u001b[36m 575\u001b[0m of Set \u001b[36m 575 \u001b[0m | bakhmach\n",
      "Processing Record \u001b[36m 576\u001b[0m of Set \u001b[36m 576 \u001b[0m | dalby\n",
      "Processing Record \u001b[36m 577\u001b[0m of Set \u001b[36m 577 \u001b[0m | lindi\n",
      "Processing Record \u001b[36m 578\u001b[0m of Set \u001b[36m 578 \u001b[0m | nizhniy kuranakh\n",
      "Processing Record \u001b[36m 579\u001b[0m of Set \u001b[36m 579 \u001b[0m | puerto narino\n",
      "Processing Record \u001b[36m 580\u001b[0m of Set \u001b[36m 580 \u001b[0m | caravelas\n",
      "Processing Record \u001b[36m 581\u001b[0m of Set \u001b[36m 581 \u001b[0m | sabang\n",
      "Processing Record \u001b[36m 582\u001b[0m of Set \u001b[36m 582 \u001b[0m | la ronge\n",
      "Processing Record \u001b[36m 583\u001b[0m of Set \u001b[36m 583 \u001b[0m | huarmey\n",
      "Processing Record \u001b[36m 584\u001b[0m of Set \u001b[36m 584 \u001b[0m | bouna\n",
      "Processing Record \u001b[36m 585\u001b[0m of Set \u001b[36m 585 \u001b[0m | erzin\n",
      "Processing Record \u001b[36m 586\u001b[0m of Set \u001b[36m 586 \u001b[0m | bintulu\n",
      "Processing Record \u001b[36m 587\u001b[0m of Set \u001b[36m 587 \u001b[0m | longwy\n",
      "Processing Record \u001b[36m 588\u001b[0m of Set \u001b[36m 588 \u001b[0m | bilma\n",
      "Processing Record \u001b[36m 589\u001b[0m of Set \u001b[36m 589 \u001b[0m | makubetsu\n",
      "Processing Record \u001b[36m 590\u001b[0m of Set \u001b[36m 590 \u001b[0m | sarkand\n",
      "Processing Record \u001b[36m 591\u001b[0m of Set \u001b[36m 591 \u001b[0m | sanquelim\n",
      "Processing Record \u001b[36m 592\u001b[0m of Set \u001b[36m 592 \u001b[0m | lae\n",
      "Processing Record \u001b[36m 593\u001b[0m of Set \u001b[36m 593 \u001b[0m | dongfeng\n",
      "Processing Record \u001b[36m 594\u001b[0m of Set \u001b[36m 594 \u001b[0m | labayug\n",
      "Processing Record \u001b[36m 595\u001b[0m of Set \u001b[36m 595 \u001b[0m | luba\n",
      "Processing Record \u001b[36m 596\u001b[0m of Set \u001b[36m 596 \u001b[0m | pasco\n",
      "Processing Record \u001b[36m 597\u001b[0m of Set \u001b[36m 597 \u001b[0m | sulangan\n",
      "Processing Record \u001b[36m 598\u001b[0m of Set \u001b[36m 598 \u001b[0m | hue\n",
      "Processing Record \u001b[36m 599\u001b[0m of Set \u001b[36m 599 \u001b[0m | linguere\n",
      "Processing Record \u001b[36m 600\u001b[0m of Set \u001b[36m 600 \u001b[0m | saint-pierre\n",
      "Processing Record \u001b[36m 601\u001b[0m of Set \u001b[36m 601 \u001b[0m | virginia beach\n",
      "Processing Record \u001b[36m 602\u001b[0m of Set \u001b[36m 602 \u001b[0m | ziarat\n",
      "Processing Record \u001b[36m 603\u001b[0m of Set \u001b[36m 603 \u001b[0m | evensk\n",
      "Processing Record \u001b[36m 604\u001b[0m of Set \u001b[36m 604 \u001b[0m | faya\n",
      "Processing Record \u001b[36m 605\u001b[0m of Set \u001b[36m 605 \u001b[0m | castelo branco\n",
      "Processing Record \u001b[36m 606\u001b[0m of Set \u001b[36m 606 \u001b[0m | tondano\n",
      "Processing Record \u001b[36m 607\u001b[0m of Set \u001b[36m 607 \u001b[0m | matamoros\n",
      "Processing Record \u001b[36m 608\u001b[0m of Set \u001b[36m 608 \u001b[0m | buchanan\n"
     ]
    },
    {
     "data": {
      "text/html": [
       "<div>\n",
       "<style scoped>\n",
       "    .dataframe tbody tr th:only-of-type {\n",
       "        vertical-align: middle;\n",
       "    }\n",
       "\n",
       "    .dataframe tbody tr th {\n",
       "        vertical-align: top;\n",
       "    }\n",
       "\n",
       "    .dataframe thead th {\n",
       "        text-align: right;\n",
       "    }\n",
       "</style>\n",
       "<table border=\"1\" class=\"dataframe\">\n",
       "  <thead>\n",
       "    <tr style=\"text-align: right;\">\n",
       "      <th></th>\n",
       "      <th>City</th>\n",
       "      <th>Cloudiness</th>\n",
       "      <th>Country</th>\n",
       "      <th>Date</th>\n",
       "      <th>Humidity</th>\n",
       "      <th>Lat</th>\n",
       "      <th>Lng</th>\n",
       "      <th>Max Temp</th>\n",
       "      <th>Wind Speed</th>\n",
       "    </tr>\n",
       "  </thead>\n",
       "  <tbody>\n",
       "    <tr>\n",
       "      <th>0</th>\n",
       "      <td>Hong Kong</td>\n",
       "      <td>40</td>\n",
       "      <td>HK</td>\n",
       "      <td>1584110208</td>\n",
       "      <td>78</td>\n",
       "      <td>22.29</td>\n",
       "      <td>114.16</td>\n",
       "      <td>77.00</td>\n",
       "      <td>5.82</td>\n",
       "    </tr>\n",
       "    <tr>\n",
       "      <th>1</th>\n",
       "      <td>Nikolskoye</td>\n",
       "      <td>90</td>\n",
       "      <td>RU</td>\n",
       "      <td>1584110885</td>\n",
       "      <td>74</td>\n",
       "      <td>59.70</td>\n",
       "      <td>30.79</td>\n",
       "      <td>37.40</td>\n",
       "      <td>17.90</td>\n",
       "    </tr>\n",
       "    <tr>\n",
       "      <th>2</th>\n",
       "      <td>Bluff</td>\n",
       "      <td>11</td>\n",
       "      <td>NZ</td>\n",
       "      <td>1584110859</td>\n",
       "      <td>96</td>\n",
       "      <td>-46.60</td>\n",
       "      <td>168.33</td>\n",
       "      <td>45.23</td>\n",
       "      <td>3.60</td>\n",
       "    </tr>\n",
       "    <tr>\n",
       "      <th>3</th>\n",
       "      <td>Payo</td>\n",
       "      <td>100</td>\n",
       "      <td>ID</td>\n",
       "      <td>1584110887</td>\n",
       "      <td>94</td>\n",
       "      <td>-3.75</td>\n",
       "      <td>103.64</td>\n",
       "      <td>68.99</td>\n",
       "      <td>3.71</td>\n",
       "    </tr>\n",
       "    <tr>\n",
       "      <th>4</th>\n",
       "      <td>Saint-Philippe</td>\n",
       "      <td>100</td>\n",
       "      <td>RE</td>\n",
       "      <td>1584110889</td>\n",
       "      <td>74</td>\n",
       "      <td>-21.36</td>\n",
       "      <td>55.77</td>\n",
       "      <td>81.00</td>\n",
       "      <td>21.92</td>\n",
       "    </tr>\n",
       "    <tr>\n",
       "      <th>...</th>\n",
       "      <td>...</td>\n",
       "      <td>...</td>\n",
       "      <td>...</td>\n",
       "      <td>...</td>\n",
       "      <td>...</td>\n",
       "      <td>...</td>\n",
       "      <td>...</td>\n",
       "      <td>...</td>\n",
       "      <td>...</td>\n",
       "    </tr>\n",
       "    <tr>\n",
       "      <th>557</th>\n",
       "      <td>Faya</td>\n",
       "      <td>71</td>\n",
       "      <td>SA</td>\n",
       "      <td>1584111150</td>\n",
       "      <td>40</td>\n",
       "      <td>18.39</td>\n",
       "      <td>42.45</td>\n",
       "      <td>73.40</td>\n",
       "      <td>16.11</td>\n",
       "    </tr>\n",
       "    <tr>\n",
       "      <th>558</th>\n",
       "      <td>Castelo Branco</td>\n",
       "      <td>100</td>\n",
       "      <td>PT</td>\n",
       "      <td>1584110926</td>\n",
       "      <td>62</td>\n",
       "      <td>39.82</td>\n",
       "      <td>-7.49</td>\n",
       "      <td>71.01</td>\n",
       "      <td>6.53</td>\n",
       "    </tr>\n",
       "    <tr>\n",
       "      <th>559</th>\n",
       "      <td>Tondano</td>\n",
       "      <td>20</td>\n",
       "      <td>ID</td>\n",
       "      <td>1584111150</td>\n",
       "      <td>94</td>\n",
       "      <td>1.30</td>\n",
       "      <td>124.91</td>\n",
       "      <td>75.20</td>\n",
       "      <td>1.12</td>\n",
       "    </tr>\n",
       "    <tr>\n",
       "      <th>560</th>\n",
       "      <td>Matamoros</td>\n",
       "      <td>40</td>\n",
       "      <td>MX</td>\n",
       "      <td>1584111151</td>\n",
       "      <td>39</td>\n",
       "      <td>25.53</td>\n",
       "      <td>-103.25</td>\n",
       "      <td>73.99</td>\n",
       "      <td>2.82</td>\n",
       "    </tr>\n",
       "    <tr>\n",
       "      <th>561</th>\n",
       "      <td>Buchanan</td>\n",
       "      <td>90</td>\n",
       "      <td>LR</td>\n",
       "      <td>1584111151</td>\n",
       "      <td>57</td>\n",
       "      <td>5.88</td>\n",
       "      <td>-10.05</td>\n",
       "      <td>90.41</td>\n",
       "      <td>6.15</td>\n",
       "    </tr>\n",
       "  </tbody>\n",
       "</table>\n",
       "<p>562 rows × 9 columns</p>\n",
       "</div>"
      ],
      "text/plain": [
       "               City  Cloudiness Country        Date  Humidity    Lat     Lng  \\\n",
       "0         Hong Kong          40      HK  1584110208        78  22.29  114.16   \n",
       "1        Nikolskoye          90      RU  1584110885        74  59.70   30.79   \n",
       "2             Bluff          11      NZ  1584110859        96 -46.60  168.33   \n",
       "3              Payo         100      ID  1584110887        94  -3.75  103.64   \n",
       "4    Saint-Philippe         100      RE  1584110889        74 -21.36   55.77   \n",
       "..              ...         ...     ...         ...       ...    ...     ...   \n",
       "557            Faya          71      SA  1584111150        40  18.39   42.45   \n",
       "558  Castelo Branco         100      PT  1584110926        62  39.82   -7.49   \n",
       "559         Tondano          20      ID  1584111150        94   1.30  124.91   \n",
       "560       Matamoros          40      MX  1584111151        39  25.53 -103.25   \n",
       "561        Buchanan          90      LR  1584111151        57   5.88  -10.05   \n",
       "\n",
       "     Max Temp  Wind Speed  \n",
       "0       77.00        5.82  \n",
       "1       37.40       17.90  \n",
       "2       45.23        3.60  \n",
       "3       68.99        3.71  \n",
       "4       81.00       21.92  \n",
       "..        ...         ...  \n",
       "557     73.40       16.11  \n",
       "558     71.01        6.53  \n",
       "559     75.20        1.12  \n",
       "560     73.99        2.82  \n",
       "561     90.41        6.15  \n",
       "\n",
       "[562 rows x 9 columns]"
      ]
     },
     "execution_count": 3,
     "metadata": {},
     "output_type": "execute_result"
    }
   ],
   "source": [
    "# set up dataframe column names\n",
    "column_names = ['City','Cloudiness','Country',\n",
    "                'Date','Humidity','Lat','Lng',\n",
    "                'Max Temp','Wind Speed']\n",
    "\n",
    "# Create an empty list to populate with weather data\n",
    "weather = []\n",
    "\n",
    "# Print a banner\n",
    "print('Beginning Data Retrieval')\n",
    "print(\"------------------------------\")\n",
    "\n",
    "# Loop over the list of cities and request data from openweather\n",
    "for i in range(0, len(cities)):\n",
    "    # Set up the url for the city to query\n",
    "    url=\"http://api.openweathermap.org/data/2.5/weather?q=\"+cities[i]+\"&units=imperial&appid=283a9319d8bc008a581bb0b88d702293\"\n",
    "    #print(url)\n",
    "    \n",
    "    try: \n",
    "        # Make the request call and jsonify it all in one step\n",
    "        response = requests.get(url).json()\n",
    "        # Print a progress report to the screen\n",
    "        print(\"Processing Record \\033[36m {0}\\033[0m of Set \\033[36m {1} \\033[0m | {2}\".format(i, i, cities[i]))\n",
    "        # append the call data to the weather list\n",
    "        weather.append([response['name'], response['clouds']['all'], \n",
    "                    response['sys']['country'], \n",
    "                    response['dt'], response['main']['humidity'], response['coord']['lat'], \n",
    "                    response['coord']['lon'], response['main']['temp_max'], \n",
    "                    response['wind']['speed']])\n",
    "    except:\n",
    "        # If the city is not found just skip it and process the next city \n",
    "        print('City \\033[1m not \\033[0m found. Skipping...')\n",
    "\n",
    "# Create a dataframe with the weather data\n",
    "df = pd.DataFrame(weather, columns=column_names)\n",
    "df\n"
   ]
  },
  {
   "cell_type": "markdown",
   "metadata": {},
   "source": [
    "### Convert Raw Data to DataFrame\n",
    "* Export the city data into a .csv.\n",
    "* Display the DataFrame"
   ]
  },
  {
   "cell_type": "code",
   "execution_count": 4,
   "metadata": {},
   "outputs": [
    {
     "data": {
      "text/html": [
       "<div>\n",
       "<style scoped>\n",
       "    .dataframe tbody tr th:only-of-type {\n",
       "        vertical-align: middle;\n",
       "    }\n",
       "\n",
       "    .dataframe tbody tr th {\n",
       "        vertical-align: top;\n",
       "    }\n",
       "\n",
       "    .dataframe thead th {\n",
       "        text-align: right;\n",
       "    }\n",
       "</style>\n",
       "<table border=\"1\" class=\"dataframe\">\n",
       "  <thead>\n",
       "    <tr style=\"text-align: right;\">\n",
       "      <th></th>\n",
       "      <th>City</th>\n",
       "      <th>Cloudiness</th>\n",
       "      <th>Country</th>\n",
       "      <th>Date</th>\n",
       "      <th>Humidity</th>\n",
       "      <th>Lat</th>\n",
       "      <th>Lng</th>\n",
       "      <th>Max Temp</th>\n",
       "      <th>Wind Speed</th>\n",
       "    </tr>\n",
       "  </thead>\n",
       "  <tbody>\n",
       "    <tr>\n",
       "      <th>0</th>\n",
       "      <td>Hong Kong</td>\n",
       "      <td>40</td>\n",
       "      <td>HK</td>\n",
       "      <td>1584110208</td>\n",
       "      <td>78</td>\n",
       "      <td>22.29</td>\n",
       "      <td>114.16</td>\n",
       "      <td>77.00</td>\n",
       "      <td>5.82</td>\n",
       "    </tr>\n",
       "    <tr>\n",
       "      <th>1</th>\n",
       "      <td>Nikolskoye</td>\n",
       "      <td>90</td>\n",
       "      <td>RU</td>\n",
       "      <td>1584110885</td>\n",
       "      <td>74</td>\n",
       "      <td>59.70</td>\n",
       "      <td>30.79</td>\n",
       "      <td>37.40</td>\n",
       "      <td>17.90</td>\n",
       "    </tr>\n",
       "    <tr>\n",
       "      <th>2</th>\n",
       "      <td>Bluff</td>\n",
       "      <td>11</td>\n",
       "      <td>NZ</td>\n",
       "      <td>1584110859</td>\n",
       "      <td>96</td>\n",
       "      <td>-46.60</td>\n",
       "      <td>168.33</td>\n",
       "      <td>45.23</td>\n",
       "      <td>3.60</td>\n",
       "    </tr>\n",
       "    <tr>\n",
       "      <th>3</th>\n",
       "      <td>Payo</td>\n",
       "      <td>100</td>\n",
       "      <td>ID</td>\n",
       "      <td>1584110887</td>\n",
       "      <td>94</td>\n",
       "      <td>-3.75</td>\n",
       "      <td>103.64</td>\n",
       "      <td>68.99</td>\n",
       "      <td>3.71</td>\n",
       "    </tr>\n",
       "    <tr>\n",
       "      <th>4</th>\n",
       "      <td>Saint-Philippe</td>\n",
       "      <td>100</td>\n",
       "      <td>RE</td>\n",
       "      <td>1584110889</td>\n",
       "      <td>74</td>\n",
       "      <td>-21.36</td>\n",
       "      <td>55.77</td>\n",
       "      <td>81.00</td>\n",
       "      <td>21.92</td>\n",
       "    </tr>\n",
       "    <tr>\n",
       "      <th>...</th>\n",
       "      <td>...</td>\n",
       "      <td>...</td>\n",
       "      <td>...</td>\n",
       "      <td>...</td>\n",
       "      <td>...</td>\n",
       "      <td>...</td>\n",
       "      <td>...</td>\n",
       "      <td>...</td>\n",
       "      <td>...</td>\n",
       "    </tr>\n",
       "    <tr>\n",
       "      <th>557</th>\n",
       "      <td>Faya</td>\n",
       "      <td>71</td>\n",
       "      <td>SA</td>\n",
       "      <td>1584111150</td>\n",
       "      <td>40</td>\n",
       "      <td>18.39</td>\n",
       "      <td>42.45</td>\n",
       "      <td>73.40</td>\n",
       "      <td>16.11</td>\n",
       "    </tr>\n",
       "    <tr>\n",
       "      <th>558</th>\n",
       "      <td>Castelo Branco</td>\n",
       "      <td>100</td>\n",
       "      <td>PT</td>\n",
       "      <td>1584110926</td>\n",
       "      <td>62</td>\n",
       "      <td>39.82</td>\n",
       "      <td>-7.49</td>\n",
       "      <td>71.01</td>\n",
       "      <td>6.53</td>\n",
       "    </tr>\n",
       "    <tr>\n",
       "      <th>559</th>\n",
       "      <td>Tondano</td>\n",
       "      <td>20</td>\n",
       "      <td>ID</td>\n",
       "      <td>1584111150</td>\n",
       "      <td>94</td>\n",
       "      <td>1.30</td>\n",
       "      <td>124.91</td>\n",
       "      <td>75.20</td>\n",
       "      <td>1.12</td>\n",
       "    </tr>\n",
       "    <tr>\n",
       "      <th>560</th>\n",
       "      <td>Matamoros</td>\n",
       "      <td>40</td>\n",
       "      <td>MX</td>\n",
       "      <td>1584111151</td>\n",
       "      <td>39</td>\n",
       "      <td>25.53</td>\n",
       "      <td>-103.25</td>\n",
       "      <td>73.99</td>\n",
       "      <td>2.82</td>\n",
       "    </tr>\n",
       "    <tr>\n",
       "      <th>561</th>\n",
       "      <td>Buchanan</td>\n",
       "      <td>90</td>\n",
       "      <td>LR</td>\n",
       "      <td>1584111151</td>\n",
       "      <td>57</td>\n",
       "      <td>5.88</td>\n",
       "      <td>-10.05</td>\n",
       "      <td>90.41</td>\n",
       "      <td>6.15</td>\n",
       "    </tr>\n",
       "  </tbody>\n",
       "</table>\n",
       "<p>562 rows × 9 columns</p>\n",
       "</div>"
      ],
      "text/plain": [
       "               City  Cloudiness Country        Date  Humidity    Lat     Lng  \\\n",
       "0         Hong Kong          40      HK  1584110208        78  22.29  114.16   \n",
       "1        Nikolskoye          90      RU  1584110885        74  59.70   30.79   \n",
       "2             Bluff          11      NZ  1584110859        96 -46.60  168.33   \n",
       "3              Payo         100      ID  1584110887        94  -3.75  103.64   \n",
       "4    Saint-Philippe         100      RE  1584110889        74 -21.36   55.77   \n",
       "..              ...         ...     ...         ...       ...    ...     ...   \n",
       "557            Faya          71      SA  1584111150        40  18.39   42.45   \n",
       "558  Castelo Branco         100      PT  1584110926        62  39.82   -7.49   \n",
       "559         Tondano          20      ID  1584111150        94   1.30  124.91   \n",
       "560       Matamoros          40      MX  1584111151        39  25.53 -103.25   \n",
       "561        Buchanan          90      LR  1584111151        57   5.88  -10.05   \n",
       "\n",
       "     Max Temp  Wind Speed  \n",
       "0       77.00        5.82  \n",
       "1       37.40       17.90  \n",
       "2       45.23        3.60  \n",
       "3       68.99        3.71  \n",
       "4       81.00       21.92  \n",
       "..        ...         ...  \n",
       "557     73.40       16.11  \n",
       "558     71.01        6.53  \n",
       "559     75.20        1.12  \n",
       "560     73.99        2.82  \n",
       "561     90.41        6.15  \n",
       "\n",
       "[562 rows x 9 columns]"
      ]
     },
     "execution_count": 4,
     "metadata": {},
     "output_type": "execute_result"
    }
   ],
   "source": [
    "# Save the city data into a CSV file\n",
    "df.to_csv (output_data_file, header=True)\n",
    "\n",
    "# display the dataframe\n",
    "df"
   ]
  },
  {
   "cell_type": "markdown",
   "metadata": {},
   "source": [
    "### Plotting the Data\n",
    "* Use proper labeling of the plots using plot titles (including date of analysis) and axes labels.\n",
    "* Save the plotted figures as .pngs."
   ]
  },
  {
   "cell_type": "code",
   "execution_count": 5,
   "metadata": {},
   "outputs": [],
   "source": [
    "# A function to correctly label plots\n",
    "\n",
    "def label_plot(plt,plot_title, x_axis, y_axis):\n",
    "    plt.set_title(plot_title)\n",
    "    plt.set_xlabel(x_axis)\n",
    "    plt.set_ylabel(y_axis)\n",
    "    "
   ]
  },
  {
   "cell_type": "markdown",
   "metadata": {},
   "source": [
    "#### Latitude vs. Temperature Plot"
   ]
  },
  {
   "cell_type": "code",
   "execution_count": 6,
   "metadata": {},
   "outputs": [
    {
     "data": {
      "image/png": "[encoded data removed]",
      "text/plain": [
       "<Figure size 432x288 with 1 Axes>"
      ]
     },
     "metadata": {
      "needs_background": "light"
     },
     "output_type": "display_data"
    }
   ],
   "source": [
    "ax1 = df.plot.scatter(x='Lat',\n",
    "                      y='Max Temp',\n",
    "                      c='DarkBlue')\n",
    "label_plot(ax1, 'Latitude vs. Temperature', \"Latitude\", \"Maxiumum Temerpature\")\n",
    "plt.savefig('LatVTemp.png')\n",
    "plt.show()"
   ]
  },
  {
   "cell_type": "markdown",
   "metadata": {
    "scrolled": true
   },
   "source": [
    "#### Latitude vs Temperature: Observation\n",
    "Temperatures tend to increase closer to the equator (latitude 0) then fall off by distance either to the north or south. "
   ]
  },
  {
   "cell_type": "markdown",
   "metadata": {},
   "source": [
    "#### Latitude vs. Humidity Plot"
   ]
  },
  {
   "cell_type": "code",
   "execution_count": 7,
   "metadata": {},
   "outputs": [
    {
     "data": {
      "image/png": "[encoded data removed]",
      "text/plain": [
       "<Figure size 432x288 with 1 Axes>"
      ]
     },
     "metadata": {
      "needs_background": "light"
     },
     "output_type": "display_data"
    }
   ],
   "source": [
    "ax1 = df.plot.scatter(x='Lat',\n",
    "                      y='Humidity',\n",
    "                      c='DarkBlue')\n",
    "label_plot(ax1, 'Latitude vs. Humidity', \"Latitude\", \"Humidity (%)\")\n",
    "plt.savefig('LatVHumid.png')\n",
    "plt.show()"
   ]
  },
  {
   "cell_type": "markdown",
   "metadata": {},
   "source": [
    "#### Latitude vs Humidity: Observation\n"
   ]
  },
  {
   "cell_type": "markdown",
   "metadata": {},
   "source": [
    "#### Latitude vs. Cloudiness Plot"
   ]
  },
  {
   "cell_type": "code",
   "execution_count": 8,
   "metadata": {},
   "outputs": [
    {
     "data": {
      "image/png": "[encoded data removed]",
      "text/plain": [
       "<Figure size 432x288 with 1 Axes>"
      ]
     },
     "metadata": {
      "needs_background": "light"
     },
     "output_type": "display_data"
    }
   ],
   "source": [
    "ax1 = df.plot.scatter(x='Lat',\n",
    "                      y='Cloudiness',\n",
    "                      c='DarkBlue')\n",
    "label_plot(ax1, 'Latitude vs. Cloudiness', \"Latitude\", \"Cloudiness (%)\")\n",
    "plt.savefig('LatVCloud.png')\n",
    "plt.show()"
   ]
  },
  {
   "cell_type": "markdown",
   "metadata": {},
   "source": [
    "#### Latitude vs Cloudiness: Observation\n"
   ]
  },
  {
   "cell_type": "markdown",
   "metadata": {},
   "source": [
    "#### Latitude vs. Wind Speed Plot"
   ]
  },
  {
   "cell_type": "code",
   "execution_count": 9,
   "metadata": {},
   "outputs": [
    {
     "data": {
      "image/png": "[encoded data removed]",
      "text/plain": [
       "<Figure size 432x288 with 1 Axes>"
      ]
     },
     "metadata": {
      "needs_background": "light"
     },
     "output_type": "display_data"
    }
   ],
   "source": [
    "ax1 = df.plot.scatter(x='Lat',\n",
    "                      y='Wind Speed',\n",
    "                      c='DarkBlue')\n",
    "label_plot(ax1, 'Latitude vs. Wind Speed', \"Latitude\", \"Wind Speed (mph)\")\n",
    "plt.savefig('LatVWind.png')\n",
    "plt.show()"
   ]
  },
  {
   "cell_type": "markdown",
   "metadata": {},
   "source": [
    "#### Latitude vs Windspeed: Observation\n"
   ]
  },
  {
   "cell_type": "markdown",
   "metadata": {},
   "source": [
    "## Linear Regression"
   ]
  },
  {
   "cell_type": "code",
   "execution_count": 10,
   "metadata": {},
   "outputs": [],
   "source": [
    "# OPTIONAL: Create a function to create Linear Regression plots\n",
    "\n",
    "# Calculate the correlation coefficient and linear regression \n",
    "# model for mouse weight and average tumor volume for the Capomulin regimenn\n",
    "# Use sci pi to the the pearson r measure of correlation (r value)\n",
    "\n",
    "def plot_linear_regression(x_values, y_values, x_label, y_label):    \n",
    "    # Do a line regression on x and y values to calculate values for the line\n",
    "    (slope, intercept, rvalue, pvalue, stderr) = linregress(x_values, y_values)\n",
    "    regress_values = x_values * slope + intercept\n",
    "    \n",
    "    # Longer print message - can uncomment if would prefer longer message\n",
    "#     print('The correlation between ' + x_label + \n",
    "#       '\\033[1m and \\033[0m' +\n",
    "#       'the ' + y_label +\n",
    "#       '\\033[1m is \\033[0m' + \n",
    "#        f'\\033[36m {rvalue:2.2f} \\033[0m')\n",
    "    \n",
    "    print('The r-squared' + '\\033[1m is \\033[0m' + f'\\033[36m {rvalue:2.6f} \\033[0m')\n",
    "\n",
    "    # Create a scatter plot of weight versus average tumor volume\n",
    "    plt.scatter(x_values,y_values)\n",
    "    \n",
    "    # Add a red line to indicate the correlation\n",
    "    plt.plot(x_values,regress_values,\"r-\")\n",
    "    \n",
    "    # Create labels for the axes\n",
    "    plt.xlabel(x_label)\n",
    "    plt.ylabel(y_label)\n",
    "    plt.title(x_label+\" Versus \"+ y_label)\n",
    "\n",
    "    # Show the plot\n",
    "    plt.show()"
   ]
  },
  {
   "cell_type": "code",
   "execution_count": 11,
   "metadata": {},
   "outputs": [],
   "source": [
    "# Create Northern and Southern Hemisphere DataFrames\n",
    "northern_df = df[df['Lat'] >= 0]    #greater than or equal to 0 degrees latitude\n",
    "southern_df = df[df['Lat'] <  0]   #less than 0 degrees latitude"
   ]
  },
  {
   "cell_type": "markdown",
   "metadata": {},
   "source": [
    "####  Northern Hemisphere - Max Temp vs. Latitude Linear Regression"
   ]
  },
  {
   "cell_type": "code",
   "execution_count": 12,
   "metadata": {},
   "outputs": [
    {
     "name": "stdout",
     "output_type": "stream",
     "text": [
      "The r-squared\u001b[1m is \u001b[0m\u001b[36m -0.874948 \u001b[0m\n"
     ]
    },
    {
     "data": {
      "image/png": "[encoded data removed]",
      "text/plain": [
       "<Figure size 432x288 with 1 Axes>"
      ]
     },
     "metadata": {
      "needs_background": "light"
     },
     "output_type": "display_data"
    }
   ],
   "source": [
    "# Call the linear regression functino\n",
    "plot_linear_regression(northern_df['Max Temp'], northern_df['Lat'], \"Max Temp\", \"Latitude\")"
   ]
  },
  {
   "cell_type": "markdown",
   "metadata": {},
   "source": [
    "##### Northern Hemisphere - Max Temp vs. Latitude Linear Regression: Obervation"
   ]
  },
  {
   "cell_type": "markdown",
   "metadata": {},
   "source": [
    "####  Southern Hemisphere - Max Temp vs. Latitude Linear Regression"
   ]
  },
  {
   "cell_type": "code",
   "execution_count": 13,
   "metadata": {},
   "outputs": [
    {
     "name": "stdout",
     "output_type": "stream",
     "text": [
      "The r-squared\u001b[1m is \u001b[0m\u001b[36m 0.579829 \u001b[0m\n"
     ]
    },
    {
     "data": {
      "image/png": "[encoded data removed]",
      "text/plain": [
       "<Figure size 432x288 with 1 Axes>"
      ]
     },
     "metadata": {
      "needs_background": "light"
     },
     "output_type": "display_data"
    }
   ],
   "source": [
    "plot_linear_regression(southern_df['Max Temp'], southern_df['Lat'], \"Max Temp\", \"Latitude\")"
   ]
  },
  {
   "cell_type": "markdown",
   "metadata": {},
   "source": [
    "##### Southern Hemisphere - Max Temp vs. Latitude Observation"
   ]
  },
  {
   "cell_type": "markdown",
   "metadata": {},
   "source": [
    "####  Northern Hemisphere - Humidity (%) vs. Latitude Linear Regression"
   ]
  },
  {
   "cell_type": "code",
   "execution_count": 14,
   "metadata": {},
   "outputs": [
    {
     "name": "stdout",
     "output_type": "stream",
     "text": [
      "The r-squared\u001b[1m is \u001b[0m\u001b[36m 0.291030 \u001b[0m\n"
     ]
    },
    {
     "data": {
      "image/png": "[encoded data removed]",
      "text/plain": [
       "<Figure size 432x288 with 1 Axes>"
      ]
     },
     "metadata": {
      "needs_background": "light"
     },
     "output_type": "display_data"
    }
   ],
   "source": [
    "plot_linear_regression(northern_df['Humidity'], northern_df['Lat'], \"Humidity (%)\", \"Latitude\")"
   ]
  },
  {
   "cell_type": "markdown",
   "metadata": {},
   "source": [
    "#####  Northern Hemisphere - Humidity (%) vs. Latitude Observation"
   ]
  },
  {
   "cell_type": "markdown",
   "metadata": {},
   "source": [
    "####  Southern Hemisphere - Humidity (%) vs. Latitude Linear Regression"
   ]
  },
  {
   "cell_type": "code",
   "execution_count": 15,
   "metadata": {},
   "outputs": [
    {
     "name": "stdout",
     "output_type": "stream",
     "text": [
      "The r-squared\u001b[1m is \u001b[0m\u001b[36m 0.173380 \u001b[0m\n"
     ]
    },
    {
     "data": {
      "image/png": "[encoded data removed]",
      "text/plain": [
       "<Figure size 432x288 with 1 Axes>"
      ]
     },
     "metadata": {
      "needs_background": "light"
     },
     "output_type": "display_data"
    }
   ],
   "source": [
    "plot_linear_regression(southern_df['Humidity'], southern_df['Lat'], \"Humidity (%)\", \"Latitude\")"
   ]
  },
  {
   "cell_type": "markdown",
   "metadata": {},
   "source": [
    "#####  Southern Hemisphere - Humidity (%) vs. Latitude Observation"
   ]
  },
  {
   "cell_type": "markdown",
   "metadata": {},
   "source": [
    "####  Northern Hemisphere - Cloudiness (%) vs. Latitude Linear Regression"
   ]
  },
  {
   "cell_type": "code",
   "execution_count": 16,
   "metadata": {},
   "outputs": [
    {
     "name": "stdout",
     "output_type": "stream",
     "text": [
      "The r-squared\u001b[1m is \u001b[0m\u001b[36m 0.274449 \u001b[0m\n"
     ]
    },
    {
     "data": {
      "image/png": "[encoded data removed]",
      "text/plain": [
       "<Figure size 432x288 with 1 Axes>"
      ]
     },
     "metadata": {
      "needs_background": "light"
     },
     "output_type": "display_data"
    }
   ],
   "source": [
    "plot_linear_regression(northern_df['Cloudiness'], northern_df['Lat'], \"Cloudiness (%)\", \"Latitude\")"
   ]
  },
  {
   "cell_type": "markdown",
   "metadata": {},
   "source": [
    "#####  Northern Hemisphere - Cloudiness vs. Latitude Observation"
   ]
  },
  {
   "cell_type": "markdown",
   "metadata": {},
   "source": [
    "####  Southern Hemisphere - Cloudiness (%) vs. Latitude Linear Regression"
   ]
  },
  {
   "cell_type": "code",
   "execution_count": 17,
   "metadata": {},
   "outputs": [
    {
     "name": "stdout",
     "output_type": "stream",
     "text": [
      "The r-squared\u001b[1m is \u001b[0m\u001b[36m 0.378702 \u001b[0m\n"
     ]
    },
    {
     "data": {
      "image/png": "[encoded data removed]",
      "text/plain": [
       "<Figure size 432x288 with 1 Axes>"
      ]
     },
     "metadata": {
      "needs_background": "light"
     },
     "output_type": "display_data"
    }
   ],
   "source": [
    "plot_linear_regression(southern_df['Cloudiness'], southern_df['Lat'], \"Cloudiness (%) \", \"Latitude\")"
   ]
  },
  {
   "cell_type": "markdown",
   "metadata": {},
   "source": [
    "#####  Southern Hemisphere - Cloudiness vs. Latitude Observation"
   ]
  },
  {
   "cell_type": "markdown",
   "metadata": {},
   "source": [
    "####  Northern Hemisphere - Wind Speed (mph) vs. Latitude Linear Regression"
   ]
  },
  {
   "cell_type": "code",
   "execution_count": 18,
   "metadata": {},
   "outputs": [
    {
     "name": "stdout",
     "output_type": "stream",
     "text": [
      "The r-squared\u001b[1m is \u001b[0m\u001b[36m 0.219109 \u001b[0m\n"
     ]
    },
    {
     "data": {
      "image/png": "[encoded data removed]",
      "text/plain": [
       "<Figure size 432x288 with 1 Axes>"
      ]
     },
     "metadata": {
      "needs_background": "light"
     },
     "output_type": "display_data"
    }
   ],
   "source": [
    "plot_linear_regression(northern_df['Wind Speed'], northern_df['Lat'], \"Wind Speed (mph)\", \"Latitude\")"
   ]
  },
  {
   "cell_type": "markdown",
   "metadata": {},
   "source": [
    "#####  Northern Hemisphere - Wind Speed (mph) vs. Latitude Observation"
   ]
  },
  {
   "cell_type": "markdown",
   "metadata": {},
   "source": [
    "####  Southern Hemisphere - Wind Speed (mph) vs. Latitude Linear Regression"
   ]
  },
  {
   "cell_type": "code",
   "execution_count": 19,
   "metadata": {},
   "outputs": [
    {
     "name": "stdout",
     "output_type": "stream",
     "text": [
      "The r-squared\u001b[1m is \u001b[0m\u001b[36m -0.249721 \u001b[0m\n"
     ]
    },
    {
     "data": {
      "image/png": "[encoded data removed]",
      "text/plain": [
       "<Figure size 432x288 with 1 Axes>"
      ]
     },
     "metadata": {
      "needs_background": "light"
     },
     "output_type": "display_data"
    }
   ],
   "source": [
    "plot_linear_regression(southern_df['Wind Speed'], southern_df['Lat'], \"Wind Speed (mph)\", \"Latitude\")"
   ]
  },
  {
   "cell_type": "markdown",
   "metadata": {},
   "source": [
    "#####  Southern Hemisphere - Wind Speed (mph) vs. Latitude Observation"
   ]
  },
  {
   "cell_type": "markdown",
   "metadata": {},
   "source": [
    "# End of Notebook "
   ]
  },
  {
   "cell_type": "code",
   "execution_count": null,
   "metadata": {},
   "outputs": [],
   "source": []
  }
 ],
 "metadata": {
  "anaconda-cloud": {},
  "kernel_info": {
   "name": "python3"
  },
  "kernelspec": {
   "display_name": "Python 3",
   "language": "python",
   "name": "python3"
  },
  "language_info": {
   "codemirror_mode": {
    "name": "ipython",
    "version": 3
   },
   "file_extension": ".py",
   "mimetype": "text/x-python",
   "name": "python",
   "nbconvert_exporter": "python",
   "pygments_lexer": "ipython3",
   "version": "3.7.6"
  },
  "latex_envs": {
   "LaTeX_envs_menu_present": true,
   "autoclose": false,
   "autocomplete": true,
   "bibliofile": "biblio.bib",
   "cite_by": "apalike",
   "current_citInitial": 1,
   "eqLabelWithNumbers": true,
   "eqNumInitial": 1,
   "hotkeys": {
    "equation": "Ctrl-E",
    "itemize": "Ctrl-I"
   },
   "labels_anchors": false,
   "latex_user_defs": false,
   "report_style_numbering": false,
   "user_envs_cfg": false
  },
  "nteract": {
   "version": "0.12.3"
  }
 },
 "nbformat": 4,
 "nbformat_minor": 2
}
