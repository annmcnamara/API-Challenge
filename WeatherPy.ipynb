{
 "cells": [
  {
   "cell_type": "markdown",
   "metadata": {},
   "source": [
    "# WeatherPy\n",
    "----\n",
    "\n",
    "#### Note\n",
    "* Instructions have been included for each segment. You do not have to follow them exactly, but they are included to help you think through the steps."
   ]
  },
  {
   "cell_type": "code",
   "execution_count": 1,
   "metadata": {
    "scrolled": true
   },
   "outputs": [],
   "source": [
    "# Dependencies and Setup\n",
    "import matplotlib.pyplot as plt\n",
    "import pandas as pd\n",
    "import numpy as np\n",
    "import requests\n",
    "import time\n",
    "from scipy.stats import linregress\n",
    "\n",
    "import requests\n",
    "import json\n",
    "import os\n",
    "\n",
    "# Import API key\n",
    "from api_keys import weather_api_key\n",
    "\n",
    "# Incorporated citipy to determine city based on latitude and longitude\n",
    "from citipy import citipy\n",
    "\n",
    "# Output File (CSV)\n",
    "#output_data_file = \"./output_data/cities.csv\"\n",
    "output_data_file = \"citiesA.csv\"\n",
    "\n",
    "# Range of latitudes and longitudes\n",
    "lat_range = (-90, 90)\n",
    "lng_range = (-180, 180)"
   ]
  },
  {
   "cell_type": "markdown",
   "metadata": {},
   "source": [
    "## Generate Cities List"
   ]
  },
  {
   "cell_type": "code",
   "execution_count": 2,
   "metadata": {},
   "outputs": [
    {
     "data": {
      "text/plain": [
       "592"
      ]
     },
     "execution_count": 2,
     "metadata": {},
     "output_type": "execute_result"
    }
   ],
   "source": [
    "# List for holding lat_lngs and cities\n",
    "lat_lngs = []\n",
    "cities = []\n",
    "\n",
    "# Create a set of random lat and lng combinations\n",
    "lats = np.random.uniform(low=-90.000, high=90.000, size=1500)\n",
    "lngs = np.random.uniform(low=-180.000, high=180.000, size=1500)\n",
    "lat_lngs = zip(lats, lngs)\n",
    "\n",
    "# Identify nearest city for each lat, lng combination\n",
    "for lat_lng in lat_lngs:\n",
    "    city = citipy.nearest_city(lat_lng[0], lat_lng[1]).city_name\n",
    "    \n",
    "    # If the city is unique, then add it to a our cities list\n",
    "    if city not in cities:\n",
    "        cities.append(city)  #cities is a list of city names\n",
    "\n",
    "# Print the city count to confirm sufficient count\n",
    "len(cities)\n"
   ]
  },
  {
   "cell_type": "markdown",
   "metadata": {},
   "source": [
    "### Perform API Calls\n",
    "* Perform a weather check on each city using a series of successive API calls.\n",
    "* Include a print log of each city as it'sbeing processed (with the city number and city name).\n"
   ]
  },
  {
   "cell_type": "code",
   "execution_count": 3,
   "metadata": {},
   "outputs": [],
   "source": [
    "# for i in range(0, 3):\n",
    "#         print(cities[i])"
   ]
  },
  {
   "cell_type": "code",
   "execution_count": 5,
   "metadata": {},
   "outputs": [
    {
     "name": "stdout",
     "output_type": "stream",
     "text": [
      "Beginning Data Retrieval\n",
      "------------------------------\n",
      "Processing Record \u001b[36m 0\u001b[0m of Set \u001b[36m 0 \u001b[0m | mountain home\n",
      "Processing Record \u001b[36m 1\u001b[0m of Set \u001b[36m 1 \u001b[0m | chokurdakh\n",
      "Processing Record \u001b[36m 2\u001b[0m of Set \u001b[36m 2 \u001b[0m | mezen\n",
      "Processing Record \u001b[36m 3\u001b[0m of Set \u001b[36m 3 \u001b[0m | ushuaia\n",
      "Processing Record \u001b[36m 4\u001b[0m of Set \u001b[36m 4 \u001b[0m | butaritari\n",
      "Processing Record \u001b[36m 5\u001b[0m of Set \u001b[36m 5 \u001b[0m | tasiilaq\n",
      "Processing Record \u001b[36m 6\u001b[0m of Set \u001b[36m 6 \u001b[0m | avarua\n",
      "Processing Record \u001b[36m 7\u001b[0m of Set \u001b[36m 7 \u001b[0m | mayumba\n",
      "Processing Record \u001b[36m 8\u001b[0m of Set \u001b[36m 8 \u001b[0m | mataura\n",
      "Processing Record \u001b[36m 9\u001b[0m of Set \u001b[36m 9 \u001b[0m | maniitsoq\n",
      "Processing Record \u001b[36m 10\u001b[0m of Set \u001b[36m 10 \u001b[0m | bilibino\n",
      "Processing Record \u001b[36m 11\u001b[0m of Set \u001b[36m 11 \u001b[0m | airai\n",
      "Processing Record \u001b[36m 12\u001b[0m of Set \u001b[36m 12 \u001b[0m | jamestown\n",
      "Processing Record \u001b[36m 13\u001b[0m of Set \u001b[36m 13 \u001b[0m | leningradskiy\n",
      "Processing Record \u001b[36m 14\u001b[0m of Set \u001b[36m 14 \u001b[0m | rikitea\n",
      "Processing Record \u001b[36m 15\u001b[0m of Set \u001b[36m 15 \u001b[0m | mufulira\n",
      "Processing Record \u001b[36m 16\u001b[0m of Set \u001b[36m 16 \u001b[0m | vaini\n",
      "Processing Record \u001b[36m 17\u001b[0m of Set \u001b[36m 17 \u001b[0m | arkhangelsk\n",
      "Processing Record \u001b[36m 18\u001b[0m of Set \u001b[36m 18 \u001b[0m | east london\n",
      "Processing Record \u001b[36m 19\u001b[0m of Set \u001b[36m 19 \u001b[0m | port hardy\n",
      "Processing Record \u001b[36m 20\u001b[0m of Set \u001b[36m 20 \u001b[0m | puerto ayora\n",
      "Processing Record \u001b[36m 21\u001b[0m of Set \u001b[36m 21 \u001b[0m | barawe\n",
      "City \u001b[1m not \u001b[0m found. Skipping...\n",
      "Processing Record \u001b[36m 22\u001b[0m of Set \u001b[36m 22 \u001b[0m | ostrovnoy\n",
      "Processing Record \u001b[36m 23\u001b[0m of Set \u001b[36m 23 \u001b[0m | nikolskoye\n",
      "Processing Record \u001b[36m 24\u001b[0m of Set \u001b[36m 24 \u001b[0m | iberia\n",
      "Processing Record \u001b[36m 25\u001b[0m of Set \u001b[36m 25 \u001b[0m | lata\n",
      "Processing Record \u001b[36m 26\u001b[0m of Set \u001b[36m 26 \u001b[0m | punta arenas\n",
      "Processing Record \u001b[36m 27\u001b[0m of Set \u001b[36m 27 \u001b[0m | yeppoon\n",
      "Processing Record \u001b[36m 28\u001b[0m of Set \u001b[36m 28 \u001b[0m | bahraich\n",
      "Processing Record \u001b[36m 29\u001b[0m of Set \u001b[36m 29 \u001b[0m | taolanaro\n",
      "City \u001b[1m not \u001b[0m found. Skipping...\n",
      "Processing Record \u001b[36m 30\u001b[0m of Set \u001b[36m 30 \u001b[0m | mys shmidta\n",
      "City \u001b[1m not \u001b[0m found. Skipping...\n",
      "Processing Record \u001b[36m 31\u001b[0m of Set \u001b[36m 31 \u001b[0m | inderborskiy\n",
      "City \u001b[1m not \u001b[0m found. Skipping...\n",
      "Processing Record \u001b[36m 32\u001b[0m of Set \u001b[36m 32 \u001b[0m | albany\n",
      "Processing Record \u001b[36m 33\u001b[0m of Set \u001b[36m 33 \u001b[0m | constitucion\n",
      "Processing Record \u001b[36m 34\u001b[0m of Set \u001b[36m 34 \u001b[0m | sabzevar\n",
      "Processing Record \u001b[36m 35\u001b[0m of Set \u001b[36m 35 \u001b[0m | new norfolk\n",
      "Processing Record \u001b[36m 36\u001b[0m of Set \u001b[36m 36 \u001b[0m | barentsburg\n",
      "City \u001b[1m not \u001b[0m found. Skipping...\n",
      "Processing Record \u001b[36m 37\u001b[0m of Set \u001b[36m 37 \u001b[0m | atuona\n",
      "Processing Record \u001b[36m 38\u001b[0m of Set \u001b[36m 38 \u001b[0m | tuatapere\n",
      "Processing Record \u001b[36m 39\u001b[0m of Set \u001b[36m 39 \u001b[0m | pisco\n",
      "Processing Record \u001b[36m 40\u001b[0m of Set \u001b[36m 40 \u001b[0m | hobart\n",
      "Processing Record \u001b[36m 41\u001b[0m of Set \u001b[36m 41 \u001b[0m | hilo\n",
      "Processing Record \u001b[36m 42\u001b[0m of Set \u001b[36m 42 \u001b[0m | cape town\n",
      "Processing Record \u001b[36m 43\u001b[0m of Set \u001b[36m 43 \u001b[0m | torbay\n",
      "Processing Record \u001b[36m 44\u001b[0m of Set \u001b[36m 44 \u001b[0m | souillac\n",
      "Processing Record \u001b[36m 45\u001b[0m of Set \u001b[36m 45 \u001b[0m | saldanha\n",
      "Processing Record \u001b[36m 46\u001b[0m of Set \u001b[36m 46 \u001b[0m | xanlar\n",
      "Processing Record \u001b[36m 47\u001b[0m of Set \u001b[36m 47 \u001b[0m | maldonado\n",
      "Processing Record \u001b[36m 48\u001b[0m of Set \u001b[36m 48 \u001b[0m | pankovka\n",
      "Processing Record \u001b[36m 49\u001b[0m of Set \u001b[36m 49 \u001b[0m | bethel\n",
      "Processing Record \u001b[36m 50\u001b[0m of Set \u001b[36m 50 \u001b[0m | targsorul-vechi\n",
      "City \u001b[1m not \u001b[0m found. Skipping...\n",
      "Processing Record \u001b[36m 51\u001b[0m of Set \u001b[36m 51 \u001b[0m | hithadhoo\n",
      "Processing Record \u001b[36m 52\u001b[0m of Set \u001b[36m 52 \u001b[0m | mar del plata\n",
      "Processing Record \u001b[36m 53\u001b[0m of Set \u001b[36m 53 \u001b[0m | avera\n",
      "Processing Record \u001b[36m 54\u001b[0m of Set \u001b[36m 54 \u001b[0m | kapaa\n",
      "Processing Record \u001b[36m 55\u001b[0m of Set \u001b[36m 55 \u001b[0m | busselton\n",
      "Processing Record \u001b[36m 56\u001b[0m of Set \u001b[36m 56 \u001b[0m | sao filipe\n",
      "Processing Record \u001b[36m 57\u001b[0m of Set \u001b[36m 57 \u001b[0m | ribeira grande\n",
      "Processing Record \u001b[36m 58\u001b[0m of Set \u001b[36m 58 \u001b[0m | delhi\n",
      "Processing Record \u001b[36m 59\u001b[0m of Set \u001b[36m 59 \u001b[0m | jaguaribe\n",
      "Processing Record \u001b[36m 60\u001b[0m of Set \u001b[36m 60 \u001b[0m | vaitape\n",
      "Processing Record \u001b[36m 61\u001b[0m of Set \u001b[36m 61 \u001b[0m | husavik\n",
      "Processing Record \u001b[36m 62\u001b[0m of Set \u001b[36m 62 \u001b[0m | rafsanjan\n",
      "Processing Record \u001b[36m 63\u001b[0m of Set \u001b[36m 63 \u001b[0m | hornepayne\n",
      "Processing Record \u001b[36m 64\u001b[0m of Set \u001b[36m 64 \u001b[0m | matao\n",
      "Processing Record \u001b[36m 65\u001b[0m of Set \u001b[36m 65 \u001b[0m | nizhneyansk\n",
      "City \u001b[1m not \u001b[0m found. Skipping...\n",
      "Processing Record \u001b[36m 66\u001b[0m of Set \u001b[36m 66 \u001b[0m | longlac\n",
      "City \u001b[1m not \u001b[0m found. Skipping...\n",
      "Processing Record \u001b[36m 67\u001b[0m of Set \u001b[36m 67 \u001b[0m | trairi\n",
      "Processing Record \u001b[36m 68\u001b[0m of Set \u001b[36m 68 \u001b[0m | barrow\n",
      "Processing Record \u001b[36m 69\u001b[0m of Set \u001b[36m 69 \u001b[0m | hermanus\n",
      "Processing Record \u001b[36m 70\u001b[0m of Set \u001b[36m 70 \u001b[0m | longyearbyen\n",
      "Processing Record \u001b[36m 71\u001b[0m of Set \u001b[36m 71 \u001b[0m | oktyabrskiy\n",
      "Processing Record \u001b[36m 72\u001b[0m of Set \u001b[36m 72 \u001b[0m | tsihombe\n",
      "City \u001b[1m not \u001b[0m found. Skipping...\n",
      "Processing Record \u001b[36m 73\u001b[0m of Set \u001b[36m 73 \u001b[0m | halifax\n",
      "Processing Record \u001b[36m 74\u001b[0m of Set \u001b[36m 74 \u001b[0m | aldan\n",
      "Processing Record \u001b[36m 75\u001b[0m of Set \u001b[36m 75 \u001b[0m | tuggurt\n",
      "City \u001b[1m not \u001b[0m found. Skipping...\n",
      "Processing Record \u001b[36m 76\u001b[0m of Set \u001b[36m 76 \u001b[0m | castro\n",
      "Processing Record \u001b[36m 77\u001b[0m of Set \u001b[36m 77 \u001b[0m | khrustalnyy\n",
      "City \u001b[1m not \u001b[0m found. Skipping...\n",
      "Processing Record \u001b[36m 78\u001b[0m of Set \u001b[36m 78 \u001b[0m | taoudenni\n",
      "Processing Record \u001b[36m 79\u001b[0m of Set \u001b[36m 79 \u001b[0m | saint-philippe\n",
      "Processing Record \u001b[36m 80\u001b[0m of Set \u001b[36m 80 \u001b[0m | aitape\n",
      "Processing Record \u001b[36m 81\u001b[0m of Set \u001b[36m 81 \u001b[0m | westport\n",
      "Processing Record \u001b[36m 82\u001b[0m of Set \u001b[36m 82 \u001b[0m | yellowknife\n",
      "Processing Record \u001b[36m 83\u001b[0m of Set \u001b[36m 83 \u001b[0m | churapcha\n",
      "Processing Record \u001b[36m 84\u001b[0m of Set \u001b[36m 84 \u001b[0m | katsuura\n",
      "Processing Record \u001b[36m 85\u001b[0m of Set \u001b[36m 85 \u001b[0m | boyolangu\n",
      "Processing Record \u001b[36m 86\u001b[0m of Set \u001b[36m 86 \u001b[0m | belushya guba\n",
      "City \u001b[1m not \u001b[0m found. Skipping...\n",
      "Processing Record \u001b[36m 87\u001b[0m of Set \u001b[36m 87 \u001b[0m | te anau\n",
      "Processing Record \u001b[36m 88\u001b[0m of Set \u001b[36m 88 \u001b[0m | opmeer\n",
      "Processing Record \u001b[36m 89\u001b[0m of Set \u001b[36m 89 \u001b[0m | grande prairie\n",
      "Processing Record \u001b[36m 90\u001b[0m of Set \u001b[36m 90 \u001b[0m | kholodnyy\n",
      "Processing Record \u001b[36m 91\u001b[0m of Set \u001b[36m 91 \u001b[0m | vila\n",
      "Processing Record \u001b[36m 92\u001b[0m of Set \u001b[36m 92 \u001b[0m | chenzhou\n",
      "Processing Record \u001b[36m 93\u001b[0m of Set \u001b[36m 93 \u001b[0m | provideniya\n",
      "Processing Record \u001b[36m 94\u001b[0m of Set \u001b[36m 94 \u001b[0m | zhigansk\n",
      "Processing Record \u001b[36m 95\u001b[0m of Set \u001b[36m 95 \u001b[0m | tanabe\n",
      "Processing Record \u001b[36m 96\u001b[0m of Set \u001b[36m 96 \u001b[0m | shache\n",
      "Processing Record \u001b[36m 97\u001b[0m of Set \u001b[36m 97 \u001b[0m | bad kissingen\n",
      "Processing Record \u001b[36m 98\u001b[0m of Set \u001b[36m 98 \u001b[0m | san patricio\n",
      "Processing Record \u001b[36m 99\u001b[0m of Set \u001b[36m 99 \u001b[0m | sao joao do paraiso\n"
     ]
    },
    {
     "data": {
      "text/html": [
       "<div>\n",
       "<style scoped>\n",
       "    .dataframe tbody tr th:only-of-type {\n",
       "        vertical-align: middle;\n",
       "    }\n",
       "\n",
       "    .dataframe tbody tr th {\n",
       "        vertical-align: top;\n",
       "    }\n",
       "\n",
       "    .dataframe thead th {\n",
       "        text-align: right;\n",
       "    }\n",
       "</style>\n",
       "<table border=\"1\" class=\"dataframe\">\n",
       "  <thead>\n",
       "    <tr style=\"text-align: right;\">\n",
       "      <th></th>\n",
       "      <th>City</th>\n",
       "      <th>Cloudiness</th>\n",
       "      <th>Country</th>\n",
       "      <th>Date</th>\n",
       "      <th>Humidity</th>\n",
       "      <th>Lat</th>\n",
       "      <th>Lng</th>\n",
       "      <th>Max Temp</th>\n",
       "      <th>Wind Speed</th>\n",
       "    </tr>\n",
       "  </thead>\n",
       "  <tbody>\n",
       "    <tr>\n",
       "      <th>0</th>\n",
       "      <td>Mountain Home</td>\n",
       "      <td>20</td>\n",
       "      <td>US</td>\n",
       "      <td>1583852889</td>\n",
       "      <td>100</td>\n",
       "      <td>43.13</td>\n",
       "      <td>-115.69</td>\n",
       "      <td>275.93</td>\n",
       "      <td>0.85</td>\n",
       "    </tr>\n",
       "    <tr>\n",
       "      <th>1</th>\n",
       "      <td>Chokurdakh</td>\n",
       "      <td>0</td>\n",
       "      <td>RU</td>\n",
       "      <td>1583852669</td>\n",
       "      <td>93</td>\n",
       "      <td>70.63</td>\n",
       "      <td>147.92</td>\n",
       "      <td>237.41</td>\n",
       "      <td>1.63</td>\n",
       "    </tr>\n",
       "    <tr>\n",
       "      <th>2</th>\n",
       "      <td>Mezen'</td>\n",
       "      <td>100</td>\n",
       "      <td>RU</td>\n",
       "      <td>1583852956</td>\n",
       "      <td>89</td>\n",
       "      <td>65.85</td>\n",
       "      <td>44.24</td>\n",
       "      <td>274.71</td>\n",
       "      <td>5.67</td>\n",
       "    </tr>\n",
       "    <tr>\n",
       "      <th>3</th>\n",
       "      <td>Ushuaia</td>\n",
       "      <td>20</td>\n",
       "      <td>AR</td>\n",
       "      <td>1583852728</td>\n",
       "      <td>70</td>\n",
       "      <td>-54.80</td>\n",
       "      <td>-68.30</td>\n",
       "      <td>282.15</td>\n",
       "      <td>1.40</td>\n",
       "    </tr>\n",
       "    <tr>\n",
       "      <th>4</th>\n",
       "      <td>Butaritari</td>\n",
       "      <td>100</td>\n",
       "      <td>KI</td>\n",
       "      <td>1583852673</td>\n",
       "      <td>78</td>\n",
       "      <td>3.07</td>\n",
       "      <td>172.79</td>\n",
       "      <td>301.91</td>\n",
       "      <td>7.53</td>\n",
       "    </tr>\n",
       "    <tr>\n",
       "      <th>...</th>\n",
       "      <td>...</td>\n",
       "      <td>...</td>\n",
       "      <td>...</td>\n",
       "      <td>...</td>\n",
       "      <td>...</td>\n",
       "      <td>...</td>\n",
       "      <td>...</td>\n",
       "      <td>...</td>\n",
       "      <td>...</td>\n",
       "    </tr>\n",
       "    <tr>\n",
       "      <th>83</th>\n",
       "      <td>Tanabe</td>\n",
       "      <td>27</td>\n",
       "      <td>JP</td>\n",
       "      <td>1583852972</td>\n",
       "      <td>81</td>\n",
       "      <td>33.73</td>\n",
       "      <td>135.37</td>\n",
       "      <td>287.04</td>\n",
       "      <td>1.34</td>\n",
       "    </tr>\n",
       "    <tr>\n",
       "      <th>84</th>\n",
       "      <td>Shache</td>\n",
       "      <td>94</td>\n",
       "      <td>CN</td>\n",
       "      <td>1583852972</td>\n",
       "      <td>31</td>\n",
       "      <td>38.42</td>\n",
       "      <td>77.24</td>\n",
       "      <td>281.31</td>\n",
       "      <td>4.67</td>\n",
       "    </tr>\n",
       "    <tr>\n",
       "      <th>85</th>\n",
       "      <td>Bad Kissingen</td>\n",
       "      <td>100</td>\n",
       "      <td>DE</td>\n",
       "      <td>1583852826</td>\n",
       "      <td>93</td>\n",
       "      <td>50.20</td>\n",
       "      <td>10.08</td>\n",
       "      <td>280.93</td>\n",
       "      <td>4.47</td>\n",
       "    </tr>\n",
       "    <tr>\n",
       "      <th>86</th>\n",
       "      <td>San Patricio</td>\n",
       "      <td>20</td>\n",
       "      <td>MX</td>\n",
       "      <td>1583852972</td>\n",
       "      <td>78</td>\n",
       "      <td>19.22</td>\n",
       "      <td>-104.70</td>\n",
       "      <td>298.15</td>\n",
       "      <td>2.60</td>\n",
       "    </tr>\n",
       "    <tr>\n",
       "      <th>87</th>\n",
       "      <td>São João do Paraíso</td>\n",
       "      <td>84</td>\n",
       "      <td>BR</td>\n",
       "      <td>1583852973</td>\n",
       "      <td>65</td>\n",
       "      <td>-15.31</td>\n",
       "      <td>-42.01</td>\n",
       "      <td>299.61</td>\n",
       "      <td>2.08</td>\n",
       "    </tr>\n",
       "  </tbody>\n",
       "</table>\n",
       "<p>88 rows × 9 columns</p>\n",
       "</div>"
      ],
      "text/plain": [
       "                   City  Cloudiness Country        Date  Humidity    Lat  \\\n",
       "0         Mountain Home          20      US  1583852889       100  43.13   \n",
       "1            Chokurdakh           0      RU  1583852669        93  70.63   \n",
       "2                Mezen'         100      RU  1583852956        89  65.85   \n",
       "3               Ushuaia          20      AR  1583852728        70 -54.80   \n",
       "4            Butaritari         100      KI  1583852673        78   3.07   \n",
       "..                  ...         ...     ...         ...       ...    ...   \n",
       "83               Tanabe          27      JP  1583852972        81  33.73   \n",
       "84               Shache          94      CN  1583852972        31  38.42   \n",
       "85        Bad Kissingen         100      DE  1583852826        93  50.20   \n",
       "86         San Patricio          20      MX  1583852972        78  19.22   \n",
       "87  São João do Paraíso          84      BR  1583852973        65 -15.31   \n",
       "\n",
       "       Lng  Max Temp  Wind Speed  \n",
       "0  -115.69    275.93        0.85  \n",
       "1   147.92    237.41        1.63  \n",
       "2    44.24    274.71        5.67  \n",
       "3   -68.30    282.15        1.40  \n",
       "4   172.79    301.91        7.53  \n",
       "..     ...       ...         ...  \n",
       "83  135.37    287.04        1.34  \n",
       "84   77.24    281.31        4.67  \n",
       "85   10.08    280.93        4.47  \n",
       "86 -104.70    298.15        2.60  \n",
       "87  -42.01    299.61        2.08  \n",
       "\n",
       "[88 rows x 9 columns]"
      ]
     },
     "execution_count": 5,
     "metadata": {},
     "output_type": "execute_result"
    }
   ],
   "source": [
    "column_names = ['City','Cloudiness','Country',\n",
    "                'Date','Humidity','Lat','Lng',\n",
    "                'Max Temp','Wind Speed']\n",
    "\n",
    "weather = []\n",
    "\n",
    "print('Beginning Data Retrieval')\n",
    "print(\"------------------------------\")\n",
    "for i in range(0, 100):\n",
    "    url=\"http://api.openweathermap.org/data/2.5/weather?q=\"+cities[i]+\"&appid=283a9319d8bc008a581bb0b88d702293\"\n",
    "    #print(url)\n",
    "    \n",
    "    try: \n",
    "        response = requests.get(url).json()\n",
    "        #print(f\"Processing data for {response['name']} \\t \\t city number: {response['id']}\")\n",
    "        print(\"Processing Record \\033[36m {0}\\033[0m of Set \\033[36m {1} \\033[0m | {2}\".format(i, i, cities[i]))\n",
    "#     weather.append([response['id'], response['name'], response['clouds']['all'], \n",
    "#                     response['sys']['country'], \n",
    "#                     response['dt'], response['main']['humidity'], response['coord']['lat'], \n",
    "#                     response['coord']['lon'], response['main']['temp_max'], \n",
    "#                     response['wind']['speed']])\n",
    "    \n",
    "        weather.append([response['name'], response['clouds']['all'], \n",
    "                    response['sys']['country'], \n",
    "                    response['dt'], response['main']['humidity'], response['coord']['lat'], \n",
    "                    response['coord']['lon'], response['main']['temp_max'], \n",
    "                    response['wind']['speed']])\n",
    "    except:\n",
    "        print('City \\033[1m not \\033[0m found. Skipping...')\n",
    "# for row in weather:\n",
    "#     print(row)\n",
    "\n",
    "df = pd.DataFrame(weather, columns=column_names)\n",
    "df\n"
   ]
  },
  {
   "cell_type": "code",
   "execution_count": null,
   "metadata": {},
   "outputs": [],
   "source": []
  },
  {
   "cell_type": "markdown",
   "metadata": {},
   "source": [
    "### Convert Raw Data to DataFrame\n",
    "* Export the city data into a .csv.\n",
    "* Display the DataFrame"
   ]
  },
  {
   "cell_type": "code",
   "execution_count": 6,
   "metadata": {},
   "outputs": [
    {
     "data": {
      "text/html": [
       "<div>\n",
       "<style scoped>\n",
       "    .dataframe tbody tr th:only-of-type {\n",
       "        vertical-align: middle;\n",
       "    }\n",
       "\n",
       "    .dataframe tbody tr th {\n",
       "        vertical-align: top;\n",
       "    }\n",
       "\n",
       "    .dataframe thead th {\n",
       "        text-align: right;\n",
       "    }\n",
       "</style>\n",
       "<table border=\"1\" class=\"dataframe\">\n",
       "  <thead>\n",
       "    <tr style=\"text-align: right;\">\n",
       "      <th></th>\n",
       "      <th>City</th>\n",
       "      <th>Cloudiness</th>\n",
       "      <th>Country</th>\n",
       "      <th>Date</th>\n",
       "      <th>Humidity</th>\n",
       "      <th>Lat</th>\n",
       "      <th>Lng</th>\n",
       "      <th>Max Temp</th>\n",
       "      <th>Wind Speed</th>\n",
       "    </tr>\n",
       "  </thead>\n",
       "  <tbody>\n",
       "    <tr>\n",
       "      <th>0</th>\n",
       "      <td>Mountain Home</td>\n",
       "      <td>20</td>\n",
       "      <td>US</td>\n",
       "      <td>1583852889</td>\n",
       "      <td>100</td>\n",
       "      <td>43.13</td>\n",
       "      <td>-115.69</td>\n",
       "      <td>275.93</td>\n",
       "      <td>0.85</td>\n",
       "    </tr>\n",
       "    <tr>\n",
       "      <th>1</th>\n",
       "      <td>Chokurdakh</td>\n",
       "      <td>0</td>\n",
       "      <td>RU</td>\n",
       "      <td>1583852669</td>\n",
       "      <td>93</td>\n",
       "      <td>70.63</td>\n",
       "      <td>147.92</td>\n",
       "      <td>237.41</td>\n",
       "      <td>1.63</td>\n",
       "    </tr>\n",
       "    <tr>\n",
       "      <th>2</th>\n",
       "      <td>Mezen'</td>\n",
       "      <td>100</td>\n",
       "      <td>RU</td>\n",
       "      <td>1583852956</td>\n",
       "      <td>89</td>\n",
       "      <td>65.85</td>\n",
       "      <td>44.24</td>\n",
       "      <td>274.71</td>\n",
       "      <td>5.67</td>\n",
       "    </tr>\n",
       "    <tr>\n",
       "      <th>3</th>\n",
       "      <td>Ushuaia</td>\n",
       "      <td>20</td>\n",
       "      <td>AR</td>\n",
       "      <td>1583852728</td>\n",
       "      <td>70</td>\n",
       "      <td>-54.80</td>\n",
       "      <td>-68.30</td>\n",
       "      <td>282.15</td>\n",
       "      <td>1.40</td>\n",
       "    </tr>\n",
       "    <tr>\n",
       "      <th>4</th>\n",
       "      <td>Butaritari</td>\n",
       "      <td>100</td>\n",
       "      <td>KI</td>\n",
       "      <td>1583852673</td>\n",
       "      <td>78</td>\n",
       "      <td>3.07</td>\n",
       "      <td>172.79</td>\n",
       "      <td>301.91</td>\n",
       "      <td>7.53</td>\n",
       "    </tr>\n",
       "    <tr>\n",
       "      <th>...</th>\n",
       "      <td>...</td>\n",
       "      <td>...</td>\n",
       "      <td>...</td>\n",
       "      <td>...</td>\n",
       "      <td>...</td>\n",
       "      <td>...</td>\n",
       "      <td>...</td>\n",
       "      <td>...</td>\n",
       "      <td>...</td>\n",
       "    </tr>\n",
       "    <tr>\n",
       "      <th>83</th>\n",
       "      <td>Tanabe</td>\n",
       "      <td>27</td>\n",
       "      <td>JP</td>\n",
       "      <td>1583852972</td>\n",
       "      <td>81</td>\n",
       "      <td>33.73</td>\n",
       "      <td>135.37</td>\n",
       "      <td>287.04</td>\n",
       "      <td>1.34</td>\n",
       "    </tr>\n",
       "    <tr>\n",
       "      <th>84</th>\n",
       "      <td>Shache</td>\n",
       "      <td>94</td>\n",
       "      <td>CN</td>\n",
       "      <td>1583852972</td>\n",
       "      <td>31</td>\n",
       "      <td>38.42</td>\n",
       "      <td>77.24</td>\n",
       "      <td>281.31</td>\n",
       "      <td>4.67</td>\n",
       "    </tr>\n",
       "    <tr>\n",
       "      <th>85</th>\n",
       "      <td>Bad Kissingen</td>\n",
       "      <td>100</td>\n",
       "      <td>DE</td>\n",
       "      <td>1583852826</td>\n",
       "      <td>93</td>\n",
       "      <td>50.20</td>\n",
       "      <td>10.08</td>\n",
       "      <td>280.93</td>\n",
       "      <td>4.47</td>\n",
       "    </tr>\n",
       "    <tr>\n",
       "      <th>86</th>\n",
       "      <td>San Patricio</td>\n",
       "      <td>20</td>\n",
       "      <td>MX</td>\n",
       "      <td>1583852972</td>\n",
       "      <td>78</td>\n",
       "      <td>19.22</td>\n",
       "      <td>-104.70</td>\n",
       "      <td>298.15</td>\n",
       "      <td>2.60</td>\n",
       "    </tr>\n",
       "    <tr>\n",
       "      <th>87</th>\n",
       "      <td>São João do Paraíso</td>\n",
       "      <td>84</td>\n",
       "      <td>BR</td>\n",
       "      <td>1583852973</td>\n",
       "      <td>65</td>\n",
       "      <td>-15.31</td>\n",
       "      <td>-42.01</td>\n",
       "      <td>299.61</td>\n",
       "      <td>2.08</td>\n",
       "    </tr>\n",
       "  </tbody>\n",
       "</table>\n",
       "<p>88 rows × 9 columns</p>\n",
       "</div>"
      ],
      "text/plain": [
       "                   City  Cloudiness Country        Date  Humidity    Lat  \\\n",
       "0         Mountain Home          20      US  1583852889       100  43.13   \n",
       "1            Chokurdakh           0      RU  1583852669        93  70.63   \n",
       "2                Mezen'         100      RU  1583852956        89  65.85   \n",
       "3               Ushuaia          20      AR  1583852728        70 -54.80   \n",
       "4            Butaritari         100      KI  1583852673        78   3.07   \n",
       "..                  ...         ...     ...         ...       ...    ...   \n",
       "83               Tanabe          27      JP  1583852972        81  33.73   \n",
       "84               Shache          94      CN  1583852972        31  38.42   \n",
       "85        Bad Kissingen         100      DE  1583852826        93  50.20   \n",
       "86         San Patricio          20      MX  1583852972        78  19.22   \n",
       "87  São João do Paraíso          84      BR  1583852973        65 -15.31   \n",
       "\n",
       "       Lng  Max Temp  Wind Speed  \n",
       "0  -115.69    275.93        0.85  \n",
       "1   147.92    237.41        1.63  \n",
       "2    44.24    274.71        5.67  \n",
       "3   -68.30    282.15        1.40  \n",
       "4   172.79    301.91        7.53  \n",
       "..     ...       ...         ...  \n",
       "83  135.37    287.04        1.34  \n",
       "84   77.24    281.31        4.67  \n",
       "85   10.08    280.93        4.47  \n",
       "86 -104.70    298.15        2.60  \n",
       "87  -42.01    299.61        2.08  \n",
       "\n",
       "[88 rows x 9 columns]"
      ]
     },
     "execution_count": 6,
     "metadata": {},
     "output_type": "execute_result"
    }
   ],
   "source": [
    "df.to_csv (output_data_file, header=True)  \n",
    "df"
   ]
  },
  {
   "cell_type": "code",
   "execution_count": null,
   "metadata": {},
   "outputs": [],
   "source": []
  },
  {
   "cell_type": "markdown",
   "metadata": {},
   "source": [
    "### Plotting the Data\n",
    "* Use proper labeling of the plots using plot titles (including date of analysis) and axes labels.\n",
    "* Save the plotted figures as .pngs."
   ]
  },
  {
   "cell_type": "markdown",
   "metadata": {},
   "source": [
    "#### Latitude vs. Temperature Plot"
   ]
  },
  {
   "cell_type": "code",
   "execution_count": 7,
   "metadata": {},
   "outputs": [
    {
     "data": {
      "image/png": "[encoded data removed]",
      "text/plain": [
       "<Figure size 432x288 with 1 Axes>"
      ]
     },
     "metadata": {
      "needs_background": "light"
     },
     "output_type": "display_data"
    }
   ],
   "source": [
    "ax1 = df.plot.scatter(x='Lat',\n",
    "                      y='Max Temp',\n",
    "                      c='DarkBlue')"
   ]
  },
  {
   "cell_type": "code",
   "execution_count": null,
   "metadata": {
    "scrolled": true
   },
   "outputs": [],
   "source": []
  },
  {
   "cell_type": "markdown",
   "metadata": {},
   "source": [
    "#### Latitude vs. Humidity Plot"
   ]
  },
  {
   "cell_type": "code",
   "execution_count": 8,
   "metadata": {},
   "outputs": [
    {
     "data": {
      "image/png": "[encoded data removed]",
      "text/plain": [
       "<Figure size 432x288 with 1 Axes>"
      ]
     },
     "metadata": {
      "needs_background": "light"
     },
     "output_type": "display_data"
    }
   ],
   "source": [
    "ax1 = df.plot.scatter(x='Lat',\n",
    "                      y='Humidity',\n",
    "                      c='DarkBlue')"
   ]
  },
  {
   "cell_type": "code",
   "execution_count": null,
   "metadata": {},
   "outputs": [],
   "source": []
  },
  {
   "cell_type": "markdown",
   "metadata": {},
   "source": [
    "#### Latitude vs. Cloudiness Plot"
   ]
  },
  {
   "cell_type": "code",
   "execution_count": 9,
   "metadata": {},
   "outputs": [
    {
     "data": {
      "image/png": "[encoded data removed]",
      "text/plain": [
       "<Figure size 432x288 with 1 Axes>"
      ]
     },
     "metadata": {
      "needs_background": "light"
     },
     "output_type": "display_data"
    }
   ],
   "source": [
    "ax1 = df.plot.scatter(x='Lat',\n",
    "                      y='Cloudiness',\n",
    "                      c='DarkBlue')"
   ]
  },
  {
   "cell_type": "code",
   "execution_count": null,
   "metadata": {},
   "outputs": [],
   "source": []
  },
  {
   "cell_type": "markdown",
   "metadata": {},
   "source": [
    "#### Latitude vs. Wind Speed Plot"
   ]
  },
  {
   "cell_type": "code",
   "execution_count": 10,
   "metadata": {},
   "outputs": [
    {
     "data": {
      "image/png": "[encoded data removed]",
      "text/plain": [
       "<Figure size 432x288 with 1 Axes>"
      ]
     },
     "metadata": {
      "needs_background": "light"
     },
     "output_type": "display_data"
    }
   ],
   "source": [
    "ax1 = df.plot.scatter(x='Lat',\n",
    "                      y='Wind Speed',\n",
    "                      c='DarkBlue')"
   ]
  },
  {
   "cell_type": "code",
   "execution_count": null,
   "metadata": {},
   "outputs": [],
   "source": []
  },
  {
   "cell_type": "markdown",
   "metadata": {},
   "source": [
    "## Linear Regression"
   ]
  },
  {
   "cell_type": "code",
   "execution_count": 11,
   "metadata": {},
   "outputs": [],
   "source": [
    "# OPTIONAL: Create a function to create Linear Regression plots\n",
    "\n",
    "# Calculate the correlation coefficient and linear regression \n",
    "# model for mouse weight and average tumor volume for the Capomulin regimenn\n",
    "# Use sci pi to the the pearson r measure of correlation (r value)\n",
    "\n",
    "def plot_linear_regression(x_values, y_values, x_label, y_label):\n",
    "    #correlation = st.pearsonr(x_values, y_values)\n",
    "    # Pretty print the results\n",
    "    \n",
    "    # Do a line regression on x and y values to calculate values for the line\n",
    "    (slope, intercept, rvalue, pvalue, stderr) = linregress(x_values, y_values)\n",
    "    regress_values = x_values * slope + intercept\n",
    "    \n",
    "    print('The correlation between ' + x_label + \n",
    "      '\\033[1m and \\033[0m' +\n",
    "      'the ' + y_label +\n",
    "      '\\033[1m is \\033[0m' + \n",
    "       f'\\033[36m {rvalue:2.2f} \\033[0m')\n",
    "    \n",
    "    print('The r-squared' + '\\033[1m is \\033[0m' + f'\\033[36m {rvalue:2.6f} \\033[0m')\n",
    "\n",
    "\n",
    "\n",
    "    # Create a scatter plot of weight versus average tumor volume\n",
    "    plt.scatter(x_values,y_values)\n",
    "    # Add a red line to indicate the correlation\n",
    "    plt.plot(x_values,regress_values,\"r-\")\n",
    "    # Create labels for the axes\n",
    "    plt.xlabel(x_label)\n",
    "    plt.ylabel(y_label)\n",
    "    plt.title(x_label+\" Versus \"+ y_label)\n",
    "\n",
    "    # Show the plot\n",
    "    plt.show()"
   ]
  },
  {
   "cell_type": "code",
   "execution_count": 12,
   "metadata": {},
   "outputs": [],
   "source": [
    "# Create Northern and Southern Hemisphere DataFrames\n",
    "northern_df = df[df['Lat'] > 0] \n",
    "southern_df = df[df['Lat'] <= 0]"
   ]
  },
  {
   "cell_type": "markdown",
   "metadata": {},
   "source": [
    "####  Northern Hemisphere - Max Temp vs. Latitude Linear Regression"
   ]
  },
  {
   "cell_type": "code",
   "execution_count": 13,
   "metadata": {},
   "outputs": [
    {
     "name": "stdout",
     "output_type": "stream",
     "text": [
      "The correlation between Max Temp\u001b[1m and \u001b[0mthe Latitude\u001b[1m is \u001b[0m\u001b[36m -0.84 \u001b[0m\n",
      "The r-squared\u001b[1m is \u001b[0m\u001b[36m -0.836167 \u001b[0m\n"
     ]
    },
    {
     "data": {
      "image/png": "[encoded data removed]",
      "text/plain": [
       "<Figure size 432x288 with 1 Axes>"
      ]
     },
     "metadata": {
      "needs_background": "light"
     },
     "output_type": "display_data"
    }
   ],
   "source": [
    "plot_linear_regression(northern_df['Max Temp'], northern_df['Lat'], \"Max Temp\", \"Latitude\")"
   ]
  },
  {
   "cell_type": "code",
   "execution_count": null,
   "metadata": {},
   "outputs": [],
   "source": []
  },
  {
   "cell_type": "markdown",
   "metadata": {},
   "source": [
    "####  Southern Hemisphere - Max Temp vs. Latitude Linear Regression"
   ]
  },
  {
   "cell_type": "code",
   "execution_count": 14,
   "metadata": {},
   "outputs": [
    {
     "name": "stdout",
     "output_type": "stream",
     "text": [
      "The correlation between Max Temp\u001b[1m and \u001b[0mthe Latitude\u001b[1m is \u001b[0m\u001b[36m 0.79 \u001b[0m\n",
      "The r-squared\u001b[1m is \u001b[0m\u001b[36m 0.791700 \u001b[0m\n"
     ]
    },
    {
     "data": {
      "image/png": "[encoded data removed]",
      "text/plain": [
       "<Figure size 432x288 with 1 Axes>"
      ]
     },
     "metadata": {
      "needs_background": "light"
     },
     "output_type": "display_data"
    }
   ],
   "source": [
    "plot_linear_regression(southern_df['Max Temp'], southern_df['Lat'], \"Max Temp\", \"Latitude\")"
   ]
  },
  {
   "cell_type": "markdown",
   "metadata": {},
   "source": [
    "####  Northern Hemisphere - Humidity (%) vs. Latitude Linear Regression"
   ]
  },
  {
   "cell_type": "code",
   "execution_count": 15,
   "metadata": {},
   "outputs": [
    {
     "data": {
      "text/plain": [
       "Index(['City', 'Cloudiness', 'Country', 'Date', 'Humidity', 'Lat', 'Lng',\n",
       "       'Max Temp', 'Wind Speed'],\n",
       "      dtype='object')"
      ]
     },
     "execution_count": 15,
     "metadata": {},
     "output_type": "execute_result"
    }
   ],
   "source": [
    "northern_df.columns"
   ]
  },
  {
   "cell_type": "code",
   "execution_count": 16,
   "metadata": {},
   "outputs": [
    {
     "name": "stdout",
     "output_type": "stream",
     "text": [
      "The correlation between Humidity\u001b[1m and \u001b[0mthe Latitude\u001b[1m is \u001b[0m\u001b[36m 0.29 \u001b[0m\n",
      "The r-squared\u001b[1m is \u001b[0m\u001b[36m 0.294678 \u001b[0m\n"
     ]
    },
    {
     "data": {
      "image/png": "[encoded data removed]",
      "text/plain": [
       "<Figure size 432x288 with 1 Axes>"
      ]
     },
     "metadata": {
      "needs_background": "light"
     },
     "output_type": "display_data"
    }
   ],
   "source": [
    "plot_linear_regression(northern_df['Humidity'], northern_df['Lat'], \"Humidity\", \"Latitude\")"
   ]
  },
  {
   "cell_type": "code",
   "execution_count": null,
   "metadata": {},
   "outputs": [],
   "source": []
  },
  {
   "cell_type": "markdown",
   "metadata": {},
   "source": [
    "####  Southern Hemisphere - Humidity (%) vs. Latitude Linear Regression"
   ]
  },
  {
   "cell_type": "code",
   "execution_count": 17,
   "metadata": {},
   "outputs": [
    {
     "name": "stdout",
     "output_type": "stream",
     "text": [
      "The correlation between Humidity\u001b[1m and \u001b[0mthe Latitude\u001b[1m is \u001b[0m\u001b[36m 0.02 \u001b[0m\n",
      "The r-squared\u001b[1m is \u001b[0m\u001b[36m 0.023679 \u001b[0m\n"
     ]
    },
    {
     "data": {
      "image/png": "[encoded data removed]",
      "text/plain": [
       "<Figure size 432x288 with 1 Axes>"
      ]
     },
     "metadata": {
      "needs_background": "light"
     },
     "output_type": "display_data"
    }
   ],
   "source": [
    "plot_linear_regression(southern_df['Humidity'], southern_df['Lat'], \"Humidity\", \"Latitude\")"
   ]
  },
  {
   "cell_type": "code",
   "execution_count": null,
   "metadata": {},
   "outputs": [],
   "source": []
  },
  {
   "cell_type": "markdown",
   "metadata": {},
   "source": [
    "####  Northern Hemisphere - Cloudiness (%) vs. Latitude Linear Regression"
   ]
  },
  {
   "cell_type": "code",
   "execution_count": 18,
   "metadata": {},
   "outputs": [
    {
     "name": "stdout",
     "output_type": "stream",
     "text": [
      "The correlation between Cloudiness\u001b[1m and \u001b[0mthe Latitude\u001b[1m is \u001b[0m\u001b[36m 0.28 \u001b[0m\n",
      "The r-squared\u001b[1m is \u001b[0m\u001b[36m 0.281864 \u001b[0m\n"
     ]
    },
    {
     "data": {
      "image/png": "[encoded data removed]",
      "text/plain": [
       "<Figure size 432x288 with 1 Axes>"
      ]
     },
     "metadata": {
      "needs_background": "light"
     },
     "output_type": "display_data"
    }
   ],
   "source": [
    "plot_linear_regression(northern_df['Cloudiness'], northern_df['Lat'], \"Cloudiness\", \"Latitude\")"
   ]
  },
  {
   "cell_type": "code",
   "execution_count": null,
   "metadata": {},
   "outputs": [],
   "source": []
  },
  {
   "cell_type": "markdown",
   "metadata": {},
   "source": [
    "####  Southern Hemisphere - Cloudiness (%) vs. Latitude Linear Regression"
   ]
  },
  {
   "cell_type": "code",
   "execution_count": 19,
   "metadata": {},
   "outputs": [
    {
     "name": "stdout",
     "output_type": "stream",
     "text": [
      "The correlation between Cloudiness\u001b[1m and \u001b[0mthe Latitude\u001b[1m is \u001b[0m\u001b[36m 0.18 \u001b[0m\n",
      "The r-squared\u001b[1m is \u001b[0m\u001b[36m 0.184643 \u001b[0m\n"
     ]
    },
    {
     "data": {
      "image/png": "[encoded data removed]",
      "text/plain": [
       "<Figure size 432x288 with 1 Axes>"
      ]
     },
     "metadata": {
      "needs_background": "light"
     },
     "output_type": "display_data"
    }
   ],
   "source": [
    "plot_linear_regression(southern_df['Cloudiness'], southern_df['Lat'], \"Cloudiness\", \"Latitude\")"
   ]
  },
  {
   "cell_type": "code",
   "execution_count": null,
   "metadata": {},
   "outputs": [],
   "source": []
  },
  {
   "cell_type": "markdown",
   "metadata": {},
   "source": [
    "####  Northern Hemisphere - Wind Speed (mph) vs. Latitude Linear Regression"
   ]
  },
  {
   "cell_type": "code",
   "execution_count": 20,
   "metadata": {},
   "outputs": [
    {
     "name": "stdout",
     "output_type": "stream",
     "text": [
      "The correlation between Wind Speed\u001b[1m and \u001b[0mthe Latitude\u001b[1m is \u001b[0m\u001b[36m 0.03 \u001b[0m\n",
      "The r-squared\u001b[1m is \u001b[0m\u001b[36m 0.030945 \u001b[0m\n"
     ]
    },
    {
     "data": {
      "image/png": "[encoded data removed]",
      "text/plain": [
       "<Figure size 432x288 with 1 Axes>"
      ]
     },
     "metadata": {
      "needs_background": "light"
     },
     "output_type": "display_data"
    }
   ],
   "source": [
    "plot_linear_regression(northern_df['Wind Speed'], northern_df['Lat'], \"Wind Speed\", \"Latitude\")"
   ]
  },
  {
   "cell_type": "code",
   "execution_count": null,
   "metadata": {},
   "outputs": [],
   "source": []
  },
  {
   "cell_type": "markdown",
   "metadata": {},
   "source": [
    "####  Southern Hemisphere - Wind Speed (mph) vs. Latitude Linear Regression"
   ]
  },
  {
   "cell_type": "code",
   "execution_count": 21,
   "metadata": {},
   "outputs": [
    {
     "name": "stdout",
     "output_type": "stream",
     "text": [
      "The correlation between Wind Speed\u001b[1m and \u001b[0mthe Latitude\u001b[1m is \u001b[0m\u001b[36m 0.05 \u001b[0m\n",
      "The r-squared\u001b[1m is \u001b[0m\u001b[36m 0.045942 \u001b[0m\n"
     ]
    },
    {
     "data": {
      "image/png": "[encoded data removed]",
      "text/plain": [
       "<Figure size 432x288 with 1 Axes>"
      ]
     },
     "metadata": {
      "needs_background": "light"
     },
     "output_type": "display_data"
    }
   ],
   "source": [
    "plot_linear_regression(southern_df['Wind Speed'], southern_df['Lat'], \"Wind Speed\", \"Latitude\")"
   ]
  },
  {
   "cell_type": "code",
   "execution_count": null,
   "metadata": {},
   "outputs": [],
   "source": []
  }
 ],
 "metadata": {
  "anaconda-cloud": {},
  "kernel_info": {
   "name": "python3"
  },
  "kernelspec": {
   "display_name": "Python 3",
   "language": "python",
   "name": "python3"
  },
  "language_info": {
   "codemirror_mode": {
    "name": "ipython",
    "version": 3
   },
   "file_extension": ".py",
   "mimetype": "text/x-python",
   "name": "python",
   "nbconvert_exporter": "python",
   "pygments_lexer": "ipython3",
   "version": "3.7.6"
  },
  "latex_envs": {
   "LaTeX_envs_menu_present": true,
   "autoclose": false,
   "autocomplete": true,
   "bibliofile": "biblio.bib",
   "cite_by": "apalike",
   "current_citInitial": 1,
   "eqLabelWithNumbers": true,
   "eqNumInitial": 1,
   "hotkeys": {
    "equation": "Ctrl-E",
    "itemize": "Ctrl-I"
   },
   "labels_anchors": false,
   "latex_user_defs": false,
   "report_style_numbering": false,
   "user_envs_cfg": false
  },
  "nteract": {
   "version": "0.12.3"
  }
 },
 "nbformat": 4,
 "nbformat_minor": 2
}
